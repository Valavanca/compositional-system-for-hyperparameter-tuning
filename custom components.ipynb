{
 "cells": [
  {
   "cell_type": "markdown",
   "metadata": {},
   "source": [
    "### Composition. Custom components"
   ]
  },
  {
   "cell_type": "code",
   "execution_count": 1,
   "metadata": {},
   "outputs": [],
   "source": [
    "import pygmo as pg\n",
    "import numpy as np\n",
    "import pandas as pd\n",
    "import matplotlib.pyplot as plt\n",
    "\n",
    "from sklearn.model_selection import train_test_split\n",
    "import plotly\n",
    "from plotly import graph_objs as go\n",
    "from plotly import tools\n",
    "import plotly.express as px\n",
    "from ipywidgets import interact\n",
    "\n",
    "from tools import samples"
   ]
  },
  {
   "cell_type": "code",
   "execution_count": 2,
   "metadata": {},
   "outputs": [],
   "source": [
    "# --- Problem\n",
    "\n",
    "udp = pg.zdt(prob_id=4, param=2)\n",
    "pro = pg.problem(udp)\n",
    "\n",
    "vectors = samples(pro, n=200)\n",
    "\n",
    "X = vectors.drop(['f1', 'f2'], axis=1)\n",
    "y = vectors[['f1','f2']]\n",
    "\n",
    "X_train, X_test, y_train, y_test = train_test_split(X, y, test_size=0.2)"
   ]
  },
  {
   "cell_type": "code",
   "execution_count": 3,
   "metadata": {},
   "outputs": [],
   "source": [
    "from composite import Leaf, Composite\n",
    "from sklearn.linear_model import LinearRegression\n",
    "import numpy as np\n",
    "\n",
    "# simple1 = Leaf(desc=\"a\")\n",
    "# simple2 = Leaf(desc=\"b\")\n",
    "# reg = LinearRegression()\n",
    "\n",
    "# branch = Composite()\n",
    "\n",
    "# branch.add(simple1)\n",
    "# branch.add(simple2)\n",
    "# branch.add(reg)\n",
    "\n",
    "# X = np.array([[1, 1], [1, 2], [2, 2], [2, 3]])\n",
    "# y = np.dot(X, np.array([1, 2])) + 3\n",
    "\n",
    "# dt = branch.fit(X, y)\n",
    "# # dt\n",
    "# dt.predict(np.array([[3, 5]]))"
   ]
  },
  {
   "cell_type": "code",
   "execution_count": 4,
   "metadata": {},
   "outputs": [],
   "source": [
    "# branch.get_params()"
   ]
  },
  {
   "cell_type": "markdown",
   "metadata": {},
   "source": [
    "## Combine a couple estimators in one pipeline"
   ]
  },
  {
   "cell_type": "code",
   "execution_count": 6,
   "metadata": {},
   "outputs": [
    {
     "data": {
      "text/plain": [
       "array([[ 0.47159091, 14.43788614],\n",
       "       [ 0.42288961, 17.18107683],\n",
       "       [ 0.5487013 , 35.1516413 ],\n",
       "       [ 0.47159091, 14.43788614],\n",
       "       [ 0.47159091, 14.43788614],\n",
       "       [ 0.52540107,  8.46282002],\n",
       "       [ 0.42288961, 17.18107683],\n",
       "       [ 0.52540107,  8.46282002],\n",
       "       [ 0.52540107,  8.46282002],\n",
       "       [ 0.52540107,  8.46282002],\n",
       "       [ 0.47159091, 14.43788614],\n",
       "       [ 0.52540107,  8.46282002],\n",
       "       [ 0.5487013 , 35.1516413 ],\n",
       "       [ 0.42288961, 17.18107683],\n",
       "       [ 0.42288961, 17.18107683],\n",
       "       [ 0.47159091, 14.43788614],\n",
       "       [ 0.5487013 , 35.1516413 ],\n",
       "       [ 0.52540107,  8.46282002],\n",
       "       [ 0.52540107,  8.46282002],\n",
       "       [ 0.81818182, 17.08030413],\n",
       "       [ 0.47159091, 14.43788614],\n",
       "       [ 0.52540107,  8.46282002],\n",
       "       [ 0.52540107,  8.46282002],\n",
       "       [ 0.52540107,  8.46282002],\n",
       "       [ 0.52540107,  8.46282002],\n",
       "       [ 0.42288961, 17.18107683],\n",
       "       [ 0.52540107,  8.46282002],\n",
       "       [ 0.42288961, 17.18107683],\n",
       "       [ 0.42288961, 17.18107683],\n",
       "       [ 0.56818182, 38.71594757],\n",
       "       [ 0.47159091, 14.43788614],\n",
       "       [ 0.52540107,  8.46282002],\n",
       "       [ 0.52540107,  8.46282002],\n",
       "       [ 0.42288961, 17.18107683],\n",
       "       [ 0.72727273, 10.18385708],\n",
       "       [ 0.59090909,  7.84928982],\n",
       "       [ 0.52540107,  8.46282002],\n",
       "       [ 0.36363636, 28.11105877],\n",
       "       [ 0.5487013 , 35.1516413 ],\n",
       "       [ 0.5487013 , 35.1516413 ]])"
      ]
     },
     "execution_count": 6,
     "metadata": {},
     "output_type": "execute_result"
    }
   ],
   "source": [
    "from sklearn.tree import DecisionTreeRegressor\n",
    "\n",
    "# X_train = X_train.drop(['rand1', 'rand2', 'rand3', 'rand4'], axis=1)\n",
    "\n",
    "regr = DecisionTreeRegressor(max_depth=5)\n",
    "\n",
    "regr.fit(X_train, y_train)\n",
    "\n",
    "y_pred = regr.predict(X_test)\n",
    "\n",
    "y_pred\n",
    "\n",
    "# regr.score(X_test, y_test)"
   ]
  }
 ],
 "metadata": {
  "kernelspec": {
   "display_name": "Python 3",
   "language": "python",
   "name": "python3"
  },
  "language_info": {
   "codemirror_mode": {
    "name": "ipython",
    "version": 3
   },
   "file_extension": ".py",
   "mimetype": "text/x-python",
   "name": "python",
   "nbconvert_exporter": "python",
   "pygments_lexer": "ipython3",
   "version": "3.7.3"
  }
 },
 "nbformat": 4,
 "nbformat_minor": 2
}

{
 "cells": [
  {
   "cell_type": "code",
   "execution_count": 1,
   "metadata": {},
   "outputs": [],
   "source": [
    "import os\n",
    "\n",
    "import openml\n",
    "import numpy as np\n",
    "from sklearn.pipeline import make_pipeline\n",
    "from sklearn.preprocessing import StandardScaler\n",
    "from sklearn.ensemble import RandomForestClassifier\n",
    "from sklearn.model_selection import cross_validate\n",
    "import pandas as pd \n",
    "from sklearn.preprocessing import StandardScaler\n",
    "from sklearn.compose import ColumnTransformer\n",
    "from sklearn.compose import make_column_selector, make_column_transformer\n",
    "from sklearn.preprocessing import OneHotEncoder\n",
    "from sklearn.ensemble import RandomForestClassifier\n",
    "from sklearn.gaussian_process import GaussianProcessRegressor\n",
    "import plotly.express as px\n",
    "import matplotlib.pyplot as plt\n",
    "import json\n",
    "from joblib import dump, load\n",
    "\n",
    "import category_encoders as ce\n",
    "import pygmo as pg\n",
    "\n",
    "# Random forest as a black-box function\n",
    "from black_box import RF_experiment, random_sample, psd_sample\n",
    "from surrogate.custom_gp_kernel import KERNEL_GPML"
   ]
  },
  {
   "cell_type": "code",
   "execution_count": 2,
   "metadata": {},
   "outputs": [
    {
     "data": {
      "text/plain": [
       "'/home/valavanca/Documents/hal/Diploma/src'"
      ]
     },
     "execution_count": 2,
     "metadata": {},
     "output_type": "execute_result"
    }
   ],
   "source": [
    "os.path.abspath('.')"
   ]
  },
  {
   "cell_type": "code",
   "execution_count": 6,
   "metadata": {},
   "outputs": [
    {
     "data": {
      "text/plain": [
       "[(1, 2, 0.0, 0.0, 0.0, 1, 10), (2, 120, 1.0, 0.5, 0.5, 2, 1000)]"
      ]
     },
     "execution_count": 6,
     "metadata": {},
     "output_type": "execute_result"
    }
   ],
   "source": [
    "with open('./randomforest-search-space.json', 'r') as File:\n",
    "    desc = json.loads(File.read())\n",
    "\n",
    "bounds = []\n",
    "# kv_desc = {p['name']: p for p in desc}\n",
    "for param in desc:\n",
    "    if 'categories' in param:\n",
    "        bounds.append(list(range(1, len(param['categories'])+1)))\n",
    "    else:\n",
    "        bounds.append(param['bounds'])\n",
    "\n",
    "list(zip(*bounds))"
   ]
  },
  {
   "cell_type": "code",
   "execution_count": 11,
   "metadata": {},
   "outputs": [
    {
     "data": {
      "text/plain": [
       "{'name': 'max_depth', 'type': 'integer', 'bounds': [2, 120], 'default': 50}"
      ]
     },
     "execution_count": 11,
     "metadata": {},
     "output_type": "execute_result"
    }
   ],
   "source": [
    "desc[1]"
   ]
  },
  {
   "cell_type": "code",
   "execution_count": 12,
   "metadata": {},
   "outputs": [
    {
     "data": {
      "text/plain": [
       "{'type': 'integer', 'default': 50}"
      ]
     },
     "execution_count": 12,
     "metadata": {},
     "output_type": "execute_result"
    }
   ],
   "source": [
    "dict((k, desc[1][k]) for k in ('type', 'default'))"
   ]
  },
  {
   "cell_type": "code",
   "execution_count": 6,
   "metadata": {},
   "outputs": [
    {
     "ename": "AttributeError",
     "evalue": "'pygmo.core.problem' object has no attribute 'get_results'",
     "output_type": "error",
     "traceback": [
      "\u001b[0;31m---------------------------------------------------------------------------\u001b[0m",
      "\u001b[0;31mAttributeError\u001b[0m                            Traceback (most recent call last)",
      "\u001b[0;32m<ipython-input-6-44fe706014d2>\u001b[0m in \u001b[0;36m<module>\u001b[0;34m\u001b[0m\n\u001b[0;32m----> 1\u001b[0;31m \u001b[0mprob\u001b[0m\u001b[0;34m.\u001b[0m\u001b[0mget_results\u001b[0m\u001b[0;34m(\u001b[0m\u001b[0;34m)\u001b[0m\u001b[0;34m\u001b[0m\u001b[0;34m\u001b[0m\u001b[0m\n\u001b[0m",
      "\u001b[0;31mAttributeError\u001b[0m: 'pygmo.core.problem' object has no attribute 'get_results'"
     ]
    }
   ],
   "source": [
    "prob.get_results()"
   ]
  },
  {
   "cell_type": "code",
   "execution_count": 8,
   "metadata": {},
   "outputs": [
    {
     "data": {
      "text/plain": [
       "Problem name: NSGA2 on RandomForestClassifier\n",
       "\tC++ class name: pybind11::object\n",
       "\n",
       "\tGlobal dimension:\t\t\t7\n",
       "\tInteger dimension:\t\t\t4\n",
       "\tFitness dimension:\t\t\t2\n",
       "\tNumber of objectives:\t\t\t2\n",
       "\tEquality constraints dimension:\t\t0\n",
       "\tInequality constraints dimension:\t0\n",
       "\tLower bounds: [0, 0, 0, 1, 2, ... ]\n",
       "\tUpper bounds: [1, 0.5, 0.5, 2, 120, ... ]\n",
       "\tHas batch fitness evaluation: false\n",
       "\n",
       "\tHas gradient: true\n",
       "\tUser implemented gradient sparsity: false\n",
       "\tExpected gradients: 14\n",
       "\tHas hessians: false\n",
       "\tUser implemented hessians sparsity: false\n",
       "\n",
       "\tFitness evaluations: 220\n",
       "\tGradient evaluations: 0\n",
       "\n",
       "\tThread safety: none\n",
       "\n",
       "Population size: 20\n",
       "\n",
       "List of individuals: \n",
       "#0:\n",
       "\tID:\t\t\t14458784842667483397\n",
       "\tDecision vector:\t[0.696415, 0.139708, 0.384556, 1, 99, ... ]\n",
       "\tFitness vector:\t\t[0.5, 0.0244979]\n",
       "#1:\n",
       "\tID:\t\t\t12649272187910216441\n",
       "\tDecision vector:\t[0.852705, 0.3943, 0.418585, 2, 99, ... ]\n",
       "\tFitness vector:\t\t[0.5, 0.0248077]\n",
       "#2:\n",
       "\tID:\t\t\t17929410209493335694\n",
       "\tDecision vector:\t[0.852705, 0.401436, 0.418585, 1, 99, ... ]\n",
       "\tFitness vector:\t\t[0.5, 0.0248892]\n",
       "#3:\n",
       "\tID:\t\t\t8199256428470942144\n",
       "\tDecision vector:\t[0.852705, 0.400946, 0.418585, 1, 99, ... ]\n",
       "\tFitness vector:\t\t[0.5, 0.024898]\n",
       "#4:\n",
       "\tID:\t\t\t12506176165043846508\n",
       "\tDecision vector:\t[0.852705, 0.284186, 0.418585, 2, 99, ... ]\n",
       "\tFitness vector:\t\t[0.5, 0.0249406]\n",
       "#5:\n",
       "\tID:\t\t\t7391833033821921666\n",
       "\tDecision vector:\t[0.852705, 0.3943, 0.418585, 2, 99, ... ]\n",
       "\tFitness vector:\t\t[0.5, 0.024948]\n",
       "#6:\n",
       "\tID:\t\t\t17471797628244149342\n",
       "\tDecision vector:\t[0.659195, 0.143494, 0.383154, 2, 99, ... ]\n",
       "\tFitness vector:\t\t[0.5, 0.0249813]\n",
       "#7:\n",
       "\tID:\t\t\t16665744463321131926\n",
       "\tDecision vector:\t[0.838017, 0.0900719, 0.41892, 1, 99, ... ]\n",
       "\tFitness vector:\t\t[0.5, 0.0249836]\n",
       "#8:\n",
       "\tID:\t\t\t6320074584857225222\n",
       "\tDecision vector:\t[0.852705, 0.0784747, 0.418677, 1, 11, ... ]\n",
       "\tFitness vector:\t\t[0.5, 0.0249905]\n",
       "#9:\n",
       "\tID:\t\t\t4382890098376898485\n",
       "\tDecision vector:\t[0.852705, 0.0708467, 0.418585, 2, 99, ... ]\n",
       "\tFitness vector:\t\t[0.5, 0.0250127]\n",
       "#10:\n",
       "\tID:\t\t\t9258732309063970967\n",
       "\tDecision vector:\t[0.868669, 0.283696, 0.416038, 1, 11, ... ]\n",
       "\tFitness vector:\t\t[0.5, 0.025025]\n",
       "#11:\n",
       "\tID:\t\t\t18127976211603509917\n",
       "\tDecision vector:\t[0.852705, 0.0822682, 0.418585, 1, 99, ... ]\n",
       "\tFitness vector:\t\t[0.5, 0.0250416]\n",
       "#12:\n",
       "\tID:\t\t\t4141809825277673687\n",
       "\tDecision vector:\t[0.868601, 0.359033, 0.325877, 1, 109, ... ]\n",
       "\tFitness vector:\t\t[0.5, 0.0250497]\n",
       "#13:\n",
       "\tID:\t\t\t12592418951518088028\n",
       "\tDecision vector:\t[0.850145, 0.354024, 0.41892, 1, 101, ... ]\n",
       "\tFitness vector:\t\t[0.5, 0.0250636]\n",
       "#14:\n",
       "\tID:\t\t\t1434121265498595653\n",
       "\tDecision vector:\t[0.852705, 0.283696, 0.418585, 2, 99, ... ]\n",
       "\tFitness vector:\t\t[0.5, 0.0250812]\n",
       "#15:\n",
       "\tID:\t\t\t16591134542049672963\n",
       "\tDecision vector:\t[0.84636, 0.139708, 0.416846, 1, 101, ... ]\n",
       "\tFitness vector:\t\t[0.5, 0.0251071]\n",
       "#16:\n",
       "\tID:\t\t\t5422461143615310104\n",
       "\tDecision vector:\t[0.852705, 0.0854557, 0.418441, 1, 99, ... ]\n",
       "\tFitness vector:\t\t[0.5, 0.0251074]\n",
       "#17:\n",
       "\tID:\t\t\t228456498017548021\n",
       "\tDecision vector:\t[0.852705, 0.284186, 0.418585, 2, 11, ... ]\n",
       "\tFitness vector:\t\t[0.5, 0.0251653]\n",
       "#18:\n",
       "\tID:\t\t\t4585095031919756503\n",
       "\tDecision vector:\t[0.852705, 0.0854557, 0.418441, 1, 101, ... ]\n",
       "\tFitness vector:\t\t[0.5, 0.0251846]\n",
       "#19:\n",
       "\tID:\t\t\t14847308361789867619\n",
       "\tDecision vector:\t[0.858416, 0.087538, 0.310915, 2, 99, ... ]\n",
       "\tFitness vector:\t\t[0.5, 0.0251944]"
      ]
     },
     "execution_count": 8,
     "metadata": {},
     "output_type": "execute_result"
    }
   ],
   "source": [
    "DATA_SET = 1049\n",
    "\n",
    "class RFProblem():\n",
    "\n",
    "    def __init__(self, dataset_num):\n",
    "        \n",
    "        path = os.path.abspath('.')\n",
    "        # --- describtion of random-forest(RF) parameters\n",
    "        with open(path + '/randomforest-search-space.json', 'r') as File:\n",
    "            params_description = json.loads(File.read())\n",
    "        self._encoder = load(path + '/encoder.joblib')\n",
    "\n",
    "        # DATA-SET\n",
    "        # --- get evaluation dataset\n",
    "        dataset = openml.datasets.get_dataset(dataset_num)\n",
    "        X, y, cat, atr = dataset.get_data(\n",
    "            dataset_format=\"array\",\n",
    "            target=dataset.default_target_attribute)\n",
    "\n",
    "        # --- scale samples\n",
    "        X = pd.DataFrame(X, columns=atr)\n",
    "        ct = make_column_transformer(\n",
    "            (StandardScaler(), make_column_selector(dtype_include=np.number)))\n",
    "        X = pd.DataFrame(ct.fit_transform(X), columns=atr)\n",
    "\n",
    "        self.X = X.values\n",
    "        self.y = y\n",
    "\n",
    "    def fitness(self, x):\n",
    "        PARAMS = ['min_samples_split', 'min_samples_leaf', 'min_weight_fraction_leaf',\n",
    "                  'criterion', 'max_depth', 'max_features', 'n_estimators']\n",
    "        x_enc = self._encoder.inverse_transform(\n",
    "            pd.DataFrame([x], columns=PARAMS))\n",
    "        x_enc['n_estimators'] = x_enc['n_estimators'].astype('int32')\n",
    "        param = x_enc.iloc[0].to_dict()\n",
    "\n",
    "        \n",
    "\n",
    "        clf = RandomForestClassifier(**param)\n",
    "        scores = cross_validate(clf,\n",
    "                                self.X,\n",
    "                                self.y,\n",
    "                                scoring=[\"f1\", \"roc_auc\"],\n",
    "                                cv=3)\n",
    "\n",
    "        for k, v in scores.items():\n",
    "            scores[k] = np.mean(v)\n",
    "\n",
    "        return [scores[obj] for obj in ['test_roc_auc', 'fit_time']]\n",
    "\n",
    "    def get_results(self):\n",
    "        return self.results_df\n",
    "\n",
    "    def get_nobj(self):\n",
    "        return 2\n",
    "\n",
    "    # Return bounds of decision variables\n",
    "    def get_bounds(self):\n",
    "        return ([0.0, 0.0, 0.0, 1.0, 2.0, 1.0, 10.0],\n",
    "                [1.0e+00, 5.0e-01, 5.0e-01, 2.0e+00, 1.2e+02, 2.0e+00, 1.0e+03])\n",
    "\n",
    "    # Integer Dimension\n",
    "    def get_nix(self):\n",
    "        return 4\n",
    "\n",
    "    def gradient(self, x):\n",
    "        return pg.estimate_gradient_h(lambda x: self.fitness(x), x)\n",
    "\n",
    "    # Return function name\n",
    "    def get_name(self):\n",
    "        return \"NSGA2 on RandomForestClassifier\"\n",
    "    \n",
    "prob = pg.problem(RFProblem(DATA_SET))\n",
    "\n",
    "\n",
    "# pop = pg.population(prob=prob, size=20)\n",
    "# final_pop = pg.algorithm(pg.nsga2(gen = 10)).evolve(pop)\n",
    "\n",
    "\n",
    "isl = pg.island(algo=pg.nsga2(gen=10),\n",
    "                size=20,\n",
    "                prob=prob,\n",
    "                udi=pg.mp_island(),\n",
    "                )\n",
    "isl.evolve()\n",
    "isl.wait()\n",
    "final_pop = isl.get_population()\n",
    "# idx = pg.fast_non_dominated_sorting(isl.get_population().get_f())[0][0]\n",
    "\n",
    "final_pop"
   ]
  },
  {
   "cell_type": "raw",
   "metadata": {},
   "source": [
    "final_pop"
   ]
  },
  {
   "cell_type": "code",
   "execution_count": 32,
   "metadata": {},
   "outputs": [
    {
     "data": {
      "text/html": [
       "<div>\n",
       "<style scoped>\n",
       "    .dataframe tbody tr th:only-of-type {\n",
       "        vertical-align: middle;\n",
       "    }\n",
       "\n",
       "    .dataframe tbody tr th {\n",
       "        vertical-align: top;\n",
       "    }\n",
       "\n",
       "    .dataframe thead th {\n",
       "        text-align: right;\n",
       "    }\n",
       "</style>\n",
       "<table border=\"1\" class=\"dataframe\">\n",
       "  <thead>\n",
       "    <tr style=\"text-align: right;\">\n",
       "      <th></th>\n",
       "      <th>criterion</th>\n",
       "      <th>max_depth</th>\n",
       "      <th>min_samples_split</th>\n",
       "      <th>min_samples_leaf</th>\n",
       "      <th>min_weight_fraction_leaf</th>\n",
       "      <th>max_features</th>\n",
       "      <th>n_estimators</th>\n",
       "    </tr>\n",
       "  </thead>\n",
       "  <tbody>\n",
       "    <tr>\n",
       "      <th>0</th>\n",
       "      <td>NaN</td>\n",
       "      <td>0.49943</td>\n",
       "      <td>0.229818</td>\n",
       "      <td>1.0</td>\n",
       "      <td>48.0</td>\n",
       "      <td>log2</td>\n",
       "      <td>59.0</td>\n",
       "    </tr>\n",
       "  </tbody>\n",
       "</table>\n",
       "</div>"
      ],
      "text/plain": [
       "  criterion  max_depth  min_samples_split  min_samples_leaf  \\\n",
       "0       NaN    0.49943           0.229818               1.0   \n",
       "\n",
       "   min_weight_fraction_leaf max_features  n_estimators  \n",
       "0                      48.0         log2          59.0  "
      ]
     },
     "execution_count": 32,
     "metadata": {},
     "output_type": "execute_result"
    }
   ],
   "source": [
    "columns = ['criterion', 'max_depth', 'min_samples_split', 'min_samples_leaf', 'min_weight_fraction_leaf', 'max_features', 'n_estimators']\n",
    "x = [4.45424383e-02, 4.99429627e-01, 2.29817779e-01, 1.00000000e+00, 4.80000000e+01, 2.00000000e+00, 5.90000000e+01]\n",
    "ec = load('./encoder.joblib') \n",
    "# ec.inverse_transform([x])\n",
    "\n",
    "ec.inverse_transform(pd.DataFrame([x], columns=columns))"
   ]
  },
  {
   "cell_type": "markdown",
   "metadata": {},
   "source": [
    "## Initialization\n",
    "- read search-space for the random forest (black box function)\n",
    "- open evaluation dataset for the random forest\n",
    "\n",
    "### Dataset information:\n",
    "- [OpenMl 1049](https://www.openml.org/d/1049)\n",
    "- PC4 Software defect prediction\n",
    "One of the NASA Metrics Data Program defect data sets. Data from flight software for earth orbiting satellite. Data comes from McCabe and Halstead features extractors of source code. These features were defined in the 70s in an attempt to objectively characterize code features that are associated with software quality."
   ]
  },
  {
   "cell_type": "code",
   "execution_count": 3,
   "metadata": {},
   "outputs": [],
   "source": [
    "# --- open dataset\n",
    "#  dataset has only numerical features\n",
    "dataset = openml.datasets.get_dataset(1049)\n",
    "X, y, cat, atr = dataset.get_data(dataset_format=\"array\", target=dataset.default_target_attribute)\n",
    "\n",
    "X = pd.DataFrame(X, columns=atr)\n",
    "y = pd.DataFrame(y, columns=['defect'])\n",
    "\n",
    "# --- transform \n",
    "ct = make_column_transformer((StandardScaler(), make_column_selector(dtype_include=np.number)))\n",
    "X = pd.DataFrame(ct.fit_transform(X), columns=atr)"
   ]
  },
  {
   "cell_type": "markdown",
   "metadata": {},
   "source": [
    "## Black box function: Random forest classification on dataset "
   ]
  },
  {
   "cell_type": "code",
   "execution_count": 4,
   "metadata": {},
   "outputs": [
    {
     "data": {
      "text/plain": [
       "[{'name': 'criterion',\n",
       "  'type': 'category',\n",
       "  'categories': ['gini', 'entropy'],\n",
       "  'default': 'gini'},\n",
       " {'name': 'max_depth', 'type': 'integer', 'bounds': [2, 120], 'default': 50},\n",
       " {'name': 'min_samples_split',\n",
       "  'type': 'float',\n",
       "  'bounds': [0.0, 1.0],\n",
       "  'default': 0.1},\n",
       " {'name': 'min_samples_leaf',\n",
       "  'type': 'float',\n",
       "  'bounds': [0.0, 0.5],\n",
       "  'default': 0.1},\n",
       " {'name': 'min_weight_fraction_leaf',\n",
       "  'type': 'float',\n",
       "  'bounds': [0.0, 0.5],\n",
       "  'default': 0.0},\n",
       " {'name': 'max_features',\n",
       "  'type': 'category',\n",
       "  'categories': ['sqrt', 'log2'],\n",
       "  'default': 'sqrt'},\n",
       " {'name': 'n_estimators',\n",
       "  'type': 'integer',\n",
       "  'bounds': [10, 1000],\n",
       "  'default': 100}]"
      ]
     },
     "execution_count": 4,
     "metadata": {},
     "output_type": "execute_result"
    }
   ],
   "source": [
    "# --- red search space\n",
    "with open('./randomforest-search-space.json', 'r') as File:\n",
    "        sp = json.loads(File.read())\n",
    "sp"
   ]
  },
  {
   "cell_type": "code",
   "execution_count": 5,
   "metadata": {},
   "outputs": [
    {
     "data": {
      "text/html": [
       "<div>\n",
       "<style scoped>\n",
       "    .dataframe tbody tr th:only-of-type {\n",
       "        vertical-align: middle;\n",
       "    }\n",
       "\n",
       "    .dataframe tbody tr th {\n",
       "        vertical-align: top;\n",
       "    }\n",
       "\n",
       "    .dataframe thead th {\n",
       "        text-align: right;\n",
       "    }\n",
       "</style>\n",
       "<table border=\"1\" class=\"dataframe\">\n",
       "  <thead>\n",
       "    <tr style=\"text-align: right;\">\n",
       "      <th></th>\n",
       "      <th>criterion</th>\n",
       "      <th>max_depth</th>\n",
       "      <th>min_samples_split</th>\n",
       "      <th>min_samples_leaf</th>\n",
       "      <th>min_weight_fraction_leaf</th>\n",
       "      <th>max_features</th>\n",
       "      <th>n_estimators</th>\n",
       "    </tr>\n",
       "  </thead>\n",
       "  <tbody>\n",
       "    <tr>\n",
       "      <th>0</th>\n",
       "      <td>gini</td>\n",
       "      <td>61</td>\n",
       "      <td>0.5000</td>\n",
       "      <td>0.25000</td>\n",
       "      <td>0.25000</td>\n",
       "      <td>sqrt</td>\n",
       "      <td>505</td>\n",
       "    </tr>\n",
       "    <tr>\n",
       "      <th>1</th>\n",
       "      <td>entropy</td>\n",
       "      <td>31</td>\n",
       "      <td>0.7500</td>\n",
       "      <td>0.12500</td>\n",
       "      <td>0.37500</td>\n",
       "      <td>sqrt</td>\n",
       "      <td>752</td>\n",
       "    </tr>\n",
       "    <tr>\n",
       "      <th>2</th>\n",
       "      <td>gini</td>\n",
       "      <td>90</td>\n",
       "      <td>0.2500</td>\n",
       "      <td>0.37500</td>\n",
       "      <td>0.12500</td>\n",
       "      <td>log2</td>\n",
       "      <td>257</td>\n",
       "    </tr>\n",
       "    <tr>\n",
       "      <th>3</th>\n",
       "      <td>gini</td>\n",
       "      <td>46</td>\n",
       "      <td>0.6250</td>\n",
       "      <td>0.06250</td>\n",
       "      <td>0.43750</td>\n",
       "      <td>log2</td>\n",
       "      <td>133</td>\n",
       "    </tr>\n",
       "    <tr>\n",
       "      <th>4</th>\n",
       "      <td>entropy</td>\n",
       "      <td>105</td>\n",
       "      <td>0.1250</td>\n",
       "      <td>0.31250</td>\n",
       "      <td>0.18750</td>\n",
       "      <td>sqrt</td>\n",
       "      <td>628</td>\n",
       "    </tr>\n",
       "    <tr>\n",
       "      <th>5</th>\n",
       "      <td>entropy</td>\n",
       "      <td>16</td>\n",
       "      <td>0.3750</td>\n",
       "      <td>0.18750</td>\n",
       "      <td>0.06250</td>\n",
       "      <td>log2</td>\n",
       "      <td>876</td>\n",
       "    </tr>\n",
       "    <tr>\n",
       "      <th>6</th>\n",
       "      <td>gini</td>\n",
       "      <td>75</td>\n",
       "      <td>0.8750</td>\n",
       "      <td>0.43750</td>\n",
       "      <td>0.31250</td>\n",
       "      <td>sqrt</td>\n",
       "      <td>381</td>\n",
       "    </tr>\n",
       "    <tr>\n",
       "      <th>7</th>\n",
       "      <td>gini</td>\n",
       "      <td>38</td>\n",
       "      <td>0.3125</td>\n",
       "      <td>0.34375</td>\n",
       "      <td>0.28125</td>\n",
       "      <td>sqrt</td>\n",
       "      <td>71</td>\n",
       "    </tr>\n",
       "    <tr>\n",
       "      <th>8</th>\n",
       "      <td>entropy</td>\n",
       "      <td>97</td>\n",
       "      <td>0.8125</td>\n",
       "      <td>0.09375</td>\n",
       "      <td>0.03125</td>\n",
       "      <td>log2</td>\n",
       "      <td>566</td>\n",
       "    </tr>\n",
       "    <tr>\n",
       "      <th>9</th>\n",
       "      <td>entropy</td>\n",
       "      <td>9</td>\n",
       "      <td>0.5625</td>\n",
       "      <td>0.46875</td>\n",
       "      <td>0.15625</td>\n",
       "      <td>sqrt</td>\n",
       "      <td>814</td>\n",
       "    </tr>\n",
       "  </tbody>\n",
       "</table>\n",
       "</div>"
      ],
      "text/plain": [
       "  criterion  max_depth  min_samples_split  min_samples_leaf  \\\n",
       "0      gini         61             0.5000           0.25000   \n",
       "1   entropy         31             0.7500           0.12500   \n",
       "2      gini         90             0.2500           0.37500   \n",
       "3      gini         46             0.6250           0.06250   \n",
       "4   entropy        105             0.1250           0.31250   \n",
       "5   entropy         16             0.3750           0.18750   \n",
       "6      gini         75             0.8750           0.43750   \n",
       "7      gini         38             0.3125           0.34375   \n",
       "8   entropy         97             0.8125           0.09375   \n",
       "9   entropy          9             0.5625           0.46875   \n",
       "\n",
       "   min_weight_fraction_leaf max_features  n_estimators  \n",
       "0                   0.25000         sqrt           505  \n",
       "1                   0.37500         sqrt           752  \n",
       "2                   0.12500         log2           257  \n",
       "3                   0.43750         log2           133  \n",
       "4                   0.18750         sqrt           628  \n",
       "5                   0.06250         log2           876  \n",
       "6                   0.31250         sqrt           381  \n",
       "7                   0.28125         sqrt            71  \n",
       "8                   0.03125         log2           566  \n",
       "9                   0.15625         sqrt           814  "
      ]
     },
     "execution_count": 5,
     "metadata": {},
     "output_type": "execute_result"
    }
   ],
   "source": [
    "samples_X = psd_sample(sp, 10, kind='sobol')\n",
    "samples_X"
   ]
  },
  {
   "cell_type": "code",
   "execution_count": 6,
   "metadata": {},
   "outputs": [
    {
     "data": {
      "text/html": [
       "<div>\n",
       "<style scoped>\n",
       "    .dataframe tbody tr th:only-of-type {\n",
       "        vertical-align: middle;\n",
       "    }\n",
       "\n",
       "    .dataframe tbody tr th {\n",
       "        vertical-align: top;\n",
       "    }\n",
       "\n",
       "    .dataframe thead th {\n",
       "        text-align: right;\n",
       "    }\n",
       "</style>\n",
       "<table border=\"1\" class=\"dataframe\">\n",
       "  <thead>\n",
       "    <tr style=\"text-align: right;\">\n",
       "      <th></th>\n",
       "      <th>fit_time</th>\n",
       "      <th>score_time</th>\n",
       "      <th>test_f1_macro</th>\n",
       "      <th>test_f1_weighted</th>\n",
       "      <th>test_roc_auc</th>\n",
       "    </tr>\n",
       "  </thead>\n",
       "  <tbody>\n",
       "    <tr>\n",
       "      <th>0</th>\n",
       "      <td>1.261039</td>\n",
       "      <td>0.171989</td>\n",
       "      <td>0.467494</td>\n",
       "      <td>0.820841</td>\n",
       "      <td>0.862699</td>\n",
       "    </tr>\n",
       "    <tr>\n",
       "      <th>1</th>\n",
       "      <td>1.757790</td>\n",
       "      <td>0.245959</td>\n",
       "      <td>0.467494</td>\n",
       "      <td>0.820841</td>\n",
       "      <td>0.500000</td>\n",
       "    </tr>\n",
       "    <tr>\n",
       "      <th>2</th>\n",
       "      <td>0.587620</td>\n",
       "      <td>0.093941</td>\n",
       "      <td>0.467494</td>\n",
       "      <td>0.820841</td>\n",
       "      <td>0.500000</td>\n",
       "    </tr>\n",
       "    <tr>\n",
       "      <th>3</th>\n",
       "      <td>0.258125</td>\n",
       "      <td>0.053695</td>\n",
       "      <td>0.467494</td>\n",
       "      <td>0.820841</td>\n",
       "      <td>0.847505</td>\n",
       "    </tr>\n",
       "    <tr>\n",
       "      <th>4</th>\n",
       "      <td>1.307383</td>\n",
       "      <td>0.195206</td>\n",
       "      <td>0.467494</td>\n",
       "      <td>0.820841</td>\n",
       "      <td>0.791686</td>\n",
       "    </tr>\n",
       "    <tr>\n",
       "      <th>5</th>\n",
       "      <td>1.889014</td>\n",
       "      <td>0.262949</td>\n",
       "      <td>0.467494</td>\n",
       "      <td>0.820841</td>\n",
       "      <td>0.873806</td>\n",
       "    </tr>\n",
       "    <tr>\n",
       "      <th>6</th>\n",
       "      <td>0.712105</td>\n",
       "      <td>0.158353</td>\n",
       "      <td>0.467494</td>\n",
       "      <td>0.820841</td>\n",
       "      <td>0.500000</td>\n",
       "    </tr>\n",
       "    <tr>\n",
       "      <th>7</th>\n",
       "      <td>0.138806</td>\n",
       "      <td>0.031831</td>\n",
       "      <td>0.467494</td>\n",
       "      <td>0.820841</td>\n",
       "      <td>0.500000</td>\n",
       "    </tr>\n",
       "    <tr>\n",
       "      <th>8</th>\n",
       "      <td>1.015811</td>\n",
       "      <td>0.132237</td>\n",
       "      <td>0.467494</td>\n",
       "      <td>0.820841</td>\n",
       "      <td>0.500000</td>\n",
       "    </tr>\n",
       "    <tr>\n",
       "      <th>9</th>\n",
       "      <td>1.495284</td>\n",
       "      <td>0.254359</td>\n",
       "      <td>0.467494</td>\n",
       "      <td>0.820841</td>\n",
       "      <td>0.500000</td>\n",
       "    </tr>\n",
       "  </tbody>\n",
       "</table>\n",
       "</div>"
      ],
      "text/plain": [
       "   fit_time  score_time  test_f1_macro  test_f1_weighted  test_roc_auc\n",
       "0  1.261039    0.171989       0.467494          0.820841      0.862699\n",
       "1  1.757790    0.245959       0.467494          0.820841      0.500000\n",
       "2  0.587620    0.093941       0.467494          0.820841      0.500000\n",
       "3  0.258125    0.053695       0.467494          0.820841      0.847505\n",
       "4  1.307383    0.195206       0.467494          0.820841      0.791686\n",
       "5  1.889014    0.262949       0.467494          0.820841      0.873806\n",
       "6  0.712105    0.158353       0.467494          0.820841      0.500000\n",
       "7  0.138806    0.031831       0.467494          0.820841      0.500000\n",
       "8  1.015811    0.132237       0.467494          0.820841      0.500000\n",
       "9  1.495284    0.254359       0.467494          0.820841      0.500000"
      ]
     },
     "execution_count": 6,
     "metadata": {},
     "output_type": "execute_result"
    }
   ],
   "source": [
    "samples_y = pd.DataFrame([RF_experiment(X, y, config) for idx, config in samples_X.iterrows()])\n",
    "samples_y"
   ]
  },
  {
   "cell_type": "code",
   "execution_count": 7,
   "metadata": {},
   "outputs": [
    {
     "name": "stderr",
     "output_type": "stream",
     "text": [
      "/home/valavanca/anaconda3/envs/ml-env/lib/python3.7/site-packages/category_encoders/utils.py:21: FutureWarning: is_categorical is deprecated and will be removed in a future version.  Use is_categorical_dtype instead\n",
      "  elif pd.api.types.is_categorical(cols):\n"
     ]
    },
    {
     "data": {
      "text/html": [
       "<div>\n",
       "<style scoped>\n",
       "    .dataframe tbody tr th:only-of-type {\n",
       "        vertical-align: middle;\n",
       "    }\n",
       "\n",
       "    .dataframe tbody tr th {\n",
       "        vertical-align: top;\n",
       "    }\n",
       "\n",
       "    .dataframe thead th {\n",
       "        text-align: right;\n",
       "    }\n",
       "</style>\n",
       "<table border=\"1\" class=\"dataframe\">\n",
       "  <thead>\n",
       "    <tr style=\"text-align: right;\">\n",
       "      <th></th>\n",
       "      <th>min_samples_split</th>\n",
       "      <th>min_samples_leaf</th>\n",
       "      <th>min_weight_fraction_leaf</th>\n",
       "      <th>criterion</th>\n",
       "      <th>max_depth</th>\n",
       "      <th>max_features</th>\n",
       "      <th>n_estimators</th>\n",
       "    </tr>\n",
       "  </thead>\n",
       "  <tbody>\n",
       "    <tr>\n",
       "      <th>0</th>\n",
       "      <td>0.5000</td>\n",
       "      <td>0.25000</td>\n",
       "      <td>0.25000</td>\n",
       "      <td>1</td>\n",
       "      <td>61</td>\n",
       "      <td>1</td>\n",
       "      <td>505</td>\n",
       "    </tr>\n",
       "    <tr>\n",
       "      <th>1</th>\n",
       "      <td>0.7500</td>\n",
       "      <td>0.12500</td>\n",
       "      <td>0.37500</td>\n",
       "      <td>2</td>\n",
       "      <td>31</td>\n",
       "      <td>1</td>\n",
       "      <td>752</td>\n",
       "    </tr>\n",
       "    <tr>\n",
       "      <th>2</th>\n",
       "      <td>0.2500</td>\n",
       "      <td>0.37500</td>\n",
       "      <td>0.12500</td>\n",
       "      <td>1</td>\n",
       "      <td>90</td>\n",
       "      <td>2</td>\n",
       "      <td>257</td>\n",
       "    </tr>\n",
       "    <tr>\n",
       "      <th>3</th>\n",
       "      <td>0.6250</td>\n",
       "      <td>0.06250</td>\n",
       "      <td>0.43750</td>\n",
       "      <td>1</td>\n",
       "      <td>46</td>\n",
       "      <td>2</td>\n",
       "      <td>133</td>\n",
       "    </tr>\n",
       "    <tr>\n",
       "      <th>4</th>\n",
       "      <td>0.1250</td>\n",
       "      <td>0.31250</td>\n",
       "      <td>0.18750</td>\n",
       "      <td>2</td>\n",
       "      <td>105</td>\n",
       "      <td>1</td>\n",
       "      <td>628</td>\n",
       "    </tr>\n",
       "    <tr>\n",
       "      <th>5</th>\n",
       "      <td>0.3750</td>\n",
       "      <td>0.18750</td>\n",
       "      <td>0.06250</td>\n",
       "      <td>2</td>\n",
       "      <td>16</td>\n",
       "      <td>2</td>\n",
       "      <td>876</td>\n",
       "    </tr>\n",
       "    <tr>\n",
       "      <th>6</th>\n",
       "      <td>0.8750</td>\n",
       "      <td>0.43750</td>\n",
       "      <td>0.31250</td>\n",
       "      <td>1</td>\n",
       "      <td>75</td>\n",
       "      <td>1</td>\n",
       "      <td>381</td>\n",
       "    </tr>\n",
       "    <tr>\n",
       "      <th>7</th>\n",
       "      <td>0.3125</td>\n",
       "      <td>0.34375</td>\n",
       "      <td>0.28125</td>\n",
       "      <td>1</td>\n",
       "      <td>38</td>\n",
       "      <td>1</td>\n",
       "      <td>71</td>\n",
       "    </tr>\n",
       "    <tr>\n",
       "      <th>8</th>\n",
       "      <td>0.8125</td>\n",
       "      <td>0.09375</td>\n",
       "      <td>0.03125</td>\n",
       "      <td>2</td>\n",
       "      <td>97</td>\n",
       "      <td>2</td>\n",
       "      <td>566</td>\n",
       "    </tr>\n",
       "    <tr>\n",
       "      <th>9</th>\n",
       "      <td>0.5625</td>\n",
       "      <td>0.46875</td>\n",
       "      <td>0.15625</td>\n",
       "      <td>2</td>\n",
       "      <td>9</td>\n",
       "      <td>1</td>\n",
       "      <td>814</td>\n",
       "    </tr>\n",
       "  </tbody>\n",
       "</table>\n",
       "</div>"
      ],
      "text/plain": [
       "   min_samples_split  min_samples_leaf  min_weight_fraction_leaf  criterion  \\\n",
       "0             0.5000           0.25000                   0.25000          1   \n",
       "1             0.7500           0.12500                   0.37500          2   \n",
       "2             0.2500           0.37500                   0.12500          1   \n",
       "3             0.6250           0.06250                   0.43750          1   \n",
       "4             0.1250           0.31250                   0.18750          2   \n",
       "5             0.3750           0.18750                   0.06250          2   \n",
       "6             0.8750           0.43750                   0.31250          1   \n",
       "7             0.3125           0.34375                   0.28125          1   \n",
       "8             0.8125           0.09375                   0.03125          2   \n",
       "9             0.5625           0.46875                   0.15625          2   \n",
       "\n",
       "   max_depth  max_features  n_estimators  \n",
       "0         61             1           505  \n",
       "1         31             1           752  \n",
       "2         90             2           257  \n",
       "3         46             2           133  \n",
       "4        105             1           628  \n",
       "5         16             2           876  \n",
       "6         75             1           381  \n",
       "7         38             1            71  \n",
       "8         97             2           566  \n",
       "9          9             1           814  "
      ]
     },
     "execution_count": 7,
     "metadata": {},
     "output_type": "execute_result"
    }
   ],
   "source": [
    "cat_columns = samples_X.select_dtypes(include=[object]).columns\n",
    "ce_one_hot = ce.OrdinalEncoder(cols = cat_columns)\n",
    "samples_X_enc = ce_one_hot.fit_transform(samples_X)\n",
    "samples_X_enc.sort_index(axis=1, ascending=False, key=lambda x: samples_X_enc[x].dtypes, inplace=True)\n",
    "samples_X_enc"
   ]
  },
  {
   "cell_type": "code",
   "execution_count": 8,
   "metadata": {},
   "outputs": [
    {
     "data": {
      "text/plain": [
       "GaussianProcessRegressor(kernel=66**2 * RBF(length_scale=67) + 2.4**2 * RBF(length_scale=90) * ExpSineSquared(length_scale=1.3, periodicity=1) + 0.66**2 * RationalQuadratic(alpha=0.78, length_scale=1.2) + 0.18**2 * RBF(length_scale=0.134) + WhiteKernel(noise_level=0.0361))"
      ]
     },
     "execution_count": 8,
     "metadata": {},
     "output_type": "execute_result"
    }
   ],
   "source": [
    "gp = GaussianProcessRegressor(kernel=KERNEL_GPML)\n",
    "gp.fit(samples_X_enc.to_numpy(), samples_y[['test_roc_auc', 'fit_time']].to_numpy())"
   ]
  },
  {
   "cell_type": "code",
   "execution_count": 9,
   "metadata": {},
   "outputs": [
    {
     "data": {
      "text/plain": [
       "Problem name: GaussianProcessRegressor\n",
       "\tC++ class name: pybind11::object\n",
       "\n",
       "\tGlobal dimension:\t\t\t7\n",
       "\tInteger dimension:\t\t\t4\n",
       "\tFitness dimension:\t\t\t2\n",
       "\tNumber of objectives:\t\t\t2\n",
       "\tEquality constraints dimension:\t\t0\n",
       "\tInequality constraints dimension:\t0\n",
       "\tLower bounds: [0, 0, 0, 1, 2, ... ]\n",
       "\tUpper bounds: [1, 0.5, 0.5, 2, 120, ... ]\n",
       "\tHas batch fitness evaluation: false\n",
       "\n",
       "\tHas gradient: true\n",
       "\tUser implemented gradient sparsity: false\n",
       "\tExpected gradients: 14\n",
       "\tHas hessians: false\n",
       "\tUser implemented hessians sparsity: false\n",
       "\n",
       "\tFitness evaluations: 0\n",
       "\tGradient evaluations: 0\n",
       "\n",
       "\tThread safety: none"
      ]
     },
     "execution_count": 9,
     "metadata": {},
     "output_type": "execute_result"
    }
   ],
   "source": [
    "class PygmoProblem():\n",
    "\n",
    "    def __init__(self,\n",
    "                 surrogate,\n",
    "                 bounds):\n",
    "        self._surrogate = surrogate\n",
    "        self._bounds = bounds\n",
    "\n",
    "    def fitness(self, x):\n",
    "        x = np.array(x)\n",
    "        result = self._surrogate.predict(x.reshape(1, -1))\n",
    "        return result.flatten().tolist()\n",
    "\n",
    "    def get_nobj(self):\n",
    "        prediction = self._surrogate.predict([self._bounds[0]])\n",
    "        nobj = prediction.flatten().size\n",
    "        return nobj\n",
    "\n",
    "    # Return bounds of decision variables\n",
    "    def get_bounds(self):\n",
    "        return self._bounds\n",
    "    \n",
    "    # Integer Dimension\n",
    "    def get_nix(self):\n",
    "        return (samples_X_enc.dtypes==np.int64).sum() \n",
    "    \n",
    "    def gradient(self, x):\n",
    "        return pg.estimate_gradient_h(lambda x: self.fitness(x), x)\n",
    "    \n",
    "    # Return function name\n",
    "    def get_name(self):\n",
    "        meta_name = type(self._surrogate).__name__\n",
    "        if hasattr(self._surrogate, 'estimators_'):\n",
    "            return meta_name + \": \" + \" vs \".join([type(t).__name__ for t in self._surrogate.estimators_])\n",
    "        else:\n",
    "            return meta_name\n",
    "\n",
    "# ((10, 10, 1, 1), (-10, -10, 0, 0))\n",
    "def get_bounds(desc, enc_df):\n",
    "    bounds = []\n",
    "    kv_desc = { p['name']: p for p in desc}\n",
    "    for col in enc_df.columns:\n",
    "        if col in cat_columns:    \n",
    "            bounds.append(list(range(1, len(kv_desc[col]['categories'])+1)))\n",
    "        else:\n",
    "            bounds.append(kv_desc[col]['bounds'])\n",
    "            \n",
    "    return list(zip(*bounds))\n",
    "\n",
    "bounds = get_bounds(sp, samples_X_enc)        \n",
    "prob = pg.problem(PygmoProblem(gp, bounds))\n",
    "prob"
   ]
  },
  {
   "cell_type": "code",
   "execution_count": 14,
   "metadata": {},
   "outputs": [
    {
     "data": {
      "text/html": [
       "<div>\n",
       "<style scoped>\n",
       "    .dataframe tbody tr th:only-of-type {\n",
       "        vertical-align: middle;\n",
       "    }\n",
       "\n",
       "    .dataframe tbody tr th {\n",
       "        vertical-align: top;\n",
       "    }\n",
       "\n",
       "    .dataframe thead th {\n",
       "        text-align: right;\n",
       "    }\n",
       "</style>\n",
       "<table border=\"1\" class=\"dataframe\">\n",
       "  <thead>\n",
       "    <tr style=\"text-align: right;\">\n",
       "      <th></th>\n",
       "      <th>min_samples_split</th>\n",
       "      <th>min_samples_leaf</th>\n",
       "      <th>min_weight_fraction_leaf</th>\n",
       "      <th>criterion</th>\n",
       "      <th>max_depth</th>\n",
       "      <th>max_features</th>\n",
       "      <th>n_estimators</th>\n",
       "    </tr>\n",
       "  </thead>\n",
       "  <tbody>\n",
       "    <tr>\n",
       "      <th>0</th>\n",
       "      <td>0.099779</td>\n",
       "      <td>0.476938</td>\n",
       "      <td>0.026857</td>\n",
       "      <td>NaN</td>\n",
       "      <td>118.355090</td>\n",
       "      <td>NaN</td>\n",
       "      <td>10</td>\n",
       "    </tr>\n",
       "    <tr>\n",
       "      <th>1</th>\n",
       "      <td>0.001980</td>\n",
       "      <td>0.408116</td>\n",
       "      <td>0.021908</td>\n",
       "      <td>NaN</td>\n",
       "      <td>118.325202</td>\n",
       "      <td>NaN</td>\n",
       "      <td>10</td>\n",
       "    </tr>\n",
       "    <tr>\n",
       "      <th>2</th>\n",
       "      <td>0.281895</td>\n",
       "      <td>0.359433</td>\n",
       "      <td>0.028651</td>\n",
       "      <td>NaN</td>\n",
       "      <td>118.327781</td>\n",
       "      <td>NaN</td>\n",
       "      <td>10</td>\n",
       "    </tr>\n",
       "    <tr>\n",
       "      <th>3</th>\n",
       "      <td>0.281895</td>\n",
       "      <td>0.359433</td>\n",
       "      <td>0.028651</td>\n",
       "      <td>NaN</td>\n",
       "      <td>118.327781</td>\n",
       "      <td>NaN</td>\n",
       "      <td>10</td>\n",
       "    </tr>\n",
       "    <tr>\n",
       "      <th>4</th>\n",
       "      <td>0.398102</td>\n",
       "      <td>0.370757</td>\n",
       "      <td>0.025978</td>\n",
       "      <td>NaN</td>\n",
       "      <td>118.310011</td>\n",
       "      <td>NaN</td>\n",
       "      <td>10</td>\n",
       "    </tr>\n",
       "    <tr>\n",
       "      <th>...</th>\n",
       "      <td>...</td>\n",
       "      <td>...</td>\n",
       "      <td>...</td>\n",
       "      <td>...</td>\n",
       "      <td>...</td>\n",
       "      <td>...</td>\n",
       "      <td>...</td>\n",
       "    </tr>\n",
       "    <tr>\n",
       "      <th>94</th>\n",
       "      <td>0.238719</td>\n",
       "      <td>0.417404</td>\n",
       "      <td>0.047711</td>\n",
       "      <td>NaN</td>\n",
       "      <td>82.002110</td>\n",
       "      <td>NaN</td>\n",
       "      <td>10</td>\n",
       "    </tr>\n",
       "    <tr>\n",
       "      <th>95</th>\n",
       "      <td>0.236444</td>\n",
       "      <td>0.398989</td>\n",
       "      <td>0.075426</td>\n",
       "      <td>NaN</td>\n",
       "      <td>82.003090</td>\n",
       "      <td>NaN</td>\n",
       "      <td>10</td>\n",
       "    </tr>\n",
       "    <tr>\n",
       "      <th>96</th>\n",
       "      <td>0.251737</td>\n",
       "      <td>0.414102</td>\n",
       "      <td>0.084595</td>\n",
       "      <td>NaN</td>\n",
       "      <td>82.000856</td>\n",
       "      <td>NaN</td>\n",
       "      <td>10</td>\n",
       "    </tr>\n",
       "    <tr>\n",
       "      <th>97</th>\n",
       "      <td>0.206597</td>\n",
       "      <td>0.465377</td>\n",
       "      <td>0.094462</td>\n",
       "      <td>NaN</td>\n",
       "      <td>82.002006</td>\n",
       "      <td>NaN</td>\n",
       "      <td>10</td>\n",
       "    </tr>\n",
       "    <tr>\n",
       "      <th>98</th>\n",
       "      <td>0.004073</td>\n",
       "      <td>0.470790</td>\n",
       "      <td>0.086102</td>\n",
       "      <td>NaN</td>\n",
       "      <td>81.992931</td>\n",
       "      <td>NaN</td>\n",
       "      <td>10</td>\n",
       "    </tr>\n",
       "  </tbody>\n",
       "</table>\n",
       "<p>99 rows × 7 columns</p>\n",
       "</div>"
      ],
      "text/plain": [
       "    min_samples_split  min_samples_leaf  min_weight_fraction_leaf criterion  \\\n",
       "0            0.099779          0.476938                  0.026857       NaN   \n",
       "1            0.001980          0.408116                  0.021908       NaN   \n",
       "2            0.281895          0.359433                  0.028651       NaN   \n",
       "3            0.281895          0.359433                  0.028651       NaN   \n",
       "4            0.398102          0.370757                  0.025978       NaN   \n",
       "..                ...               ...                       ...       ...   \n",
       "94           0.238719          0.417404                  0.047711       NaN   \n",
       "95           0.236444          0.398989                  0.075426       NaN   \n",
       "96           0.251737          0.414102                  0.084595       NaN   \n",
       "97           0.206597          0.465377                  0.094462       NaN   \n",
       "98           0.004073          0.470790                  0.086102       NaN   \n",
       "\n",
       "     max_depth max_features  n_estimators  \n",
       "0   118.355090          NaN            10  \n",
       "1   118.325202          NaN            10  \n",
       "2   118.327781          NaN            10  \n",
       "3   118.327781          NaN            10  \n",
       "4   118.310011          NaN            10  \n",
       "..         ...          ...           ...  \n",
       "94   82.002110          NaN            10  \n",
       "95   82.003090          NaN            10  \n",
       "96   82.000856          NaN            10  \n",
       "97   82.002006          NaN            10  \n",
       "98   81.992931          NaN            10  \n",
       "\n",
       "[99 rows x 7 columns]"
      ]
     },
     "execution_count": 14,
     "metadata": {},
     "output_type": "execute_result"
    }
   ],
   "source": [
    "# archi = pg.archipelago(n = 100, algo = pg.nsga2(), prob = PygmoProblem(gp, bounds), pop_size=100)\n",
    "# archi.evolve(2) \n",
    "# archi.wait()\n",
    "\n",
    "pop = pg.population(prob=prob, size=100)\n",
    "e_pop = pg.algorithm(pg.moead(gen = 100)).evolve(pop)\n",
    "final_pop = pg.algorithm(pg.moead(gen = 100)).evolve(e_pop)\n",
    "\n",
    "\n",
    "# isl = pg.island(algo=[pg.nsga2(gen=100), pg.nsga2(gen=200)],\n",
    "#                 size=100,\n",
    "#                 prob=prob,\n",
    "#                 udi=pg.mp_island(),\n",
    "#                 )\n",
    "# isl.evolve()\n",
    "# isl.wait()\n",
    "# final_pop = isl.get_population()\n",
    "# idx = pg.fast_non_dominated_sorting(isl.get_population().get_f())[0][0]\n",
    "\n",
    "idx = pg.fast_non_dominated_sorting(e_pop.get_f())[0][0]\n",
    "\n",
    "pop_df = pd.DataFrame(e_pop.get_x()[idx], columns=samples_X_enc.columns)\n",
    "predict = ce_one_hot.inverse_transform(pop_df)\n",
    "predict['n_estimators'] = predict['n_estimators'].astype('int32')\n",
    "predict"
   ]
  },
  {
   "cell_type": "code",
   "execution_count": 16,
   "metadata": {},
   "outputs": [
    {
     "data": {
      "text/html": [
       "<div>\n",
       "<style scoped>\n",
       "    .dataframe tbody tr th:only-of-type {\n",
       "        vertical-align: middle;\n",
       "    }\n",
       "\n",
       "    .dataframe tbody tr th {\n",
       "        vertical-align: top;\n",
       "    }\n",
       "\n",
       "    .dataframe thead th {\n",
       "        text-align: right;\n",
       "    }\n",
       "</style>\n",
       "<table border=\"1\" class=\"dataframe\">\n",
       "  <thead>\n",
       "    <tr style=\"text-align: right;\">\n",
       "      <th></th>\n",
       "      <th>iteration</th>\n",
       "      <th>problem</th>\n",
       "      <th>objectives</th>\n",
       "      <th>feature_dim</th>\n",
       "      <th>ndf_size</th>\n",
       "      <th>ndf_f</th>\n",
       "      <th>ndf_x</th>\n",
       "      <th>i_time</th>\n",
       "      <th>model_id</th>\n",
       "    </tr>\n",
       "  </thead>\n",
       "  <tbody>\n",
       "    <tr>\n",
       "      <th>0</th>\n",
       "      <td>1</td>\n",
       "      <td>separate(GaussianProcessRegressor+GaussianProc...</td>\n",
       "      <td>[test_roc_auc, fit_time]</td>\n",
       "      <td>7</td>\n",
       "      <td>1</td>\n",
       "      <td>[[0.5, 0.16062370936075845]]</td>\n",
       "      <td>[[gini, 11.0, 0.9074249842573411, 7.4834517627...</td>\n",
       "      <td>27.768566</td>\n",
       "      <td>139844412893552</td>\n",
       "    </tr>\n",
       "    <tr>\n",
       "      <th>1</th>\n",
       "      <td>2</td>\n",
       "      <td>separate(GaussianProcessRegressor+GaussianProc...</td>\n",
       "      <td>[test_roc_auc, fit_time]</td>\n",
       "      <td>7</td>\n",
       "      <td>1</td>\n",
       "      <td>[[0.5, 0.16062370936075845]]</td>\n",
       "      <td>[[gini, 11.0, 0.9074249842573411, 7.4834517627...</td>\n",
       "      <td>53.861493</td>\n",
       "      <td>139844412893552</td>\n",
       "    </tr>\n",
       "    <tr>\n",
       "      <th>2</th>\n",
       "      <td>3</td>\n",
       "      <td>separate(GaussianProcessRegressor+GaussianProc...</td>\n",
       "      <td>[test_roc_auc, fit_time]</td>\n",
       "      <td>7</td>\n",
       "      <td>1</td>\n",
       "      <td>[[0.5, 0.16062370936075845]]</td>\n",
       "      <td>[[gini, 11.0, 0.9074249842573411, 7.4834517627...</td>\n",
       "      <td>96.874480</td>\n",
       "      <td>139844412893552</td>\n",
       "    </tr>\n",
       "    <tr>\n",
       "      <th>3</th>\n",
       "      <td>4</td>\n",
       "      <td>separate(GaussianProcessRegressor+GaussianProc...</td>\n",
       "      <td>[test_roc_auc, fit_time]</td>\n",
       "      <td>7</td>\n",
       "      <td>1</td>\n",
       "      <td>[[0.5, 0.16062370936075845]]</td>\n",
       "      <td>[[gini, 11.0, 0.9074249842573411, 7.4834517627...</td>\n",
       "      <td>132.577953</td>\n",
       "      <td>139844412893552</td>\n",
       "    </tr>\n",
       "    <tr>\n",
       "      <th>4</th>\n",
       "      <td>5</td>\n",
       "      <td>separate(GaussianProcessRegressor+GaussianProc...</td>\n",
       "      <td>[test_roc_auc, fit_time]</td>\n",
       "      <td>7</td>\n",
       "      <td>1</td>\n",
       "      <td>[[0.5, 0.16062370936075845]]</td>\n",
       "      <td>[[gini, 11.0, 0.9074249842573411, 7.4834517627...</td>\n",
       "      <td>167.800150</td>\n",
       "      <td>139844412893552</td>\n",
       "    </tr>\n",
       "    <tr>\n",
       "      <th>5</th>\n",
       "      <td>6</td>\n",
       "      <td>separate(GaussianProcessRegressor+GaussianProc...</td>\n",
       "      <td>[test_roc_auc, fit_time]</td>\n",
       "      <td>7</td>\n",
       "      <td>2</td>\n",
       "      <td>[[0.5, 0.16062370936075845], [0.5, 0.141852617...</td>\n",
       "      <td>[[gini, 11.0, 0.9074249842573411, 7.4834517627...</td>\n",
       "      <td>198.833845</td>\n",
       "      <td>139844412893552</td>\n",
       "    </tr>\n",
       "    <tr>\n",
       "      <th>6</th>\n",
       "      <td>7</td>\n",
       "      <td>separate(GaussianProcessRegressor+GaussianProc...</td>\n",
       "      <td>[test_roc_auc, fit_time]</td>\n",
       "      <td>7</td>\n",
       "      <td>2</td>\n",
       "      <td>[[0.5, 0.16062370936075845], [0.5, 0.141852617...</td>\n",
       "      <td>[[gini, 11.0, 0.9074249842573411, 7.4834517627...</td>\n",
       "      <td>237.078687</td>\n",
       "      <td>139844412893552</td>\n",
       "    </tr>\n",
       "    <tr>\n",
       "      <th>7</th>\n",
       "      <td>8</td>\n",
       "      <td>separate(GaussianProcessRegressor+GaussianProc...</td>\n",
       "      <td>[test_roc_auc, fit_time]</td>\n",
       "      <td>7</td>\n",
       "      <td>2</td>\n",
       "      <td>[[0.5, 0.16062370936075845], [0.5, 0.141852617...</td>\n",
       "      <td>[[gini, 11.0, 0.9074249842573411, 7.4834517627...</td>\n",
       "      <td>267.142237</td>\n",
       "      <td>139844412893552</td>\n",
       "    </tr>\n",
       "    <tr>\n",
       "      <th>8</th>\n",
       "      <td>9</td>\n",
       "      <td>separate(GaussianProcessRegressor+GaussianProc...</td>\n",
       "      <td>[test_roc_auc, fit_time]</td>\n",
       "      <td>7</td>\n",
       "      <td>3</td>\n",
       "      <td>[[0.5, 0.16062370936075845], [0.5, 0.141852617...</td>\n",
       "      <td>[[gini, 11.0, 0.9074249842573411, 7.4834517627...</td>\n",
       "      <td>290.497768</td>\n",
       "      <td>139844412893552</td>\n",
       "    </tr>\n",
       "    <tr>\n",
       "      <th>9</th>\n",
       "      <td>10</td>\n",
       "      <td>separate(GaussianProcessRegressor+GaussianProc...</td>\n",
       "      <td>[test_roc_auc, fit_time]</td>\n",
       "      <td>7</td>\n",
       "      <td>4</td>\n",
       "      <td>[[0.5, 0.16062370936075845], [0.5, 0.141852617...</td>\n",
       "      <td>[[gini, 11.0, 0.9074249842573411, 7.4834517627...</td>\n",
       "      <td>315.165687</td>\n",
       "      <td>139844412893552</td>\n",
       "    </tr>\n",
       "    <tr>\n",
       "      <th>10</th>\n",
       "      <td>11</td>\n",
       "      <td>separate(GaussianProcessRegressor+GaussianProc...</td>\n",
       "      <td>[test_roc_auc, fit_time]</td>\n",
       "      <td>7</td>\n",
       "      <td>1</td>\n",
       "      <td>[[0.5, 0.06019123395284017]]</td>\n",
       "      <td>[[gini, 118.37501499388446, 0.9188782835374304...</td>\n",
       "      <td>342.896747</td>\n",
       "      <td>139844412893552</td>\n",
       "    </tr>\n",
       "    <tr>\n",
       "      <th>11</th>\n",
       "      <td>12</td>\n",
       "      <td>separate(GaussianProcessRegressor+GaussianProc...</td>\n",
       "      <td>[test_roc_auc, fit_time]</td>\n",
       "      <td>7</td>\n",
       "      <td>1</td>\n",
       "      <td>[[0.5, 0.06019123395284017]]</td>\n",
       "      <td>[[gini, 118.37501499388446, 0.9188782835374304...</td>\n",
       "      <td>366.378298</td>\n",
       "      <td>139844412893552</td>\n",
       "    </tr>\n",
       "    <tr>\n",
       "      <th>12</th>\n",
       "      <td>13</td>\n",
       "      <td>separate(GaussianProcessRegressor+GaussianProc...</td>\n",
       "      <td>[test_roc_auc, fit_time]</td>\n",
       "      <td>7</td>\n",
       "      <td>1</td>\n",
       "      <td>[[0.5, 0.06019123395284017]]</td>\n",
       "      <td>[[gini, 118.37501499388446, 0.9188782835374304...</td>\n",
       "      <td>395.297879</td>\n",
       "      <td>139844412893552</td>\n",
       "    </tr>\n",
       "    <tr>\n",
       "      <th>13</th>\n",
       "      <td>14</td>\n",
       "      <td>separate(GaussianProcessRegressor+GaussianProc...</td>\n",
       "      <td>[test_roc_auc, fit_time]</td>\n",
       "      <td>7</td>\n",
       "      <td>1</td>\n",
       "      <td>[[0.5, 0.06019123395284017]]</td>\n",
       "      <td>[[gini, 118.37501499388446, 0.9188782835374304...</td>\n",
       "      <td>420.000753</td>\n",
       "      <td>139844412893552</td>\n",
       "    </tr>\n",
       "    <tr>\n",
       "      <th>14</th>\n",
       "      <td>15</td>\n",
       "      <td>separate(GaussianProcessRegressor+GaussianProc...</td>\n",
       "      <td>[test_roc_auc, fit_time]</td>\n",
       "      <td>7</td>\n",
       "      <td>1</td>\n",
       "      <td>[[0.5, 0.06019123395284017]]</td>\n",
       "      <td>[[gini, 118.37501499388446, 0.9188782835374304...</td>\n",
       "      <td>444.389829</td>\n",
       "      <td>139844412893552</td>\n",
       "    </tr>\n",
       "  </tbody>\n",
       "</table>\n",
       "</div>"
      ],
      "text/plain": [
       "    iteration                                            problem  \\\n",
       "0           1  separate(GaussianProcessRegressor+GaussianProc...   \n",
       "1           2  separate(GaussianProcessRegressor+GaussianProc...   \n",
       "2           3  separate(GaussianProcessRegressor+GaussianProc...   \n",
       "3           4  separate(GaussianProcessRegressor+GaussianProc...   \n",
       "4           5  separate(GaussianProcessRegressor+GaussianProc...   \n",
       "5           6  separate(GaussianProcessRegressor+GaussianProc...   \n",
       "6           7  separate(GaussianProcessRegressor+GaussianProc...   \n",
       "7           8  separate(GaussianProcessRegressor+GaussianProc...   \n",
       "8           9  separate(GaussianProcessRegressor+GaussianProc...   \n",
       "9          10  separate(GaussianProcessRegressor+GaussianProc...   \n",
       "10         11  separate(GaussianProcessRegressor+GaussianProc...   \n",
       "11         12  separate(GaussianProcessRegressor+GaussianProc...   \n",
       "12         13  separate(GaussianProcessRegressor+GaussianProc...   \n",
       "13         14  separate(GaussianProcessRegressor+GaussianProc...   \n",
       "14         15  separate(GaussianProcessRegressor+GaussianProc...   \n",
       "\n",
       "                  objectives  feature_dim  ndf_size  \\\n",
       "0   [test_roc_auc, fit_time]            7         1   \n",
       "1   [test_roc_auc, fit_time]            7         1   \n",
       "2   [test_roc_auc, fit_time]            7         1   \n",
       "3   [test_roc_auc, fit_time]            7         1   \n",
       "4   [test_roc_auc, fit_time]            7         1   \n",
       "5   [test_roc_auc, fit_time]            7         2   \n",
       "6   [test_roc_auc, fit_time]            7         2   \n",
       "7   [test_roc_auc, fit_time]            7         2   \n",
       "8   [test_roc_auc, fit_time]            7         3   \n",
       "9   [test_roc_auc, fit_time]            7         4   \n",
       "10  [test_roc_auc, fit_time]            7         1   \n",
       "11  [test_roc_auc, fit_time]            7         1   \n",
       "12  [test_roc_auc, fit_time]            7         1   \n",
       "13  [test_roc_auc, fit_time]            7         1   \n",
       "14  [test_roc_auc, fit_time]            7         1   \n",
       "\n",
       "                                                ndf_f  \\\n",
       "0                        [[0.5, 0.16062370936075845]]   \n",
       "1                        [[0.5, 0.16062370936075845]]   \n",
       "2                        [[0.5, 0.16062370936075845]]   \n",
       "3                        [[0.5, 0.16062370936075845]]   \n",
       "4                        [[0.5, 0.16062370936075845]]   \n",
       "5   [[0.5, 0.16062370936075845], [0.5, 0.141852617...   \n",
       "6   [[0.5, 0.16062370936075845], [0.5, 0.141852617...   \n",
       "7   [[0.5, 0.16062370936075845], [0.5, 0.141852617...   \n",
       "8   [[0.5, 0.16062370936075845], [0.5, 0.141852617...   \n",
       "9   [[0.5, 0.16062370936075845], [0.5, 0.141852617...   \n",
       "10                       [[0.5, 0.06019123395284017]]   \n",
       "11                       [[0.5, 0.06019123395284017]]   \n",
       "12                       [[0.5, 0.06019123395284017]]   \n",
       "13                       [[0.5, 0.06019123395284017]]   \n",
       "14                       [[0.5, 0.06019123395284017]]   \n",
       "\n",
       "                                                ndf_x      i_time  \\\n",
       "0   [[gini, 11.0, 0.9074249842573411, 7.4834517627...   27.768566   \n",
       "1   [[gini, 11.0, 0.9074249842573411, 7.4834517627...   53.861493   \n",
       "2   [[gini, 11.0, 0.9074249842573411, 7.4834517627...   96.874480   \n",
       "3   [[gini, 11.0, 0.9074249842573411, 7.4834517627...  132.577953   \n",
       "4   [[gini, 11.0, 0.9074249842573411, 7.4834517627...  167.800150   \n",
       "5   [[gini, 11.0, 0.9074249842573411, 7.4834517627...  198.833845   \n",
       "6   [[gini, 11.0, 0.9074249842573411, 7.4834517627...  237.078687   \n",
       "7   [[gini, 11.0, 0.9074249842573411, 7.4834517627...  267.142237   \n",
       "8   [[gini, 11.0, 0.9074249842573411, 7.4834517627...  290.497768   \n",
       "9   [[gini, 11.0, 0.9074249842573411, 7.4834517627...  315.165687   \n",
       "10  [[gini, 118.37501499388446, 0.9188782835374304...  342.896747   \n",
       "11  [[gini, 118.37501499388446, 0.9188782835374304...  366.378298   \n",
       "12  [[gini, 118.37501499388446, 0.9188782835374304...  395.297879   \n",
       "13  [[gini, 118.37501499388446, 0.9188782835374304...  420.000753   \n",
       "14  [[gini, 118.37501499388446, 0.9188782835374304...  444.389829   \n",
       "\n",
       "           model_id  \n",
       "0   139844412893552  \n",
       "1   139844412893552  \n",
       "2   139844412893552  \n",
       "3   139844412893552  \n",
       "4   139844412893552  \n",
       "5   139844412893552  \n",
       "6   139844412893552  \n",
       "7   139844412893552  \n",
       "8   139844412893552  \n",
       "9   139844412893552  \n",
       "10  139844412893552  \n",
       "11  139844412893552  \n",
       "12  139844412893552  \n",
       "13  139844412893552  \n",
       "14  139844412893552  "
      ]
     },
     "execution_count": 16,
     "metadata": {},
     "output_type": "execute_result"
    }
   ],
   "source": [
    "df = pd.read_pickle('./bench/separate(GaussianProcessRegressor+GaussianProcessRegressor)_2_RF.zy7hek.pkl')\n",
    "df"
   ]
  },
  {
   "cell_type": "code",
   "execution_count": 19,
   "metadata": {},
   "outputs": [
    {
     "data": {
      "text/html": [
       "<div>\n",
       "<style scoped>\n",
       "    .dataframe tbody tr th:only-of-type {\n",
       "        vertical-align: middle;\n",
       "    }\n",
       "\n",
       "    .dataframe tbody tr th {\n",
       "        vertical-align: top;\n",
       "    }\n",
       "\n",
       "    .dataframe thead th {\n",
       "        text-align: right;\n",
       "    }\n",
       "</style>\n",
       "<table border=\"1\" class=\"dataframe\">\n",
       "  <thead>\n",
       "    <tr style=\"text-align: right;\">\n",
       "      <th></th>\n",
       "      <th>criterion</th>\n",
       "      <th>max_depth</th>\n",
       "      <th>min_samples_split</th>\n",
       "      <th>min_samples_leaf</th>\n",
       "      <th>min_weight_fraction_leaf</th>\n",
       "      <th>max_features</th>\n",
       "      <th>n_estimators</th>\n",
       "      <th>fit_time</th>\n",
       "      <th>score_time</th>\n",
       "      <th>test_f1</th>\n",
       "      <th>test_roc_auc</th>\n",
       "    </tr>\n",
       "  </thead>\n",
       "  <tbody>\n",
       "    <tr>\n",
       "      <th>0</th>\n",
       "      <td>gini</td>\n",
       "      <td>61.000000</td>\n",
       "      <td>5.000000e-01</td>\n",
       "      <td>2.500000e-01</td>\n",
       "      <td>0.250000</td>\n",
       "      <td>sqrt</td>\n",
       "      <td>505</td>\n",
       "      <td>1.867784</td>\n",
       "      <td>0.242659</td>\n",
       "      <td>0.000000</td>\n",
       "      <td>0.860019</td>\n",
       "    </tr>\n",
       "    <tr>\n",
       "      <th>1</th>\n",
       "      <td>entropy</td>\n",
       "      <td>31.000000</td>\n",
       "      <td>7.500000e-01</td>\n",
       "      <td>1.250000e-01</td>\n",
       "      <td>0.375000</td>\n",
       "      <td>sqrt</td>\n",
       "      <td>752</td>\n",
       "      <td>2.618322</td>\n",
       "      <td>0.388817</td>\n",
       "      <td>0.000000</td>\n",
       "      <td>0.500000</td>\n",
       "    </tr>\n",
       "    <tr>\n",
       "      <th>2</th>\n",
       "      <td>gini</td>\n",
       "      <td>90.000000</td>\n",
       "      <td>2.500000e-01</td>\n",
       "      <td>3.750000e-01</td>\n",
       "      <td>0.125000</td>\n",
       "      <td>log2</td>\n",
       "      <td>257</td>\n",
       "      <td>1.118356</td>\n",
       "      <td>0.113337</td>\n",
       "      <td>0.000000</td>\n",
       "      <td>0.500000</td>\n",
       "    </tr>\n",
       "    <tr>\n",
       "      <th>3</th>\n",
       "      <td>gini</td>\n",
       "      <td>46.000000</td>\n",
       "      <td>6.250000e-01</td>\n",
       "      <td>6.250000e-02</td>\n",
       "      <td>0.437500</td>\n",
       "      <td>log2</td>\n",
       "      <td>133</td>\n",
       "      <td>0.558473</td>\n",
       "      <td>0.085401</td>\n",
       "      <td>0.000000</td>\n",
       "      <td>0.838064</td>\n",
       "    </tr>\n",
       "    <tr>\n",
       "      <th>4</th>\n",
       "      <td>entropy</td>\n",
       "      <td>105.000000</td>\n",
       "      <td>1.250000e-01</td>\n",
       "      <td>3.125000e-01</td>\n",
       "      <td>0.187500</td>\n",
       "      <td>sqrt</td>\n",
       "      <td>628</td>\n",
       "      <td>2.242293</td>\n",
       "      <td>0.291249</td>\n",
       "      <td>0.000000</td>\n",
       "      <td>0.791520</td>\n",
       "    </tr>\n",
       "    <tr>\n",
       "      <th>5</th>\n",
       "      <td>entropy</td>\n",
       "      <td>16.000000</td>\n",
       "      <td>3.750000e-01</td>\n",
       "      <td>1.875000e-01</td>\n",
       "      <td>0.062500</td>\n",
       "      <td>log2</td>\n",
       "      <td>876</td>\n",
       "      <td>3.226000</td>\n",
       "      <td>0.430526</td>\n",
       "      <td>0.000000</td>\n",
       "      <td>0.874133</td>\n",
       "    </tr>\n",
       "    <tr>\n",
       "      <th>6</th>\n",
       "      <td>gini</td>\n",
       "      <td>75.000000</td>\n",
       "      <td>8.750000e-01</td>\n",
       "      <td>4.375000e-01</td>\n",
       "      <td>0.312500</td>\n",
       "      <td>sqrt</td>\n",
       "      <td>381</td>\n",
       "      <td>1.329587</td>\n",
       "      <td>0.162075</td>\n",
       "      <td>0.000000</td>\n",
       "      <td>0.500000</td>\n",
       "    </tr>\n",
       "    <tr>\n",
       "      <th>7</th>\n",
       "      <td>gini</td>\n",
       "      <td>38.000000</td>\n",
       "      <td>3.125000e-01</td>\n",
       "      <td>3.437500e-01</td>\n",
       "      <td>0.281250</td>\n",
       "      <td>sqrt</td>\n",
       "      <td>71</td>\n",
       "      <td>0.323588</td>\n",
       "      <td>0.062750</td>\n",
       "      <td>0.000000</td>\n",
       "      <td>0.500000</td>\n",
       "    </tr>\n",
       "    <tr>\n",
       "      <th>8</th>\n",
       "      <td>entropy</td>\n",
       "      <td>97.000000</td>\n",
       "      <td>8.125000e-01</td>\n",
       "      <td>9.375000e-02</td>\n",
       "      <td>0.031250</td>\n",
       "      <td>log2</td>\n",
       "      <td>566</td>\n",
       "      <td>2.065013</td>\n",
       "      <td>0.249505</td>\n",
       "      <td>0.000000</td>\n",
       "      <td>0.500000</td>\n",
       "    </tr>\n",
       "    <tr>\n",
       "      <th>9</th>\n",
       "      <td>entropy</td>\n",
       "      <td>9.000000</td>\n",
       "      <td>5.625000e-01</td>\n",
       "      <td>4.687500e-01</td>\n",
       "      <td>0.156250</td>\n",
       "      <td>sqrt</td>\n",
       "      <td>814</td>\n",
       "      <td>3.291096</td>\n",
       "      <td>0.399055</td>\n",
       "      <td>0.000000</td>\n",
       "      <td>0.500000</td>\n",
       "    </tr>\n",
       "    <tr>\n",
       "      <th>10</th>\n",
       "      <td>gini</td>\n",
       "      <td>11.000000</td>\n",
       "      <td>9.074250e-01</td>\n",
       "      <td>7.483452e-05</td>\n",
       "      <td>0.499688</td>\n",
       "      <td>sqrt</td>\n",
       "      <td>40</td>\n",
       "      <td>0.160624</td>\n",
       "      <td>0.038346</td>\n",
       "      <td>0.000000</td>\n",
       "      <td>0.500000</td>\n",
       "    </tr>\n",
       "    <tr>\n",
       "      <th>11</th>\n",
       "      <td>gini</td>\n",
       "      <td>118.000000</td>\n",
       "      <td>5.444575e-03</td>\n",
       "      <td>1.268587e-05</td>\n",
       "      <td>0.499670</td>\n",
       "      <td>log2</td>\n",
       "      <td>122</td>\n",
       "      <td>0.503241</td>\n",
       "      <td>0.066869</td>\n",
       "      <td>0.000000</td>\n",
       "      <td>0.756344</td>\n",
       "    </tr>\n",
       "    <tr>\n",
       "      <th>12</th>\n",
       "      <td>gini</td>\n",
       "      <td>119.999996</td>\n",
       "      <td>1.500768e-02</td>\n",
       "      <td>7.799863e-04</td>\n",
       "      <td>0.446258</td>\n",
       "      <td>log2</td>\n",
       "      <td>43</td>\n",
       "      <td>0.238195</td>\n",
       "      <td>0.047059</td>\n",
       "      <td>0.000000</td>\n",
       "      <td>0.832742</td>\n",
       "    </tr>\n",
       "    <tr>\n",
       "      <th>13</th>\n",
       "      <td>entropy</td>\n",
       "      <td>119.999994</td>\n",
       "      <td>9.999661e-01</td>\n",
       "      <td>7.087085e-06</td>\n",
       "      <td>0.453251</td>\n",
       "      <td>sqrt</td>\n",
       "      <td>105</td>\n",
       "      <td>0.694955</td>\n",
       "      <td>0.150502</td>\n",
       "      <td>0.000000</td>\n",
       "      <td>0.500000</td>\n",
       "    </tr>\n",
       "    <tr>\n",
       "      <th>14</th>\n",
       "      <td>gini</td>\n",
       "      <td>120.000000</td>\n",
       "      <td>2.805106e-09</td>\n",
       "      <td>4.941392e-08</td>\n",
       "      <td>0.500000</td>\n",
       "      <td>log2</td>\n",
       "      <td>859</td>\n",
       "      <td>7.767476</td>\n",
       "      <td>1.014443</td>\n",
       "      <td>0.000000</td>\n",
       "      <td>0.764254</td>\n",
       "    </tr>\n",
       "    <tr>\n",
       "      <th>15</th>\n",
       "      <td>gini</td>\n",
       "      <td>7.935454</td>\n",
       "      <td>7.243547e-09</td>\n",
       "      <td>2.892299e-08</td>\n",
       "      <td>0.500000</td>\n",
       "      <td>sqrt</td>\n",
       "      <td>276</td>\n",
       "      <td>1.573752</td>\n",
       "      <td>0.183387</td>\n",
       "      <td>0.000000</td>\n",
       "      <td>0.754557</td>\n",
       "    </tr>\n",
       "    <tr>\n",
       "      <th>16</th>\n",
       "      <td>entropy</td>\n",
       "      <td>59.786011</td>\n",
       "      <td>7.086103e-02</td>\n",
       "      <td>1.521936e-03</td>\n",
       "      <td>0.349883</td>\n",
       "      <td>log2</td>\n",
       "      <td>992</td>\n",
       "      <td>3.589127</td>\n",
       "      <td>0.577511</td>\n",
       "      <td>0.000000</td>\n",
       "      <td>0.876340</td>\n",
       "    </tr>\n",
       "    <tr>\n",
       "      <th>17</th>\n",
       "      <td>gini</td>\n",
       "      <td>88.289174</td>\n",
       "      <td>7.446107e-01</td>\n",
       "      <td>1.778259e-03</td>\n",
       "      <td>0.321360</td>\n",
       "      <td>log2</td>\n",
       "      <td>992</td>\n",
       "      <td>3.432989</td>\n",
       "      <td>0.470631</td>\n",
       "      <td>0.000000</td>\n",
       "      <td>0.500000</td>\n",
       "    </tr>\n",
       "    <tr>\n",
       "      <th>18</th>\n",
       "      <td>gini</td>\n",
       "      <td>12.237708</td>\n",
       "      <td>3.008592e-01</td>\n",
       "      <td>2.937840e-01</td>\n",
       "      <td>0.362826</td>\n",
       "      <td>log2</td>\n",
       "      <td>427</td>\n",
       "      <td>2.830226</td>\n",
       "      <td>0.263932</td>\n",
       "      <td>0.000000</td>\n",
       "      <td>0.825041</td>\n",
       "    </tr>\n",
       "    <tr>\n",
       "      <th>19</th>\n",
       "      <td>gini</td>\n",
       "      <td>83.938397</td>\n",
       "      <td>1.083537e-01</td>\n",
       "      <td>3.162264e-01</td>\n",
       "      <td>0.492492</td>\n",
       "      <td>log2</td>\n",
       "      <td>22</td>\n",
       "      <td>0.170402</td>\n",
       "      <td>0.078098</td>\n",
       "      <td>0.000000</td>\n",
       "      <td>0.715181</td>\n",
       "    </tr>\n",
       "    <tr>\n",
       "      <th>20</th>\n",
       "      <td>gini</td>\n",
       "      <td>55.919223</td>\n",
       "      <td>9.142981e-01</td>\n",
       "      <td>4.742597e-02</td>\n",
       "      <td>0.024229</td>\n",
       "      <td>sqrt</td>\n",
       "      <td>24</td>\n",
       "      <td>0.141853</td>\n",
       "      <td>0.048206</td>\n",
       "      <td>0.000000</td>\n",
       "      <td>0.500000</td>\n",
       "    </tr>\n",
       "    <tr>\n",
       "      <th>21</th>\n",
       "      <td>gini</td>\n",
       "      <td>66.698088</td>\n",
       "      <td>8.774986e-01</td>\n",
       "      <td>7.204862e-02</td>\n",
       "      <td>0.201051</td>\n",
       "      <td>sqrt</td>\n",
       "      <td>550</td>\n",
       "      <td>3.517380</td>\n",
       "      <td>0.773600</td>\n",
       "      <td>0.000000</td>\n",
       "      <td>0.500000</td>\n",
       "    </tr>\n",
       "    <tr>\n",
       "      <th>22</th>\n",
       "      <td>entropy</td>\n",
       "      <td>16.077791</td>\n",
       "      <td>9.504907e-03</td>\n",
       "      <td>1.847848e-02</td>\n",
       "      <td>0.475145</td>\n",
       "      <td>log2</td>\n",
       "      <td>242</td>\n",
       "      <td>1.283704</td>\n",
       "      <td>0.195316</td>\n",
       "      <td>0.000000</td>\n",
       "      <td>0.811738</td>\n",
       "    </tr>\n",
       "    <tr>\n",
       "      <th>23</th>\n",
       "      <td>entropy</td>\n",
       "      <td>119.981831</td>\n",
       "      <td>3.151913e-03</td>\n",
       "      <td>4.934113e-01</td>\n",
       "      <td>0.426687</td>\n",
       "      <td>log2</td>\n",
       "      <td>552</td>\n",
       "      <td>2.082574</td>\n",
       "      <td>0.239451</td>\n",
       "      <td>0.000000</td>\n",
       "      <td>0.500000</td>\n",
       "    </tr>\n",
       "    <tr>\n",
       "      <th>24</th>\n",
       "      <td>gini</td>\n",
       "      <td>104.345194</td>\n",
       "      <td>1.191749e-01</td>\n",
       "      <td>4.941856e-01</td>\n",
       "      <td>0.499700</td>\n",
       "      <td>sqrt</td>\n",
       "      <td>461</td>\n",
       "      <td>2.373809</td>\n",
       "      <td>0.269391</td>\n",
       "      <td>0.000000</td>\n",
       "      <td>0.500000</td>\n",
       "    </tr>\n",
       "    <tr>\n",
       "      <th>25</th>\n",
       "      <td>entropy</td>\n",
       "      <td>2.000017</td>\n",
       "      <td>1.340695e-01</td>\n",
       "      <td>2.156120e-01</td>\n",
       "      <td>0.499799</td>\n",
       "      <td>log2</td>\n",
       "      <td>726</td>\n",
       "      <td>3.412614</td>\n",
       "      <td>0.315145</td>\n",
       "      <td>0.000000</td>\n",
       "      <td>0.761083</td>\n",
       "    </tr>\n",
       "    <tr>\n",
       "      <th>26</th>\n",
       "      <td>gini</td>\n",
       "      <td>21.238667</td>\n",
       "      <td>4.142608e-01</td>\n",
       "      <td>1.624323e-01</td>\n",
       "      <td>0.090466</td>\n",
       "      <td>sqrt</td>\n",
       "      <td>29</td>\n",
       "      <td>0.126710</td>\n",
       "      <td>0.054686</td>\n",
       "      <td>0.000000</td>\n",
       "      <td>0.869832</td>\n",
       "    </tr>\n",
       "    <tr>\n",
       "      <th>27</th>\n",
       "      <td>gini</td>\n",
       "      <td>26.530437</td>\n",
       "      <td>1.395900e-01</td>\n",
       "      <td>1.698718e-01</td>\n",
       "      <td>0.244592</td>\n",
       "      <td>sqrt</td>\n",
       "      <td>109</td>\n",
       "      <td>0.508795</td>\n",
       "      <td>0.073873</td>\n",
       "      <td>0.000000</td>\n",
       "      <td>0.870470</td>\n",
       "    </tr>\n",
       "    <tr>\n",
       "      <th>28</th>\n",
       "      <td>gini</td>\n",
       "      <td>119.999975</td>\n",
       "      <td>1.904229e-02</td>\n",
       "      <td>1.683946e-07</td>\n",
       "      <td>0.001248</td>\n",
       "      <td>log2</td>\n",
       "      <td>10</td>\n",
       "      <td>0.081563</td>\n",
       "      <td>0.032967</td>\n",
       "      <td>0.279807</td>\n",
       "      <td>0.893851</td>\n",
       "    </tr>\n",
       "    <tr>\n",
       "      <th>29</th>\n",
       "      <td>gini</td>\n",
       "      <td>111.468352</td>\n",
       "      <td>1.903243e-02</td>\n",
       "      <td>1.683946e-07</td>\n",
       "      <td>0.001248</td>\n",
       "      <td>log2</td>\n",
       "      <td>10</td>\n",
       "      <td>0.083781</td>\n",
       "      <td>0.033199</td>\n",
       "      <td>0.426637</td>\n",
       "      <td>0.908585</td>\n",
       "    </tr>\n",
       "    <tr>\n",
       "      <th>30</th>\n",
       "      <td>gini</td>\n",
       "      <td>118.375015</td>\n",
       "      <td>9.188783e-01</td>\n",
       "      <td>4.008035e-02</td>\n",
       "      <td>0.013683</td>\n",
       "      <td>sqrt</td>\n",
       "      <td>11</td>\n",
       "      <td>0.060191</td>\n",
       "      <td>0.030552</td>\n",
       "      <td>0.000000</td>\n",
       "      <td>0.500000</td>\n",
       "    </tr>\n",
       "    <tr>\n",
       "      <th>31</th>\n",
       "      <td>gini</td>\n",
       "      <td>115.067643</td>\n",
       "      <td>1.318608e-02</td>\n",
       "      <td>3.959337e-02</td>\n",
       "      <td>0.009196</td>\n",
       "      <td>log2</td>\n",
       "      <td>11</td>\n",
       "      <td>0.088045</td>\n",
       "      <td>0.033863</td>\n",
       "      <td>0.010929</td>\n",
       "      <td>0.890011</td>\n",
       "    </tr>\n",
       "    <tr>\n",
       "      <th>32</th>\n",
       "      <td>gini</td>\n",
       "      <td>118.303211</td>\n",
       "      <td>9.756181e-01</td>\n",
       "      <td>2.388963e-02</td>\n",
       "      <td>0.269086</td>\n",
       "      <td>sqrt</td>\n",
       "      <td>21</td>\n",
       "      <td>0.090271</td>\n",
       "      <td>0.033878</td>\n",
       "      <td>0.000000</td>\n",
       "      <td>0.500000</td>\n",
       "    </tr>\n",
       "    <tr>\n",
       "      <th>33</th>\n",
       "      <td>gini</td>\n",
       "      <td>117.869666</td>\n",
       "      <td>9.887545e-01</td>\n",
       "      <td>2.387701e-02</td>\n",
       "      <td>0.261363</td>\n",
       "      <td>sqrt</td>\n",
       "      <td>21</td>\n",
       "      <td>0.111647</td>\n",
       "      <td>0.036097</td>\n",
       "      <td>0.000000</td>\n",
       "      <td>0.500000</td>\n",
       "    </tr>\n",
       "    <tr>\n",
       "      <th>34</th>\n",
       "      <td>gini</td>\n",
       "      <td>45.454710</td>\n",
       "      <td>9.999779e-01</td>\n",
       "      <td>4.923885e-01</td>\n",
       "      <td>0.000284</td>\n",
       "      <td>log2</td>\n",
       "      <td>90</td>\n",
       "      <td>0.581281</td>\n",
       "      <td>0.106051</td>\n",
       "      <td>0.000000</td>\n",
       "      <td>0.500000</td>\n",
       "    </tr>\n",
       "    <tr>\n",
       "      <th>35</th>\n",
       "      <td>gini</td>\n",
       "      <td>45.454150</td>\n",
       "      <td>9.999802e-01</td>\n",
       "      <td>4.974265e-01</td>\n",
       "      <td>0.000022</td>\n",
       "      <td>log2</td>\n",
       "      <td>90</td>\n",
       "      <td>0.912712</td>\n",
       "      <td>0.132272</td>\n",
       "      <td>0.000000</td>\n",
       "      <td>0.500000</td>\n",
       "    </tr>\n",
       "    <tr>\n",
       "      <th>36</th>\n",
       "      <td>gini</td>\n",
       "      <td>21.829987</td>\n",
       "      <td>6.074976e-02</td>\n",
       "      <td>8.452050e-02</td>\n",
       "      <td>0.367500</td>\n",
       "      <td>sqrt</td>\n",
       "      <td>32</td>\n",
       "      <td>0.164796</td>\n",
       "      <td>0.052015</td>\n",
       "      <td>0.000000</td>\n",
       "      <td>0.860403</td>\n",
       "    </tr>\n",
       "    <tr>\n",
       "      <th>37</th>\n",
       "      <td>gini</td>\n",
       "      <td>26.193855</td>\n",
       "      <td>5.215591e-02</td>\n",
       "      <td>8.778360e-02</td>\n",
       "      <td>0.376730</td>\n",
       "      <td>sqrt</td>\n",
       "      <td>32</td>\n",
       "      <td>0.169605</td>\n",
       "      <td>0.060091</td>\n",
       "      <td>0.000000</td>\n",
       "      <td>0.867238</td>\n",
       "    </tr>\n",
       "    <tr>\n",
       "      <th>38</th>\n",
       "      <td>gini</td>\n",
       "      <td>20.485847</td>\n",
       "      <td>3.125912e-03</td>\n",
       "      <td>1.780351e-01</td>\n",
       "      <td>0.152331</td>\n",
       "      <td>sqrt</td>\n",
       "      <td>51</td>\n",
       "      <td>0.238930</td>\n",
       "      <td>0.055325</td>\n",
       "      <td>0.000000</td>\n",
       "      <td>0.877264</td>\n",
       "    </tr>\n",
       "    <tr>\n",
       "      <th>39</th>\n",
       "      <td>gini</td>\n",
       "      <td>26.453637</td>\n",
       "      <td>1.325634e-04</td>\n",
       "      <td>1.297236e-01</td>\n",
       "      <td>0.231838</td>\n",
       "      <td>sqrt</td>\n",
       "      <td>44</td>\n",
       "      <td>0.232735</td>\n",
       "      <td>0.053119</td>\n",
       "      <td>0.000000</td>\n",
       "      <td>0.868974</td>\n",
       "    </tr>\n",
       "  </tbody>\n",
       "</table>\n",
       "</div>"
      ],
      "text/plain": [
       "   criterion   max_depth  min_samples_split  min_samples_leaf  \\\n",
       "0       gini   61.000000       5.000000e-01      2.500000e-01   \n",
       "1    entropy   31.000000       7.500000e-01      1.250000e-01   \n",
       "2       gini   90.000000       2.500000e-01      3.750000e-01   \n",
       "3       gini   46.000000       6.250000e-01      6.250000e-02   \n",
       "4    entropy  105.000000       1.250000e-01      3.125000e-01   \n",
       "5    entropy   16.000000       3.750000e-01      1.875000e-01   \n",
       "6       gini   75.000000       8.750000e-01      4.375000e-01   \n",
       "7       gini   38.000000       3.125000e-01      3.437500e-01   \n",
       "8    entropy   97.000000       8.125000e-01      9.375000e-02   \n",
       "9    entropy    9.000000       5.625000e-01      4.687500e-01   \n",
       "10      gini   11.000000       9.074250e-01      7.483452e-05   \n",
       "11      gini  118.000000       5.444575e-03      1.268587e-05   \n",
       "12      gini  119.999996       1.500768e-02      7.799863e-04   \n",
       "13   entropy  119.999994       9.999661e-01      7.087085e-06   \n",
       "14      gini  120.000000       2.805106e-09      4.941392e-08   \n",
       "15      gini    7.935454       7.243547e-09      2.892299e-08   \n",
       "16   entropy   59.786011       7.086103e-02      1.521936e-03   \n",
       "17      gini   88.289174       7.446107e-01      1.778259e-03   \n",
       "18      gini   12.237708       3.008592e-01      2.937840e-01   \n",
       "19      gini   83.938397       1.083537e-01      3.162264e-01   \n",
       "20      gini   55.919223       9.142981e-01      4.742597e-02   \n",
       "21      gini   66.698088       8.774986e-01      7.204862e-02   \n",
       "22   entropy   16.077791       9.504907e-03      1.847848e-02   \n",
       "23   entropy  119.981831       3.151913e-03      4.934113e-01   \n",
       "24      gini  104.345194       1.191749e-01      4.941856e-01   \n",
       "25   entropy    2.000017       1.340695e-01      2.156120e-01   \n",
       "26      gini   21.238667       4.142608e-01      1.624323e-01   \n",
       "27      gini   26.530437       1.395900e-01      1.698718e-01   \n",
       "28      gini  119.999975       1.904229e-02      1.683946e-07   \n",
       "29      gini  111.468352       1.903243e-02      1.683946e-07   \n",
       "30      gini  118.375015       9.188783e-01      4.008035e-02   \n",
       "31      gini  115.067643       1.318608e-02      3.959337e-02   \n",
       "32      gini  118.303211       9.756181e-01      2.388963e-02   \n",
       "33      gini  117.869666       9.887545e-01      2.387701e-02   \n",
       "34      gini   45.454710       9.999779e-01      4.923885e-01   \n",
       "35      gini   45.454150       9.999802e-01      4.974265e-01   \n",
       "36      gini   21.829987       6.074976e-02      8.452050e-02   \n",
       "37      gini   26.193855       5.215591e-02      8.778360e-02   \n",
       "38      gini   20.485847       3.125912e-03      1.780351e-01   \n",
       "39      gini   26.453637       1.325634e-04      1.297236e-01   \n",
       "\n",
       "    min_weight_fraction_leaf max_features  n_estimators  fit_time  score_time  \\\n",
       "0                   0.250000         sqrt           505  1.867784    0.242659   \n",
       "1                   0.375000         sqrt           752  2.618322    0.388817   \n",
       "2                   0.125000         log2           257  1.118356    0.113337   \n",
       "3                   0.437500         log2           133  0.558473    0.085401   \n",
       "4                   0.187500         sqrt           628  2.242293    0.291249   \n",
       "5                   0.062500         log2           876  3.226000    0.430526   \n",
       "6                   0.312500         sqrt           381  1.329587    0.162075   \n",
       "7                   0.281250         sqrt            71  0.323588    0.062750   \n",
       "8                   0.031250         log2           566  2.065013    0.249505   \n",
       "9                   0.156250         sqrt           814  3.291096    0.399055   \n",
       "10                  0.499688         sqrt            40  0.160624    0.038346   \n",
       "11                  0.499670         log2           122  0.503241    0.066869   \n",
       "12                  0.446258         log2            43  0.238195    0.047059   \n",
       "13                  0.453251         sqrt           105  0.694955    0.150502   \n",
       "14                  0.500000         log2           859  7.767476    1.014443   \n",
       "15                  0.500000         sqrt           276  1.573752    0.183387   \n",
       "16                  0.349883         log2           992  3.589127    0.577511   \n",
       "17                  0.321360         log2           992  3.432989    0.470631   \n",
       "18                  0.362826         log2           427  2.830226    0.263932   \n",
       "19                  0.492492         log2            22  0.170402    0.078098   \n",
       "20                  0.024229         sqrt            24  0.141853    0.048206   \n",
       "21                  0.201051         sqrt           550  3.517380    0.773600   \n",
       "22                  0.475145         log2           242  1.283704    0.195316   \n",
       "23                  0.426687         log2           552  2.082574    0.239451   \n",
       "24                  0.499700         sqrt           461  2.373809    0.269391   \n",
       "25                  0.499799         log2           726  3.412614    0.315145   \n",
       "26                  0.090466         sqrt            29  0.126710    0.054686   \n",
       "27                  0.244592         sqrt           109  0.508795    0.073873   \n",
       "28                  0.001248         log2            10  0.081563    0.032967   \n",
       "29                  0.001248         log2            10  0.083781    0.033199   \n",
       "30                  0.013683         sqrt            11  0.060191    0.030552   \n",
       "31                  0.009196         log2            11  0.088045    0.033863   \n",
       "32                  0.269086         sqrt            21  0.090271    0.033878   \n",
       "33                  0.261363         sqrt            21  0.111647    0.036097   \n",
       "34                  0.000284         log2            90  0.581281    0.106051   \n",
       "35                  0.000022         log2            90  0.912712    0.132272   \n",
       "36                  0.367500         sqrt            32  0.164796    0.052015   \n",
       "37                  0.376730         sqrt            32  0.169605    0.060091   \n",
       "38                  0.152331         sqrt            51  0.238930    0.055325   \n",
       "39                  0.231838         sqrt            44  0.232735    0.053119   \n",
       "\n",
       "     test_f1  test_roc_auc  \n",
       "0   0.000000      0.860019  \n",
       "1   0.000000      0.500000  \n",
       "2   0.000000      0.500000  \n",
       "3   0.000000      0.838064  \n",
       "4   0.000000      0.791520  \n",
       "5   0.000000      0.874133  \n",
       "6   0.000000      0.500000  \n",
       "7   0.000000      0.500000  \n",
       "8   0.000000      0.500000  \n",
       "9   0.000000      0.500000  \n",
       "10  0.000000      0.500000  \n",
       "11  0.000000      0.756344  \n",
       "12  0.000000      0.832742  \n",
       "13  0.000000      0.500000  \n",
       "14  0.000000      0.764254  \n",
       "15  0.000000      0.754557  \n",
       "16  0.000000      0.876340  \n",
       "17  0.000000      0.500000  \n",
       "18  0.000000      0.825041  \n",
       "19  0.000000      0.715181  \n",
       "20  0.000000      0.500000  \n",
       "21  0.000000      0.500000  \n",
       "22  0.000000      0.811738  \n",
       "23  0.000000      0.500000  \n",
       "24  0.000000      0.500000  \n",
       "25  0.000000      0.761083  \n",
       "26  0.000000      0.869832  \n",
       "27  0.000000      0.870470  \n",
       "28  0.279807      0.893851  \n",
       "29  0.426637      0.908585  \n",
       "30  0.000000      0.500000  \n",
       "31  0.010929      0.890011  \n",
       "32  0.000000      0.500000  \n",
       "33  0.000000      0.500000  \n",
       "34  0.000000      0.500000  \n",
       "35  0.000000      0.500000  \n",
       "36  0.000000      0.860403  \n",
       "37  0.000000      0.867238  \n",
       "38  0.000000      0.877264  \n",
       "39  0.000000      0.868974  "
      ]
     },
     "execution_count": 19,
     "metadata": {},
     "output_type": "execute_result"
    }
   ],
   "source": [
    "pd.read_pickle('./bench/dataset.zy7hek.pkl')"
   ]
  },
  {
   "cell_type": "code",
   "execution_count": 17,
   "metadata": {},
   "outputs": [
    {
     "data": {
      "text/html": [
       "<div>\n",
       "<style scoped>\n",
       "    .dataframe tbody tr th:only-of-type {\n",
       "        vertical-align: middle;\n",
       "    }\n",
       "\n",
       "    .dataframe tbody tr th {\n",
       "        vertical-align: top;\n",
       "    }\n",
       "\n",
       "    .dataframe thead th {\n",
       "        text-align: right;\n",
       "    }\n",
       "</style>\n",
       "<table border=\"1\" class=\"dataframe\">\n",
       "  <thead>\n",
       "    <tr style=\"text-align: right;\">\n",
       "      <th></th>\n",
       "      <th>iteration</th>\n",
       "      <th>problem</th>\n",
       "      <th>objectives</th>\n",
       "      <th>feature_dim</th>\n",
       "      <th>ndf_size</th>\n",
       "      <th>ndf_x</th>\n",
       "      <th>i_time</th>\n",
       "      <th>model_id</th>\n",
       "      <th>test_roc_auc</th>\n",
       "      <th>fit_time</th>\n",
       "    </tr>\n",
       "  </thead>\n",
       "  <tbody>\n",
       "    <tr>\n",
       "      <th>0</th>\n",
       "      <td>1</td>\n",
       "      <td>separate(GaussianProcessRegressor+GaussianProc...</td>\n",
       "      <td>[test_roc_auc, fit_time]</td>\n",
       "      <td>7</td>\n",
       "      <td>1</td>\n",
       "      <td>[[gini, 11.0, 0.9074249842573411, 7.4834517627...</td>\n",
       "      <td>27.768566</td>\n",
       "      <td>139844412893552</td>\n",
       "      <td>0.500000</td>\n",
       "      <td>0.160624</td>\n",
       "    </tr>\n",
       "    <tr>\n",
       "      <th>1</th>\n",
       "      <td>2</td>\n",
       "      <td>separate(GaussianProcessRegressor+GaussianProc...</td>\n",
       "      <td>[test_roc_auc, fit_time]</td>\n",
       "      <td>7</td>\n",
       "      <td>1</td>\n",
       "      <td>[[gini, 11.0, 0.9074249842573411, 7.4834517627...</td>\n",
       "      <td>53.861493</td>\n",
       "      <td>139844412893552</td>\n",
       "      <td>0.500000</td>\n",
       "      <td>0.160624</td>\n",
       "    </tr>\n",
       "    <tr>\n",
       "      <th>2</th>\n",
       "      <td>3</td>\n",
       "      <td>separate(GaussianProcessRegressor+GaussianProc...</td>\n",
       "      <td>[test_roc_auc, fit_time]</td>\n",
       "      <td>7</td>\n",
       "      <td>1</td>\n",
       "      <td>[[gini, 11.0, 0.9074249842573411, 7.4834517627...</td>\n",
       "      <td>96.874480</td>\n",
       "      <td>139844412893552</td>\n",
       "      <td>0.500000</td>\n",
       "      <td>0.160624</td>\n",
       "    </tr>\n",
       "    <tr>\n",
       "      <th>3</th>\n",
       "      <td>4</td>\n",
       "      <td>separate(GaussianProcessRegressor+GaussianProc...</td>\n",
       "      <td>[test_roc_auc, fit_time]</td>\n",
       "      <td>7</td>\n",
       "      <td>1</td>\n",
       "      <td>[[gini, 11.0, 0.9074249842573411, 7.4834517627...</td>\n",
       "      <td>132.577953</td>\n",
       "      <td>139844412893552</td>\n",
       "      <td>0.500000</td>\n",
       "      <td>0.160624</td>\n",
       "    </tr>\n",
       "    <tr>\n",
       "      <th>4</th>\n",
       "      <td>5</td>\n",
       "      <td>separate(GaussianProcessRegressor+GaussianProc...</td>\n",
       "      <td>[test_roc_auc, fit_time]</td>\n",
       "      <td>7</td>\n",
       "      <td>1</td>\n",
       "      <td>[[gini, 11.0, 0.9074249842573411, 7.4834517627...</td>\n",
       "      <td>167.800150</td>\n",
       "      <td>139844412893552</td>\n",
       "      <td>0.500000</td>\n",
       "      <td>0.160624</td>\n",
       "    </tr>\n",
       "    <tr>\n",
       "      <th>5</th>\n",
       "      <td>6</td>\n",
       "      <td>separate(GaussianProcessRegressor+GaussianProc...</td>\n",
       "      <td>[test_roc_auc, fit_time]</td>\n",
       "      <td>7</td>\n",
       "      <td>2</td>\n",
       "      <td>[[gini, 11.0, 0.9074249842573411, 7.4834517627...</td>\n",
       "      <td>198.833845</td>\n",
       "      <td>139844412893552</td>\n",
       "      <td>0.500000</td>\n",
       "      <td>0.160624</td>\n",
       "    </tr>\n",
       "    <tr>\n",
       "      <th>6</th>\n",
       "      <td>6</td>\n",
       "      <td>separate(GaussianProcessRegressor+GaussianProc...</td>\n",
       "      <td>[test_roc_auc, fit_time]</td>\n",
       "      <td>7</td>\n",
       "      <td>2</td>\n",
       "      <td>[[gini, 11.0, 0.9074249842573411, 7.4834517627...</td>\n",
       "      <td>198.833845</td>\n",
       "      <td>139844412893552</td>\n",
       "      <td>0.500000</td>\n",
       "      <td>0.141853</td>\n",
       "    </tr>\n",
       "    <tr>\n",
       "      <th>7</th>\n",
       "      <td>7</td>\n",
       "      <td>separate(GaussianProcessRegressor+GaussianProc...</td>\n",
       "      <td>[test_roc_auc, fit_time]</td>\n",
       "      <td>7</td>\n",
       "      <td>2</td>\n",
       "      <td>[[gini, 11.0, 0.9074249842573411, 7.4834517627...</td>\n",
       "      <td>237.078687</td>\n",
       "      <td>139844412893552</td>\n",
       "      <td>0.500000</td>\n",
       "      <td>0.160624</td>\n",
       "    </tr>\n",
       "    <tr>\n",
       "      <th>8</th>\n",
       "      <td>7</td>\n",
       "      <td>separate(GaussianProcessRegressor+GaussianProc...</td>\n",
       "      <td>[test_roc_auc, fit_time]</td>\n",
       "      <td>7</td>\n",
       "      <td>2</td>\n",
       "      <td>[[gini, 11.0, 0.9074249842573411, 7.4834517627...</td>\n",
       "      <td>237.078687</td>\n",
       "      <td>139844412893552</td>\n",
       "      <td>0.500000</td>\n",
       "      <td>0.141853</td>\n",
       "    </tr>\n",
       "    <tr>\n",
       "      <th>9</th>\n",
       "      <td>8</td>\n",
       "      <td>separate(GaussianProcessRegressor+GaussianProc...</td>\n",
       "      <td>[test_roc_auc, fit_time]</td>\n",
       "      <td>7</td>\n",
       "      <td>2</td>\n",
       "      <td>[[gini, 11.0, 0.9074249842573411, 7.4834517627...</td>\n",
       "      <td>267.142237</td>\n",
       "      <td>139844412893552</td>\n",
       "      <td>0.500000</td>\n",
       "      <td>0.160624</td>\n",
       "    </tr>\n",
       "    <tr>\n",
       "      <th>10</th>\n",
       "      <td>8</td>\n",
       "      <td>separate(GaussianProcessRegressor+GaussianProc...</td>\n",
       "      <td>[test_roc_auc, fit_time]</td>\n",
       "      <td>7</td>\n",
       "      <td>2</td>\n",
       "      <td>[[gini, 11.0, 0.9074249842573411, 7.4834517627...</td>\n",
       "      <td>267.142237</td>\n",
       "      <td>139844412893552</td>\n",
       "      <td>0.500000</td>\n",
       "      <td>0.141853</td>\n",
       "    </tr>\n",
       "    <tr>\n",
       "      <th>11</th>\n",
       "      <td>9</td>\n",
       "      <td>separate(GaussianProcessRegressor+GaussianProc...</td>\n",
       "      <td>[test_roc_auc, fit_time]</td>\n",
       "      <td>7</td>\n",
       "      <td>3</td>\n",
       "      <td>[[gini, 11.0, 0.9074249842573411, 7.4834517627...</td>\n",
       "      <td>290.497768</td>\n",
       "      <td>139844412893552</td>\n",
       "      <td>0.500000</td>\n",
       "      <td>0.160624</td>\n",
       "    </tr>\n",
       "    <tr>\n",
       "      <th>12</th>\n",
       "      <td>9</td>\n",
       "      <td>separate(GaussianProcessRegressor+GaussianProc...</td>\n",
       "      <td>[test_roc_auc, fit_time]</td>\n",
       "      <td>7</td>\n",
       "      <td>3</td>\n",
       "      <td>[[gini, 11.0, 0.9074249842573411, 7.4834517627...</td>\n",
       "      <td>290.497768</td>\n",
       "      <td>139844412893552</td>\n",
       "      <td>0.500000</td>\n",
       "      <td>0.141853</td>\n",
       "    </tr>\n",
       "    <tr>\n",
       "      <th>13</th>\n",
       "      <td>9</td>\n",
       "      <td>separate(GaussianProcessRegressor+GaussianProc...</td>\n",
       "      <td>[test_roc_auc, fit_time]</td>\n",
       "      <td>7</td>\n",
       "      <td>3</td>\n",
       "      <td>[[gini, 11.0, 0.9074249842573411, 7.4834517627...</td>\n",
       "      <td>290.497768</td>\n",
       "      <td>139844412893552</td>\n",
       "      <td>0.869832</td>\n",
       "      <td>0.126710</td>\n",
       "    </tr>\n",
       "    <tr>\n",
       "      <th>14</th>\n",
       "      <td>10</td>\n",
       "      <td>separate(GaussianProcessRegressor+GaussianProc...</td>\n",
       "      <td>[test_roc_auc, fit_time]</td>\n",
       "      <td>7</td>\n",
       "      <td>4</td>\n",
       "      <td>[[gini, 11.0, 0.9074249842573411, 7.4834517627...</td>\n",
       "      <td>315.165687</td>\n",
       "      <td>139844412893552</td>\n",
       "      <td>0.500000</td>\n",
       "      <td>0.160624</td>\n",
       "    </tr>\n",
       "    <tr>\n",
       "      <th>15</th>\n",
       "      <td>10</td>\n",
       "      <td>separate(GaussianProcessRegressor+GaussianProc...</td>\n",
       "      <td>[test_roc_auc, fit_time]</td>\n",
       "      <td>7</td>\n",
       "      <td>4</td>\n",
       "      <td>[[gini, 11.0, 0.9074249842573411, 7.4834517627...</td>\n",
       "      <td>315.165687</td>\n",
       "      <td>139844412893552</td>\n",
       "      <td>0.500000</td>\n",
       "      <td>0.141853</td>\n",
       "    </tr>\n",
       "    <tr>\n",
       "      <th>16</th>\n",
       "      <td>10</td>\n",
       "      <td>separate(GaussianProcessRegressor+GaussianProc...</td>\n",
       "      <td>[test_roc_auc, fit_time]</td>\n",
       "      <td>7</td>\n",
       "      <td>4</td>\n",
       "      <td>[[gini, 11.0, 0.9074249842573411, 7.4834517627...</td>\n",
       "      <td>315.165687</td>\n",
       "      <td>139844412893552</td>\n",
       "      <td>0.869832</td>\n",
       "      <td>0.126710</td>\n",
       "    </tr>\n",
       "    <tr>\n",
       "      <th>17</th>\n",
       "      <td>10</td>\n",
       "      <td>separate(GaussianProcessRegressor+GaussianProc...</td>\n",
       "      <td>[test_roc_auc, fit_time]</td>\n",
       "      <td>7</td>\n",
       "      <td>4</td>\n",
       "      <td>[[gini, 11.0, 0.9074249842573411, 7.4834517627...</td>\n",
       "      <td>315.165687</td>\n",
       "      <td>139844412893552</td>\n",
       "      <td>0.893851</td>\n",
       "      <td>0.081563</td>\n",
       "    </tr>\n",
       "    <tr>\n",
       "      <th>18</th>\n",
       "      <td>11</td>\n",
       "      <td>separate(GaussianProcessRegressor+GaussianProc...</td>\n",
       "      <td>[test_roc_auc, fit_time]</td>\n",
       "      <td>7</td>\n",
       "      <td>1</td>\n",
       "      <td>[[gini, 118.37501499388446, 0.9188782835374304...</td>\n",
       "      <td>342.896747</td>\n",
       "      <td>139844412893552</td>\n",
       "      <td>0.500000</td>\n",
       "      <td>0.060191</td>\n",
       "    </tr>\n",
       "    <tr>\n",
       "      <th>19</th>\n",
       "      <td>12</td>\n",
       "      <td>separate(GaussianProcessRegressor+GaussianProc...</td>\n",
       "      <td>[test_roc_auc, fit_time]</td>\n",
       "      <td>7</td>\n",
       "      <td>1</td>\n",
       "      <td>[[gini, 118.37501499388446, 0.9188782835374304...</td>\n",
       "      <td>366.378298</td>\n",
       "      <td>139844412893552</td>\n",
       "      <td>0.500000</td>\n",
       "      <td>0.060191</td>\n",
       "    </tr>\n",
       "    <tr>\n",
       "      <th>20</th>\n",
       "      <td>13</td>\n",
       "      <td>separate(GaussianProcessRegressor+GaussianProc...</td>\n",
       "      <td>[test_roc_auc, fit_time]</td>\n",
       "      <td>7</td>\n",
       "      <td>1</td>\n",
       "      <td>[[gini, 118.37501499388446, 0.9188782835374304...</td>\n",
       "      <td>395.297879</td>\n",
       "      <td>139844412893552</td>\n",
       "      <td>0.500000</td>\n",
       "      <td>0.060191</td>\n",
       "    </tr>\n",
       "    <tr>\n",
       "      <th>21</th>\n",
       "      <td>14</td>\n",
       "      <td>separate(GaussianProcessRegressor+GaussianProc...</td>\n",
       "      <td>[test_roc_auc, fit_time]</td>\n",
       "      <td>7</td>\n",
       "      <td>1</td>\n",
       "      <td>[[gini, 118.37501499388446, 0.9188782835374304...</td>\n",
       "      <td>420.000753</td>\n",
       "      <td>139844412893552</td>\n",
       "      <td>0.500000</td>\n",
       "      <td>0.060191</td>\n",
       "    </tr>\n",
       "    <tr>\n",
       "      <th>22</th>\n",
       "      <td>15</td>\n",
       "      <td>separate(GaussianProcessRegressor+GaussianProc...</td>\n",
       "      <td>[test_roc_auc, fit_time]</td>\n",
       "      <td>7</td>\n",
       "      <td>1</td>\n",
       "      <td>[[gini, 118.37501499388446, 0.9188782835374304...</td>\n",
       "      <td>444.389829</td>\n",
       "      <td>139844412893552</td>\n",
       "      <td>0.500000</td>\n",
       "      <td>0.060191</td>\n",
       "    </tr>\n",
       "  </tbody>\n",
       "</table>\n",
       "</div>"
      ],
      "text/plain": [
       "    iteration                                            problem  \\\n",
       "0           1  separate(GaussianProcessRegressor+GaussianProc...   \n",
       "1           2  separate(GaussianProcessRegressor+GaussianProc...   \n",
       "2           3  separate(GaussianProcessRegressor+GaussianProc...   \n",
       "3           4  separate(GaussianProcessRegressor+GaussianProc...   \n",
       "4           5  separate(GaussianProcessRegressor+GaussianProc...   \n",
       "5           6  separate(GaussianProcessRegressor+GaussianProc...   \n",
       "6           6  separate(GaussianProcessRegressor+GaussianProc...   \n",
       "7           7  separate(GaussianProcessRegressor+GaussianProc...   \n",
       "8           7  separate(GaussianProcessRegressor+GaussianProc...   \n",
       "9           8  separate(GaussianProcessRegressor+GaussianProc...   \n",
       "10          8  separate(GaussianProcessRegressor+GaussianProc...   \n",
       "11          9  separate(GaussianProcessRegressor+GaussianProc...   \n",
       "12          9  separate(GaussianProcessRegressor+GaussianProc...   \n",
       "13          9  separate(GaussianProcessRegressor+GaussianProc...   \n",
       "14         10  separate(GaussianProcessRegressor+GaussianProc...   \n",
       "15         10  separate(GaussianProcessRegressor+GaussianProc...   \n",
       "16         10  separate(GaussianProcessRegressor+GaussianProc...   \n",
       "17         10  separate(GaussianProcessRegressor+GaussianProc...   \n",
       "18         11  separate(GaussianProcessRegressor+GaussianProc...   \n",
       "19         12  separate(GaussianProcessRegressor+GaussianProc...   \n",
       "20         13  separate(GaussianProcessRegressor+GaussianProc...   \n",
       "21         14  separate(GaussianProcessRegressor+GaussianProc...   \n",
       "22         15  separate(GaussianProcessRegressor+GaussianProc...   \n",
       "\n",
       "                  objectives  feature_dim  ndf_size  \\\n",
       "0   [test_roc_auc, fit_time]            7         1   \n",
       "1   [test_roc_auc, fit_time]            7         1   \n",
       "2   [test_roc_auc, fit_time]            7         1   \n",
       "3   [test_roc_auc, fit_time]            7         1   \n",
       "4   [test_roc_auc, fit_time]            7         1   \n",
       "5   [test_roc_auc, fit_time]            7         2   \n",
       "6   [test_roc_auc, fit_time]            7         2   \n",
       "7   [test_roc_auc, fit_time]            7         2   \n",
       "8   [test_roc_auc, fit_time]            7         2   \n",
       "9   [test_roc_auc, fit_time]            7         2   \n",
       "10  [test_roc_auc, fit_time]            7         2   \n",
       "11  [test_roc_auc, fit_time]            7         3   \n",
       "12  [test_roc_auc, fit_time]            7         3   \n",
       "13  [test_roc_auc, fit_time]            7         3   \n",
       "14  [test_roc_auc, fit_time]            7         4   \n",
       "15  [test_roc_auc, fit_time]            7         4   \n",
       "16  [test_roc_auc, fit_time]            7         4   \n",
       "17  [test_roc_auc, fit_time]            7         4   \n",
       "18  [test_roc_auc, fit_time]            7         1   \n",
       "19  [test_roc_auc, fit_time]            7         1   \n",
       "20  [test_roc_auc, fit_time]            7         1   \n",
       "21  [test_roc_auc, fit_time]            7         1   \n",
       "22  [test_roc_auc, fit_time]            7         1   \n",
       "\n",
       "                                                ndf_x      i_time  \\\n",
       "0   [[gini, 11.0, 0.9074249842573411, 7.4834517627...   27.768566   \n",
       "1   [[gini, 11.0, 0.9074249842573411, 7.4834517627...   53.861493   \n",
       "2   [[gini, 11.0, 0.9074249842573411, 7.4834517627...   96.874480   \n",
       "3   [[gini, 11.0, 0.9074249842573411, 7.4834517627...  132.577953   \n",
       "4   [[gini, 11.0, 0.9074249842573411, 7.4834517627...  167.800150   \n",
       "5   [[gini, 11.0, 0.9074249842573411, 7.4834517627...  198.833845   \n",
       "6   [[gini, 11.0, 0.9074249842573411, 7.4834517627...  198.833845   \n",
       "7   [[gini, 11.0, 0.9074249842573411, 7.4834517627...  237.078687   \n",
       "8   [[gini, 11.0, 0.9074249842573411, 7.4834517627...  237.078687   \n",
       "9   [[gini, 11.0, 0.9074249842573411, 7.4834517627...  267.142237   \n",
       "10  [[gini, 11.0, 0.9074249842573411, 7.4834517627...  267.142237   \n",
       "11  [[gini, 11.0, 0.9074249842573411, 7.4834517627...  290.497768   \n",
       "12  [[gini, 11.0, 0.9074249842573411, 7.4834517627...  290.497768   \n",
       "13  [[gini, 11.0, 0.9074249842573411, 7.4834517627...  290.497768   \n",
       "14  [[gini, 11.0, 0.9074249842573411, 7.4834517627...  315.165687   \n",
       "15  [[gini, 11.0, 0.9074249842573411, 7.4834517627...  315.165687   \n",
       "16  [[gini, 11.0, 0.9074249842573411, 7.4834517627...  315.165687   \n",
       "17  [[gini, 11.0, 0.9074249842573411, 7.4834517627...  315.165687   \n",
       "18  [[gini, 118.37501499388446, 0.9188782835374304...  342.896747   \n",
       "19  [[gini, 118.37501499388446, 0.9188782835374304...  366.378298   \n",
       "20  [[gini, 118.37501499388446, 0.9188782835374304...  395.297879   \n",
       "21  [[gini, 118.37501499388446, 0.9188782835374304...  420.000753   \n",
       "22  [[gini, 118.37501499388446, 0.9188782835374304...  444.389829   \n",
       "\n",
       "           model_id  test_roc_auc  fit_time  \n",
       "0   139844412893552      0.500000  0.160624  \n",
       "1   139844412893552      0.500000  0.160624  \n",
       "2   139844412893552      0.500000  0.160624  \n",
       "3   139844412893552      0.500000  0.160624  \n",
       "4   139844412893552      0.500000  0.160624  \n",
       "5   139844412893552      0.500000  0.160624  \n",
       "6   139844412893552      0.500000  0.141853  \n",
       "7   139844412893552      0.500000  0.160624  \n",
       "8   139844412893552      0.500000  0.141853  \n",
       "9   139844412893552      0.500000  0.160624  \n",
       "10  139844412893552      0.500000  0.141853  \n",
       "11  139844412893552      0.500000  0.160624  \n",
       "12  139844412893552      0.500000  0.141853  \n",
       "13  139844412893552      0.869832  0.126710  \n",
       "14  139844412893552      0.500000  0.160624  \n",
       "15  139844412893552      0.500000  0.141853  \n",
       "16  139844412893552      0.869832  0.126710  \n",
       "17  139844412893552      0.893851  0.081563  \n",
       "18  139844412893552      0.500000  0.060191  \n",
       "19  139844412893552      0.500000  0.060191  \n",
       "20  139844412893552      0.500000  0.060191  \n",
       "21  139844412893552      0.500000  0.060191  \n",
       "22  139844412893552      0.500000  0.060191  "
      ]
     },
     "execution_count": 17,
     "metadata": {},
     "output_type": "execute_result"
    }
   ],
   "source": [
    "temp_df = pd.DataFrame.from_records(df.explode('ndf_f'))\n",
    "\n",
    "ndf_f = pd.DataFrame.from_records(temp_df['ndf_f'].values, columns=temp_df.iloc[0]['objectives']) \n",
    "temp_df = pd.concat([temp_df.reset_index(drop=True), ndf_f], axis=1).drop('ndf_f', 1)\n",
    "temp_df"
   ]
  },
  {
   "cell_type": "code",
   "execution_count": 18,
   "metadata": {},
   "outputs": [
    {
     "data": {
      "application/vnd.plotly.v1+json": {
       "config": {
        "plotlyServerURL": "https://plot.ly"
       },
       "data": [
        {
         "hovertemplate": "test_roc_auc=%{x}<br>fit_time=%{y}<br>iteration=%{marker.color}<extra></extra>",
         "legendgroup": "",
         "marker": {
          "color": [
           1,
           2,
           3,
           4,
           5,
           6,
           6,
           7,
           7,
           8,
           8,
           9,
           9,
           9,
           10,
           10,
           10,
           10,
           11,
           12,
           13,
           14,
           15
          ],
          "coloraxis": "coloraxis",
          "symbol": "circle"
         },
         "mode": "markers",
         "name": "",
         "orientation": "v",
         "showlegend": false,
         "type": "scatter",
         "x": [
          0.5,
          0.5,
          0.5,
          0.5,
          0.5,
          0.5,
          0.5,
          0.5,
          0.5,
          0.5,
          0.5,
          0.5,
          0.5,
          0.8698321811639186,
          0.5,
          0.5,
          0.8698321811639186,
          0.8938511022501489,
          0.5,
          0.5,
          0.5,
          0.5,
          0.5
         ],
         "xaxis": "x",
         "y": [
          0.16062370936075845,
          0.16062370936075845,
          0.16062370936075845,
          0.16062370936075845,
          0.16062370936075845,
          0.16062370936075845,
          0.14185261726379395,
          0.16062370936075845,
          0.14185261726379395,
          0.16062370936075845,
          0.14185261726379395,
          0.16062370936075845,
          0.14185261726379395,
          0.1267101764678955,
          0.16062370936075845,
          0.14185261726379395,
          0.1267101764678955,
          0.08156347274780273,
          0.06019123395284017,
          0.06019123395284017,
          0.06019123395284017,
          0.06019123395284017,
          0.06019123395284017
         ],
         "yaxis": "y"
        }
       ],
       "layout": {
        "autosize": true,
        "coloraxis": {
         "colorbar": {
          "title": {
           "text": "iteration"
          }
         },
         "colorscale": [
          [
           0,
           "#0d0887"
          ],
          [
           0.1111111111111111,
           "#46039f"
          ],
          [
           0.2222222222222222,
           "#7201a8"
          ],
          [
           0.3333333333333333,
           "#9c179e"
          ],
          [
           0.4444444444444444,
           "#bd3786"
          ],
          [
           0.5555555555555556,
           "#d8576b"
          ],
          [
           0.6666666666666666,
           "#ed7953"
          ],
          [
           0.7777777777777778,
           "#fb9f3a"
          ],
          [
           0.8888888888888888,
           "#fdca26"
          ],
          [
           1,
           "#f0f921"
          ]
         ]
        },
        "legend": {
         "tracegroupgap": 0
        },
        "margin": {
         "t": 60
        },
        "template": {
         "data": {
          "bar": [
           {
            "error_x": {
             "color": "#2a3f5f"
            },
            "error_y": {
             "color": "#2a3f5f"
            },
            "marker": {
             "line": {
              "color": "#E5ECF6",
              "width": 0.5
             }
            },
            "type": "bar"
           }
          ],
          "barpolar": [
           {
            "marker": {
             "line": {
              "color": "#E5ECF6",
              "width": 0.5
             }
            },
            "type": "barpolar"
           }
          ],
          "carpet": [
           {
            "aaxis": {
             "endlinecolor": "#2a3f5f",
             "gridcolor": "white",
             "linecolor": "white",
             "minorgridcolor": "white",
             "startlinecolor": "#2a3f5f"
            },
            "baxis": {
             "endlinecolor": "#2a3f5f",
             "gridcolor": "white",
             "linecolor": "white",
             "minorgridcolor": "white",
             "startlinecolor": "#2a3f5f"
            },
            "type": "carpet"
           }
          ],
          "choropleth": [
           {
            "colorbar": {
             "outlinewidth": 0,
             "ticks": ""
            },
            "type": "choropleth"
           }
          ],
          "contour": [
           {
            "colorbar": {
             "outlinewidth": 0,
             "ticks": ""
            },
            "colorscale": [
             [
              0,
              "#0d0887"
             ],
             [
              0.1111111111111111,
              "#46039f"
             ],
             [
              0.2222222222222222,
              "#7201a8"
             ],
             [
              0.3333333333333333,
              "#9c179e"
             ],
             [
              0.4444444444444444,
              "#bd3786"
             ],
             [
              0.5555555555555556,
              "#d8576b"
             ],
             [
              0.6666666666666666,
              "#ed7953"
             ],
             [
              0.7777777777777778,
              "#fb9f3a"
             ],
             [
              0.8888888888888888,
              "#fdca26"
             ],
             [
              1,
              "#f0f921"
             ]
            ],
            "type": "contour"
           }
          ],
          "contourcarpet": [
           {
            "colorbar": {
             "outlinewidth": 0,
             "ticks": ""
            },
            "type": "contourcarpet"
           }
          ],
          "heatmap": [
           {
            "colorbar": {
             "outlinewidth": 0,
             "ticks": ""
            },
            "colorscale": [
             [
              0,
              "#0d0887"
             ],
             [
              0.1111111111111111,
              "#46039f"
             ],
             [
              0.2222222222222222,
              "#7201a8"
             ],
             [
              0.3333333333333333,
              "#9c179e"
             ],
             [
              0.4444444444444444,
              "#bd3786"
             ],
             [
              0.5555555555555556,
              "#d8576b"
             ],
             [
              0.6666666666666666,
              "#ed7953"
             ],
             [
              0.7777777777777778,
              "#fb9f3a"
             ],
             [
              0.8888888888888888,
              "#fdca26"
             ],
             [
              1,
              "#f0f921"
             ]
            ],
            "type": "heatmap"
           }
          ],
          "heatmapgl": [
           {
            "colorbar": {
             "outlinewidth": 0,
             "ticks": ""
            },
            "colorscale": [
             [
              0,
              "#0d0887"
             ],
             [
              0.1111111111111111,
              "#46039f"
             ],
             [
              0.2222222222222222,
              "#7201a8"
             ],
             [
              0.3333333333333333,
              "#9c179e"
             ],
             [
              0.4444444444444444,
              "#bd3786"
             ],
             [
              0.5555555555555556,
              "#d8576b"
             ],
             [
              0.6666666666666666,
              "#ed7953"
             ],
             [
              0.7777777777777778,
              "#fb9f3a"
             ],
             [
              0.8888888888888888,
              "#fdca26"
             ],
             [
              1,
              "#f0f921"
             ]
            ],
            "type": "heatmapgl"
           }
          ],
          "histogram": [
           {
            "marker": {
             "colorbar": {
              "outlinewidth": 0,
              "ticks": ""
             }
            },
            "type": "histogram"
           }
          ],
          "histogram2d": [
           {
            "colorbar": {
             "outlinewidth": 0,
             "ticks": ""
            },
            "colorscale": [
             [
              0,
              "#0d0887"
             ],
             [
              0.1111111111111111,
              "#46039f"
             ],
             [
              0.2222222222222222,
              "#7201a8"
             ],
             [
              0.3333333333333333,
              "#9c179e"
             ],
             [
              0.4444444444444444,
              "#bd3786"
             ],
             [
              0.5555555555555556,
              "#d8576b"
             ],
             [
              0.6666666666666666,
              "#ed7953"
             ],
             [
              0.7777777777777778,
              "#fb9f3a"
             ],
             [
              0.8888888888888888,
              "#fdca26"
             ],
             [
              1,
              "#f0f921"
             ]
            ],
            "type": "histogram2d"
           }
          ],
          "histogram2dcontour": [
           {
            "colorbar": {
             "outlinewidth": 0,
             "ticks": ""
            },
            "colorscale": [
             [
              0,
              "#0d0887"
             ],
             [
              0.1111111111111111,
              "#46039f"
             ],
             [
              0.2222222222222222,
              "#7201a8"
             ],
             [
              0.3333333333333333,
              "#9c179e"
             ],
             [
              0.4444444444444444,
              "#bd3786"
             ],
             [
              0.5555555555555556,
              "#d8576b"
             ],
             [
              0.6666666666666666,
              "#ed7953"
             ],
             [
              0.7777777777777778,
              "#fb9f3a"
             ],
             [
              0.8888888888888888,
              "#fdca26"
             ],
             [
              1,
              "#f0f921"
             ]
            ],
            "type": "histogram2dcontour"
           }
          ],
          "mesh3d": [
           {
            "colorbar": {
             "outlinewidth": 0,
             "ticks": ""
            },
            "type": "mesh3d"
           }
          ],
          "parcoords": [
           {
            "line": {
             "colorbar": {
              "outlinewidth": 0,
              "ticks": ""
             }
            },
            "type": "parcoords"
           }
          ],
          "pie": [
           {
            "automargin": true,
            "type": "pie"
           }
          ],
          "scatter": [
           {
            "marker": {
             "colorbar": {
              "outlinewidth": 0,
              "ticks": ""
             }
            },
            "type": "scatter"
           }
          ],
          "scatter3d": [
           {
            "line": {
             "colorbar": {
              "outlinewidth": 0,
              "ticks": ""
             }
            },
            "marker": {
             "colorbar": {
              "outlinewidth": 0,
              "ticks": ""
             }
            },
            "type": "scatter3d"
           }
          ],
          "scattercarpet": [
           {
            "marker": {
             "colorbar": {
              "outlinewidth": 0,
              "ticks": ""
             }
            },
            "type": "scattercarpet"
           }
          ],
          "scattergeo": [
           {
            "marker": {
             "colorbar": {
              "outlinewidth": 0,
              "ticks": ""
             }
            },
            "type": "scattergeo"
           }
          ],
          "scattergl": [
           {
            "marker": {
             "colorbar": {
              "outlinewidth": 0,
              "ticks": ""
             }
            },
            "type": "scattergl"
           }
          ],
          "scattermapbox": [
           {
            "marker": {
             "colorbar": {
              "outlinewidth": 0,
              "ticks": ""
             }
            },
            "type": "scattermapbox"
           }
          ],
          "scatterpolar": [
           {
            "marker": {
             "colorbar": {
              "outlinewidth": 0,
              "ticks": ""
             }
            },
            "type": "scatterpolar"
           }
          ],
          "scatterpolargl": [
           {
            "marker": {
             "colorbar": {
              "outlinewidth": 0,
              "ticks": ""
             }
            },
            "type": "scatterpolargl"
           }
          ],
          "scatterternary": [
           {
            "marker": {
             "colorbar": {
              "outlinewidth": 0,
              "ticks": ""
             }
            },
            "type": "scatterternary"
           }
          ],
          "surface": [
           {
            "colorbar": {
             "outlinewidth": 0,
             "ticks": ""
            },
            "colorscale": [
             [
              0,
              "#0d0887"
             ],
             [
              0.1111111111111111,
              "#46039f"
             ],
             [
              0.2222222222222222,
              "#7201a8"
             ],
             [
              0.3333333333333333,
              "#9c179e"
             ],
             [
              0.4444444444444444,
              "#bd3786"
             ],
             [
              0.5555555555555556,
              "#d8576b"
             ],
             [
              0.6666666666666666,
              "#ed7953"
             ],
             [
              0.7777777777777778,
              "#fb9f3a"
             ],
             [
              0.8888888888888888,
              "#fdca26"
             ],
             [
              1,
              "#f0f921"
             ]
            ],
            "type": "surface"
           }
          ],
          "table": [
           {
            "cells": {
             "fill": {
              "color": "#EBF0F8"
             },
             "line": {
              "color": "white"
             }
            },
            "header": {
             "fill": {
              "color": "#C8D4E3"
             },
             "line": {
              "color": "white"
             }
            },
            "type": "table"
           }
          ]
         },
         "layout": {
          "annotationdefaults": {
           "arrowcolor": "#2a3f5f",
           "arrowhead": 0,
           "arrowwidth": 1
          },
          "coloraxis": {
           "colorbar": {
            "outlinewidth": 0,
            "ticks": ""
           }
          },
          "colorscale": {
           "diverging": [
            [
             0,
             "#8e0152"
            ],
            [
             0.1,
             "#c51b7d"
            ],
            [
             0.2,
             "#de77ae"
            ],
            [
             0.3,
             "#f1b6da"
            ],
            [
             0.4,
             "#fde0ef"
            ],
            [
             0.5,
             "#f7f7f7"
            ],
            [
             0.6,
             "#e6f5d0"
            ],
            [
             0.7,
             "#b8e186"
            ],
            [
             0.8,
             "#7fbc41"
            ],
            [
             0.9,
             "#4d9221"
            ],
            [
             1,
             "#276419"
            ]
           ],
           "sequential": [
            [
             0,
             "#0d0887"
            ],
            [
             0.1111111111111111,
             "#46039f"
            ],
            [
             0.2222222222222222,
             "#7201a8"
            ],
            [
             0.3333333333333333,
             "#9c179e"
            ],
            [
             0.4444444444444444,
             "#bd3786"
            ],
            [
             0.5555555555555556,
             "#d8576b"
            ],
            [
             0.6666666666666666,
             "#ed7953"
            ],
            [
             0.7777777777777778,
             "#fb9f3a"
            ],
            [
             0.8888888888888888,
             "#fdca26"
            ],
            [
             1,
             "#f0f921"
            ]
           ],
           "sequentialminus": [
            [
             0,
             "#0d0887"
            ],
            [
             0.1111111111111111,
             "#46039f"
            ],
            [
             0.2222222222222222,
             "#7201a8"
            ],
            [
             0.3333333333333333,
             "#9c179e"
            ],
            [
             0.4444444444444444,
             "#bd3786"
            ],
            [
             0.5555555555555556,
             "#d8576b"
            ],
            [
             0.6666666666666666,
             "#ed7953"
            ],
            [
             0.7777777777777778,
             "#fb9f3a"
            ],
            [
             0.8888888888888888,
             "#fdca26"
            ],
            [
             1,
             "#f0f921"
            ]
           ]
          },
          "colorway": [
           "#636efa",
           "#EF553B",
           "#00cc96",
           "#ab63fa",
           "#FFA15A",
           "#19d3f3",
           "#FF6692",
           "#B6E880",
           "#FF97FF",
           "#FECB52"
          ],
          "font": {
           "color": "#2a3f5f"
          },
          "geo": {
           "bgcolor": "white",
           "lakecolor": "white",
           "landcolor": "#E5ECF6",
           "showlakes": true,
           "showland": true,
           "subunitcolor": "white"
          },
          "hoverlabel": {
           "align": "left"
          },
          "hovermode": "closest",
          "mapbox": {
           "style": "light"
          },
          "paper_bgcolor": "white",
          "plot_bgcolor": "#E5ECF6",
          "polar": {
           "angularaxis": {
            "gridcolor": "white",
            "linecolor": "white",
            "ticks": ""
           },
           "bgcolor": "#E5ECF6",
           "radialaxis": {
            "gridcolor": "white",
            "linecolor": "white",
            "ticks": ""
           }
          },
          "scene": {
           "xaxis": {
            "backgroundcolor": "#E5ECF6",
            "gridcolor": "white",
            "gridwidth": 2,
            "linecolor": "white",
            "showbackground": true,
            "ticks": "",
            "zerolinecolor": "white"
           },
           "yaxis": {
            "backgroundcolor": "#E5ECF6",
            "gridcolor": "white",
            "gridwidth": 2,
            "linecolor": "white",
            "showbackground": true,
            "ticks": "",
            "zerolinecolor": "white"
           },
           "zaxis": {
            "backgroundcolor": "#E5ECF6",
            "gridcolor": "white",
            "gridwidth": 2,
            "linecolor": "white",
            "showbackground": true,
            "ticks": "",
            "zerolinecolor": "white"
           }
          },
          "shapedefaults": {
           "line": {
            "color": "#2a3f5f"
           }
          },
          "ternary": {
           "aaxis": {
            "gridcolor": "white",
            "linecolor": "white",
            "ticks": ""
           },
           "baxis": {
            "gridcolor": "white",
            "linecolor": "white",
            "ticks": ""
           },
           "bgcolor": "#E5ECF6",
           "caxis": {
            "gridcolor": "white",
            "linecolor": "white",
            "ticks": ""
           }
          },
          "title": {
           "x": 0.05
          },
          "xaxis": {
           "automargin": true,
           "gridcolor": "white",
           "linecolor": "white",
           "ticks": "",
           "title": {
            "standoff": 15
           },
           "zerolinecolor": "white",
           "zerolinewidth": 2
          },
          "yaxis": {
           "automargin": true,
           "gridcolor": "white",
           "linecolor": "white",
           "ticks": "",
           "title": {
            "standoff": 15
           },
           "zerolinecolor": "white",
           "zerolinewidth": 2
          }
         }
        },
        "xaxis": {
         "anchor": "y",
         "autorange": true,
         "domain": [
          0,
          1
         ],
         "range": [
          0.476854607671234,
          0.9169964945789149
         ],
         "showspikes": false,
         "title": {
          "text": "test_roc_auc"
         },
         "type": "linear"
        },
        "yaxis": {
         "anchor": "x",
         "autorange": true,
         "domain": [
          0,
          1
         ],
         "range": [
          0.05307033100034504,
          0.16774461231325358
         ],
         "showspikes": false,
         "title": {
          "text": "fit_time"
         },
         "type": "linear"
        }
       }
      },
      "image/png": "[encoded data removed]",
      "text/html": [
       "<div>                            <div id=\"e4153cde-870d-408b-96d0-6550cba937a9\" class=\"plotly-graph-div\" style=\"height:525px; width:100%;\"></div>            <script type=\"text/javascript\">                require([\"plotly\"], function(Plotly) {                    window.PLOTLYENV=window.PLOTLYENV || {};                                    if (document.getElementById(\"e4153cde-870d-408b-96d0-6550cba937a9\")) {                    Plotly.newPlot(                        \"e4153cde-870d-408b-96d0-6550cba937a9\",                        [{\"hovertemplate\": \"test_roc_auc=%{x}<br>fit_time=%{y}<br>iteration=%{marker.color}<extra></extra>\", \"legendgroup\": \"\", \"marker\": {\"color\": [1, 2, 3, 4, 5, 6, 6, 7, 7, 8, 8, 9, 9, 9, 10, 10, 10, 10, 11, 12, 13, 14, 15], \"coloraxis\": \"coloraxis\", \"symbol\": \"circle\"}, \"mode\": \"markers\", \"name\": \"\", \"orientation\": \"v\", \"showlegend\": false, \"type\": \"scatter\", \"x\": [0.5, 0.5, 0.5, 0.5, 0.5, 0.5, 0.5, 0.5, 0.5, 0.5, 0.5, 0.5, 0.5, 0.8698321811639186, 0.5, 0.5, 0.8698321811639186, 0.8938511022501489, 0.5, 0.5, 0.5, 0.5, 0.5], \"xaxis\": \"x\", \"y\": [0.16062370936075845, 0.16062370936075845, 0.16062370936075845, 0.16062370936075845, 0.16062370936075845, 0.16062370936075845, 0.14185261726379395, 0.16062370936075845, 0.14185261726379395, 0.16062370936075845, 0.14185261726379395, 0.16062370936075845, 0.14185261726379395, 0.1267101764678955, 0.16062370936075845, 0.14185261726379395, 0.1267101764678955, 0.08156347274780273, 0.06019123395284017, 0.06019123395284017, 0.06019123395284017, 0.06019123395284017, 0.06019123395284017], \"yaxis\": \"y\"}],                        {\"coloraxis\": {\"colorbar\": {\"title\": {\"text\": \"iteration\"}}, \"colorscale\": [[0.0, \"#0d0887\"], [0.1111111111111111, \"#46039f\"], [0.2222222222222222, \"#7201a8\"], [0.3333333333333333, \"#9c179e\"], [0.4444444444444444, \"#bd3786\"], [0.5555555555555556, \"#d8576b\"], [0.6666666666666666, \"#ed7953\"], [0.7777777777777778, \"#fb9f3a\"], [0.8888888888888888, \"#fdca26\"], [1.0, \"#f0f921\"]]}, \"legend\": {\"tracegroupgap\": 0}, \"margin\": {\"t\": 60}, \"template\": {\"data\": {\"bar\": [{\"error_x\": {\"color\": \"#2a3f5f\"}, \"error_y\": {\"color\": \"#2a3f5f\"}, \"marker\": {\"line\": {\"color\": \"#E5ECF6\", \"width\": 0.5}}, \"type\": \"bar\"}], \"barpolar\": [{\"marker\": {\"line\": {\"color\": \"#E5ECF6\", \"width\": 0.5}}, \"type\": \"barpolar\"}], \"carpet\": [{\"aaxis\": {\"endlinecolor\": \"#2a3f5f\", \"gridcolor\": \"white\", \"linecolor\": \"white\", \"minorgridcolor\": \"white\", \"startlinecolor\": \"#2a3f5f\"}, \"baxis\": {\"endlinecolor\": \"#2a3f5f\", \"gridcolor\": \"white\", \"linecolor\": \"white\", \"minorgridcolor\": \"white\", \"startlinecolor\": \"#2a3f5f\"}, \"type\": \"carpet\"}], \"choropleth\": [{\"colorbar\": {\"outlinewidth\": 0, \"ticks\": \"\"}, \"type\": \"choropleth\"}], \"contour\": [{\"colorbar\": {\"outlinewidth\": 0, \"ticks\": \"\"}, \"colorscale\": [[0.0, \"#0d0887\"], [0.1111111111111111, \"#46039f\"], [0.2222222222222222, \"#7201a8\"], [0.3333333333333333, \"#9c179e\"], [0.4444444444444444, \"#bd3786\"], [0.5555555555555556, \"#d8576b\"], [0.6666666666666666, \"#ed7953\"], [0.7777777777777778, \"#fb9f3a\"], [0.8888888888888888, \"#fdca26\"], [1.0, \"#f0f921\"]], \"type\": \"contour\"}], \"contourcarpet\": [{\"colorbar\": {\"outlinewidth\": 0, \"ticks\": \"\"}, \"type\": \"contourcarpet\"}], \"heatmap\": [{\"colorbar\": {\"outlinewidth\": 0, \"ticks\": \"\"}, \"colorscale\": [[0.0, \"#0d0887\"], [0.1111111111111111, \"#46039f\"], [0.2222222222222222, \"#7201a8\"], [0.3333333333333333, \"#9c179e\"], [0.4444444444444444, \"#bd3786\"], [0.5555555555555556, \"#d8576b\"], [0.6666666666666666, \"#ed7953\"], [0.7777777777777778, \"#fb9f3a\"], [0.8888888888888888, \"#fdca26\"], [1.0, \"#f0f921\"]], \"type\": \"heatmap\"}], \"heatmapgl\": [{\"colorbar\": {\"outlinewidth\": 0, \"ticks\": \"\"}, \"colorscale\": [[0.0, \"#0d0887\"], [0.1111111111111111, \"#46039f\"], [0.2222222222222222, \"#7201a8\"], [0.3333333333333333, \"#9c179e\"], [0.4444444444444444, \"#bd3786\"], [0.5555555555555556, \"#d8576b\"], [0.6666666666666666, \"#ed7953\"], [0.7777777777777778, \"#fb9f3a\"], [0.8888888888888888, \"#fdca26\"], [1.0, \"#f0f921\"]], \"type\": \"heatmapgl\"}], \"histogram\": [{\"marker\": {\"colorbar\": {\"outlinewidth\": 0, \"ticks\": \"\"}}, \"type\": \"histogram\"}], \"histogram2d\": [{\"colorbar\": {\"outlinewidth\": 0, \"ticks\": \"\"}, \"colorscale\": [[0.0, \"#0d0887\"], [0.1111111111111111, \"#46039f\"], [0.2222222222222222, \"#7201a8\"], [0.3333333333333333, \"#9c179e\"], [0.4444444444444444, \"#bd3786\"], [0.5555555555555556, \"#d8576b\"], [0.6666666666666666, \"#ed7953\"], [0.7777777777777778, \"#fb9f3a\"], [0.8888888888888888, \"#fdca26\"], [1.0, \"#f0f921\"]], \"type\": \"histogram2d\"}], \"histogram2dcontour\": [{\"colorbar\": {\"outlinewidth\": 0, \"ticks\": \"\"}, \"colorscale\": [[0.0, \"#0d0887\"], [0.1111111111111111, \"#46039f\"], [0.2222222222222222, \"#7201a8\"], [0.3333333333333333, \"#9c179e\"], [0.4444444444444444, \"#bd3786\"], [0.5555555555555556, \"#d8576b\"], [0.6666666666666666, \"#ed7953\"], [0.7777777777777778, \"#fb9f3a\"], [0.8888888888888888, \"#fdca26\"], [1.0, \"#f0f921\"]], \"type\": \"histogram2dcontour\"}], \"mesh3d\": [{\"colorbar\": {\"outlinewidth\": 0, \"ticks\": \"\"}, \"type\": \"mesh3d\"}], \"parcoords\": [{\"line\": {\"colorbar\": {\"outlinewidth\": 0, \"ticks\": \"\"}}, \"type\": \"parcoords\"}], \"pie\": [{\"automargin\": true, \"type\": \"pie\"}], \"scatter\": [{\"marker\": {\"colorbar\": {\"outlinewidth\": 0, \"ticks\": \"\"}}, \"type\": \"scatter\"}], \"scatter3d\": [{\"line\": {\"colorbar\": {\"outlinewidth\": 0, \"ticks\": \"\"}}, \"marker\": {\"colorbar\": {\"outlinewidth\": 0, \"ticks\": \"\"}}, \"type\": \"scatter3d\"}], \"scattercarpet\": [{\"marker\": {\"colorbar\": {\"outlinewidth\": 0, \"ticks\": \"\"}}, \"type\": \"scattercarpet\"}], \"scattergeo\": [{\"marker\": {\"colorbar\": {\"outlinewidth\": 0, \"ticks\": \"\"}}, \"type\": \"scattergeo\"}], \"scattergl\": [{\"marker\": {\"colorbar\": {\"outlinewidth\": 0, \"ticks\": \"\"}}, \"type\": \"scattergl\"}], \"scattermapbox\": [{\"marker\": {\"colorbar\": {\"outlinewidth\": 0, \"ticks\": \"\"}}, \"type\": \"scattermapbox\"}], \"scatterpolar\": [{\"marker\": {\"colorbar\": {\"outlinewidth\": 0, \"ticks\": \"\"}}, \"type\": \"scatterpolar\"}], \"scatterpolargl\": [{\"marker\": {\"colorbar\": {\"outlinewidth\": 0, \"ticks\": \"\"}}, \"type\": \"scatterpolargl\"}], \"scatterternary\": [{\"marker\": {\"colorbar\": {\"outlinewidth\": 0, \"ticks\": \"\"}}, \"type\": \"scatterternary\"}], \"surface\": [{\"colorbar\": {\"outlinewidth\": 0, \"ticks\": \"\"}, \"colorscale\": [[0.0, \"#0d0887\"], [0.1111111111111111, \"#46039f\"], [0.2222222222222222, \"#7201a8\"], [0.3333333333333333, \"#9c179e\"], [0.4444444444444444, \"#bd3786\"], [0.5555555555555556, \"#d8576b\"], [0.6666666666666666, \"#ed7953\"], [0.7777777777777778, \"#fb9f3a\"], [0.8888888888888888, \"#fdca26\"], [1.0, \"#f0f921\"]], \"type\": \"surface\"}], \"table\": [{\"cells\": {\"fill\": {\"color\": \"#EBF0F8\"}, \"line\": {\"color\": \"white\"}}, \"header\": {\"fill\": {\"color\": \"#C8D4E3\"}, \"line\": {\"color\": \"white\"}}, \"type\": \"table\"}]}, \"layout\": {\"annotationdefaults\": {\"arrowcolor\": \"#2a3f5f\", \"arrowhead\": 0, \"arrowwidth\": 1}, \"coloraxis\": {\"colorbar\": {\"outlinewidth\": 0, \"ticks\": \"\"}}, \"colorscale\": {\"diverging\": [[0, \"#8e0152\"], [0.1, \"#c51b7d\"], [0.2, \"#de77ae\"], [0.3, \"#f1b6da\"], [0.4, \"#fde0ef\"], [0.5, \"#f7f7f7\"], [0.6, \"#e6f5d0\"], [0.7, \"#b8e186\"], [0.8, \"#7fbc41\"], [0.9, \"#4d9221\"], [1, \"#276419\"]], \"sequential\": [[0.0, \"#0d0887\"], [0.1111111111111111, \"#46039f\"], [0.2222222222222222, \"#7201a8\"], [0.3333333333333333, \"#9c179e\"], [0.4444444444444444, \"#bd3786\"], [0.5555555555555556, \"#d8576b\"], [0.6666666666666666, \"#ed7953\"], [0.7777777777777778, \"#fb9f3a\"], [0.8888888888888888, \"#fdca26\"], [1.0, \"#f0f921\"]], \"sequentialminus\": [[0.0, \"#0d0887\"], [0.1111111111111111, \"#46039f\"], [0.2222222222222222, \"#7201a8\"], [0.3333333333333333, \"#9c179e\"], [0.4444444444444444, \"#bd3786\"], [0.5555555555555556, \"#d8576b\"], [0.6666666666666666, \"#ed7953\"], [0.7777777777777778, \"#fb9f3a\"], [0.8888888888888888, \"#fdca26\"], [1.0, \"#f0f921\"]]}, \"colorway\": [\"#636efa\", \"#EF553B\", \"#00cc96\", \"#ab63fa\", \"#FFA15A\", \"#19d3f3\", \"#FF6692\", \"#B6E880\", \"#FF97FF\", \"#FECB52\"], \"font\": {\"color\": \"#2a3f5f\"}, \"geo\": {\"bgcolor\": \"white\", \"lakecolor\": \"white\", \"landcolor\": \"#E5ECF6\", \"showlakes\": true, \"showland\": true, \"subunitcolor\": \"white\"}, \"hoverlabel\": {\"align\": \"left\"}, \"hovermode\": \"closest\", \"mapbox\": {\"style\": \"light\"}, \"paper_bgcolor\": \"white\", \"plot_bgcolor\": \"#E5ECF6\", \"polar\": {\"angularaxis\": {\"gridcolor\": \"white\", \"linecolor\": \"white\", \"ticks\": \"\"}, \"bgcolor\": \"#E5ECF6\", \"radialaxis\": {\"gridcolor\": \"white\", \"linecolor\": \"white\", \"ticks\": \"\"}}, \"scene\": {\"xaxis\": {\"backgroundcolor\": \"#E5ECF6\", \"gridcolor\": \"white\", \"gridwidth\": 2, \"linecolor\": \"white\", \"showbackground\": true, \"ticks\": \"\", \"zerolinecolor\": \"white\"}, \"yaxis\": {\"backgroundcolor\": \"#E5ECF6\", \"gridcolor\": \"white\", \"gridwidth\": 2, \"linecolor\": \"white\", \"showbackground\": true, \"ticks\": \"\", \"zerolinecolor\": \"white\"}, \"zaxis\": {\"backgroundcolor\": \"#E5ECF6\", \"gridcolor\": \"white\", \"gridwidth\": 2, \"linecolor\": \"white\", \"showbackground\": true, \"ticks\": \"\", \"zerolinecolor\": \"white\"}}, \"shapedefaults\": {\"line\": {\"color\": \"#2a3f5f\"}}, \"ternary\": {\"aaxis\": {\"gridcolor\": \"white\", \"linecolor\": \"white\", \"ticks\": \"\"}, \"baxis\": {\"gridcolor\": \"white\", \"linecolor\": \"white\", \"ticks\": \"\"}, \"bgcolor\": \"#E5ECF6\", \"caxis\": {\"gridcolor\": \"white\", \"linecolor\": \"white\", \"ticks\": \"\"}}, \"title\": {\"x\": 0.05}, \"xaxis\": {\"automargin\": true, \"gridcolor\": \"white\", \"linecolor\": \"white\", \"ticks\": \"\", \"title\": {\"standoff\": 15}, \"zerolinecolor\": \"white\", \"zerolinewidth\": 2}, \"yaxis\": {\"automargin\": true, \"gridcolor\": \"white\", \"linecolor\": \"white\", \"ticks\": \"\", \"title\": {\"standoff\": 15}, \"zerolinecolor\": \"white\", \"zerolinewidth\": 2}}}, \"xaxis\": {\"anchor\": \"y\", \"domain\": [0.0, 1.0], \"title\": {\"text\": \"test_roc_auc\"}}, \"yaxis\": {\"anchor\": \"x\", \"domain\": [0.0, 1.0], \"title\": {\"text\": \"fit_time\"}}},                        {\"responsive\": true}                    ).then(function(){\n",
       "                            \n",
       "var gd = document.getElementById('e4153cde-870d-408b-96d0-6550cba937a9');\n",
       "var x = new MutationObserver(function (mutations, observer) {{\n",
       "        var display = window.getComputedStyle(gd).display;\n",
       "        if (!display || display === 'none') {{\n",
       "            console.log([gd, 'removed!']);\n",
       "            Plotly.purge(gd);\n",
       "            observer.disconnect();\n",
       "        }}\n",
       "}});\n",
       "\n",
       "// Listen for the removal of the full notebook cells\n",
       "var notebookContainer = gd.closest('#notebook-container');\n",
       "if (notebookContainer) {{\n",
       "    x.observe(notebookContainer, {childList: true});\n",
       "}}\n",
       "\n",
       "// Listen for the clearing of the current output cell\n",
       "var outputEl = gd.closest('.output');\n",
       "if (outputEl) {{\n",
       "    x.observe(outputEl, {childList: true});\n",
       "}}\n",
       "\n",
       "                        })                };                });            </script>        </div>"
      ]
     },
     "metadata": {},
     "output_type": "display_data"
    }
   ],
   "source": [
    "px.scatter(temp_df, x=\"test_roc_auc\", y=\"fit_time\", color=\"iteration\")"
   ]
  },
  {
   "cell_type": "code",
   "execution_count": 26,
   "metadata": {},
   "outputs": [
    {
     "data": {
      "text/plain": [
       "array([[ 0, -1]])"
      ]
     },
     "execution_count": 26,
     "metadata": {},
     "output_type": "execute_result"
    }
   ],
   "source": [
    "ar = np.array([[1,1], [1, 0], [0,0], [0, 1]])* [1,-1]\n",
    "idx = pg.fast_non_dominated_sorting(ar)[0][0]\n",
    "ar[idx]"
   ]
  },
  {
   "cell_type": "code",
   "execution_count": 24,
   "metadata": {},
   "outputs": [
    {
     "data": {
      "text/plain": [
       "array([[ 1, -1],\n",
       "       [ 1,  0],\n",
       "       [ 0,  0],\n",
       "       [ 0, -1]])"
      ]
     },
     "execution_count": 24,
     "metadata": {},
     "output_type": "execute_result"
    }
   ],
   "source": [
    "ar * [1,-1]"
   ]
  }
 ],
 "metadata": {
  "kernelspec": {
   "display_name": "Python 3",
   "language": "python",
   "name": "python3"
  },
  "language_info": {
   "codemirror_mode": {
    "name": "ipython",
    "version": 3
   },
   "file_extension": ".py",
   "mimetype": "text/x-python",
   "name": "python",
   "nbconvert_exporter": "python",
   "pygments_lexer": "ipython3",
   "version": "3.9.1"
  }
 },
 "nbformat": 4,
 "nbformat_minor": 4
}

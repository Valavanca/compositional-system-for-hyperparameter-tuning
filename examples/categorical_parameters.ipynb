{
 "cells": [
  {
   "cell_type": "markdown",
   "metadata": {},
   "source": [
    "# Categorical parameters tuning"
   ]
  },
  {
   "cell_type": "markdown",
   "metadata": {},
   "source": [
    "____\n"
   ]
  },
  {
   "cell_type": "code",
   "execution_count": 1,
   "metadata": {},
   "outputs": [],
   "source": [
    "import sys\n",
    "sys.path.append('..')\n",
    "\n",
    "# --- Dependencies\n",
    "import pygmo as pg\n",
    "import numpy as np\n",
    "import pandas as pd\n",
    "# import dovpanda\n",
    "\n",
    "import plotly\n",
    "from plotly import graph_objs as go\n",
    "from plotly import tools\n",
    "import plotly.express as px\n",
    "\n",
    "import category_encoders as ec\n",
    "import sklearn.gaussian_process as gp\n",
    "from sklearn.model_selection import cross_val_score, cross_validate\n",
    "from sklearn.ensemble import GradientBoostingRegressor\n",
    "from sklearn.linear_model import LinearRegression\n",
    "\n",
    "from sklearn.compose import ColumnTransformer\n",
    "from sklearn.datasets import fetch_openml\n",
    "from sklearn.pipeline import Pipeline\n",
    "from sklearn.pipeline import make_pipeline\n",
    "from sklearn.impute import SimpleImputer\n",
    "from sklearn.preprocessing import StandardScaler, OneHotEncoder\n",
    "from sklearn.linear_model import LogisticRegression\n",
    "from sklearn.model_selection import train_test_split, GridSearchCV\n",
    "\n",
    "from src.composite import PredictTutor, ModelsUnion\n",
    "from src.generator import SamplesGenerator\n",
    "from src.ploting import plot_mo\n",
    "from src.search import Nsga2\n",
    "\n",
    "from src.hypothesis.tpot_estimator import TpotWrp\n",
    "from src.hypothesis.custom_gp_kernel import KERNEL_MAUNA, KERNEL_SIMPLE, KERNEL_GPML"
   ]
  },
  {
   "cell_type": "code",
   "execution_count": 2,
   "metadata": {},
   "outputs": [
    {
     "data": {
      "text/plain": [
       "GaussianProcessRegressor(alpha=0, copy_X_train=True,\n",
       "                         kernel=66**2 * RBF(length_scale=67) + 2.4**2 * RBF(length_scale=90) * ExpSineSquared(length_scale=1.3, periodicity=1) + 0.66**2 * RationalQuadratic(alpha=0.78, length_scale=1.2) + 0.18**2 * RBF(length_scale=0.134) + WhiteKernel(noise_level=0.0361),\n",
       "                         n_restarts_optimizer=10, normalize_y=True,\n",
       "                         optimizer='fmin_l_bfgs_b', random_state=None)"
      ]
     },
     "execution_count": 2,
     "metadata": {},
     "output_type": "execute_result"
    }
   ],
   "source": [
    "# Generate data\n",
    "prob = pg.problem(pg.wfg(prob_id=4, dim_dvs=4, dim_obj=2, dim_k=1))\n",
    "pop = pg.population(prob = prob, size = 30)\n",
    "X = pop.get_x()\n",
    "y = pop.get_f()\n",
    "model = gp.GaussianProcessRegressor(kernel=KERNEL_GPML,\n",
    "                                    alpha=0,\n",
    "                                    n_restarts_optimizer=10,\n",
    "                                    normalize_y=True)\n",
    "\n",
    "model.fit(X, y)"
   ]
  },
  {
   "cell_type": "code",
   "execution_count": 3,
   "metadata": {},
   "outputs": [
    {
     "name": "stdout",
     "output_type": "stream",
     "text": [
      "NSGA2: Evolve GaussianProcessRegressor by 8 population size in 100 generation\n"
     ]
    },
    {
     "data": {
      "text/plain": [
       "Nsga2(bounds=None, gen=100, mask_col=None, mask_val=None, models=None,\n",
       "      pop_size=8)"
      ]
     },
     "execution_count": 3,
     "metadata": {},
     "output_type": "execute_result"
    }
   ],
   "source": [
    "nsga = Nsga2(bounds=prob.get_bounds(), pop_size=8)\n",
    "nsga.fit([model])"
   ]
  },
  {
   "cell_type": "code",
   "execution_count": 4,
   "metadata": {},
   "outputs": [
    {
     "data": {
      "text/plain": [
       "array([[0.49892974, 1.6379138 , 4.90855333, 6.1396614 ],\n",
       "       [0.49892974, 1.6379138 , 4.90855333, 6.1396614 ],\n",
       "       [0.03634494, 1.43939914, 5.2360753 , 3.8787892 ],\n",
       "       [0.03634494, 1.43207006, 5.2360753 , 5.82107498],\n",
       "       [0.03634494, 1.43325931, 5.1733399 , 3.34259492],\n",
       "       [0.60305841, 1.63746305, 4.5576071 , 3.88425834],\n",
       "       [0.03634494, 1.43939914, 4.47290247, 3.88375243],\n",
       "       [0.02422551, 1.62047846, 4.90855333, 6.15878818]])"
      ]
     },
     "execution_count": 4,
     "metadata": {},
     "output_type": "execute_result"
    }
   ],
   "source": [
    "nsga.predict()"
   ]
  },
  {
   "cell_type": "code",
   "execution_count": 5,
   "metadata": {},
   "outputs": [
    {
     "name": "stdout",
     "output_type": "stream",
     "text": [
      "NSGA2: Evolve GaussianProcessRegressor by 8 population size in 100 generation\n"
     ]
    },
    {
     "data": {
      "text/plain": [
       "array([[1.11      , 1.80158016, 2.22      , 3.18968301],\n",
       "       [1.11      , 3.7687445 , 2.22      , 3.46384888],\n",
       "       [1.11      , 3.7687445 , 2.22      , 3.46384888],\n",
       "       [1.11      , 1.80158016, 2.22      , 3.18968301],\n",
       "       [1.11      , 3.06560436, 2.22      , 3.18963185],\n",
       "       [1.11      , 3.7687445 , 2.22      , 3.18067316],\n",
       "       [1.11      , 2.68745911, 2.22      , 3.18319736],\n",
       "       [1.11      , 2.59691167, 2.22      , 3.19160185]])"
      ]
     },
     "execution_count": 5,
     "metadata": {},
     "output_type": "execute_result"
    }
   ],
   "source": [
    "c = [0,2]\n",
    "v = [1.11,2.22]\n",
    "\n",
    "nsga.set_mask(c, v)\n",
    "# nsga.set_mask(None, None)\n",
    "nsga.predict()\n"
   ]
  },
  {
   "cell_type": "code",
   "execution_count": 6,
   "metadata": {},
   "outputs": [
    {
     "ename": "NameError",
     "evalue": "name 'Pagmo_problem' is not defined",
     "output_type": "error",
     "traceback": [
      "\u001b[0;31m---------------------------------------------------------------------------\u001b[0m",
      "\u001b[0;31mNameError\u001b[0m                                 Traceback (most recent call last)",
      "\u001b[0;32m<ipython-input-6-1bcef5b13a59>\u001b[0m in \u001b[0;36m<module>\u001b[0;34m\u001b[0m\n\u001b[1;32m      1\u001b[0m \u001b[0;31m# Problem\u001b[0m\u001b[0;34m\u001b[0m\u001b[0;34m\u001b[0m\u001b[0;34m\u001b[0m\u001b[0m\n\u001b[0;32m----> 2\u001b[0;31m \u001b[0minst\u001b[0m \u001b[0;34m=\u001b[0m \u001b[0mPagmo_problem\u001b[0m\u001b[0;34m(\u001b[0m\u001b[0mmodels\u001b[0m\u001b[0;34m=\u001b[0m\u001b[0;34m[\u001b[0m\u001b[0mmodel\u001b[0m\u001b[0;34m]\u001b[0m\u001b[0;34m,\u001b[0m \u001b[0mbounds\u001b[0m\u001b[0;34m=\u001b[0m\u001b[0mprob\u001b[0m\u001b[0;34m.\u001b[0m\u001b[0mget_bounds\u001b[0m\u001b[0;34m(\u001b[0m\u001b[0;34m)\u001b[0m\u001b[0;34m)\u001b[0m\u001b[0;34m\u001b[0m\u001b[0;34m\u001b[0m\u001b[0m\n\u001b[0m\u001b[1;32m      3\u001b[0m \u001b[0mc_prob\u001b[0m \u001b[0;34m=\u001b[0m \u001b[0mpg\u001b[0m\u001b[0;34m.\u001b[0m\u001b[0mproblem\u001b[0m\u001b[0;34m(\u001b[0m\u001b[0minst\u001b[0m\u001b[0;34m)\u001b[0m\u001b[0;34m\u001b[0m\u001b[0;34m\u001b[0m\u001b[0m\n\u001b[1;32m      4\u001b[0m \u001b[0;31m# model.predict([[0,0,0]])\u001b[0m\u001b[0;34m\u001b[0m\u001b[0;34m\u001b[0m\u001b[0;34m\u001b[0m\u001b[0m\n\u001b[1;32m      5\u001b[0m \u001b[0mpop\u001b[0m \u001b[0;34m=\u001b[0m \u001b[0mpg\u001b[0m\u001b[0;34m.\u001b[0m\u001b[0mpopulation\u001b[0m\u001b[0;34m(\u001b[0m\u001b[0mprob\u001b[0m\u001b[0;34m=\u001b[0m\u001b[0mc_prob\u001b[0m\u001b[0;34m,\u001b[0m \u001b[0msize\u001b[0m \u001b[0;34m=\u001b[0m \u001b[0;36m5\u001b[0m\u001b[0;34m,\u001b[0m \u001b[0mseed\u001b[0m\u001b[0;34m=\u001b[0m\u001b[0;36m42\u001b[0m\u001b[0;34m)\u001b[0m\u001b[0;34m\u001b[0m\u001b[0;34m\u001b[0m\u001b[0m\n",
      "\u001b[0;31mNameError\u001b[0m: name 'Pagmo_problem' is not defined"
     ]
    }
   ],
   "source": [
    "# Problem\n",
    "inst = Pagmo_problem(models=[model], bounds=prob.get_bounds())\n",
    "c_prob = pg.problem(inst)\n",
    "# model.predict([[0,0,0]])\n",
    "pop = pg.population(prob=c_prob, size = 5, seed=42)\n",
    "X = pop.get_x()\n",
    "y = pop.get_f()\n",
    "X"
   ]
  },
  {
   "cell_type": "code",
   "execution_count": null,
   "metadata": {},
   "outputs": [],
   "source": [
    "col=[0,2]\n",
    "value=[1.111, 2.2222]\n",
    "\n",
    "# inst.set_mask(col=col, value=value)\n",
    "inst2 = Pagmo_problem(models=[model], bounds=prob.get_bounds())\n",
    "inst2.set_mask(col=col, value=value)\n",
    "\n",
    "c_prob2 = pg.problem(inst2)\n",
    "pop2 = pg.population(prob=c_prob2, size = 5, seed=42)\n",
    "X = pop2.get_x()\n",
    "y = pop2.get_f()\n",
    "X"
   ]
  },
  {
   "cell_type": "code",
   "execution_count": null,
   "metadata": {},
   "outputs": [],
   "source": [
    "y"
   ]
  },
  {
   "cell_type": "code",
   "execution_count": null,
   "metadata": {},
   "outputs": [],
   "source": [
    "x_test = np.copy(X)\n",
    "for c, v in zip(col, value):\n",
    "    x_test = np.insert(x_test, c, v, 1)\n",
    "    \n",
    "    \n",
    "model.predict(x_test)"
   ]
  },
  {
   "cell_type": "code",
   "execution_count": null,
   "metadata": {},
   "outputs": [],
   "source": [
    "x_test"
   ]
  },
  {
   "cell_type": "code",
   "execution_count": null,
   "metadata": {},
   "outputs": [],
   "source": [
    "col = [0,2]\n",
    "val = [1111,2222]\n",
    "\n",
    "temp = np.delete(X, [0,2], 1)\n",
    "# temp[:, [0,2]]\n",
    "# temp[0][[0,2]]\n",
    "\n",
    "# np.insert(temp[:, [0,2]], [11,22])\n",
    "# temp\n",
    "\n",
    "# for c, v in zip(col, val):\n",
    "#     temp = np.insert(temp, c, v, 1)\n",
    "        \n",
    "temp"
   ]
  },
  {
   "cell_type": "code",
   "execution_count": null,
   "metadata": {},
   "outputs": [],
   "source": [
    "X"
   ]
  },
  {
   "cell_type": "code",
   "execution_count": null,
   "metadata": {},
   "outputs": [],
   "source": [
    "temp"
   ]
  },
  {
   "cell_type": "code",
   "execution_count": null,
   "metadata": {},
   "outputs": [],
   "source": [
    "X[:, [0,2]] = [11,22]\n",
    "X"
   ]
  },
  {
   "cell_type": "code",
   "execution_count": null,
   "metadata": {},
   "outputs": [],
   "source": [
    "prob.get_bounds()[1][[0,2]]"
   ]
  },
  {
   "cell_type": "code",
   "execution_count": null,
   "metadata": {},
   "outputs": [],
   "source": [
    "prob.get_bounds()[1][None]"
   ]
  },
  {
   "cell_type": "code",
   "execution_count": null,
   "metadata": {},
   "outputs": [],
   "source": [
    "tuple(b[[0,2]] for b in prob.get_bounds())"
   ]
  },
  {
   "cell_type": "code",
   "execution_count": null,
   "metadata": {},
   "outputs": [],
   "source": [
    "[\"s\", \"d\", \"s\"] > \"s\""
   ]
  },
  {
   "cell_type": "code",
   "execution_count": null,
   "metadata": {},
   "outputs": [],
   "source": [
    "from typing import List, Tuple\n",
    "from sklearn.base import BaseEstimator\n",
    "\n",
    "\n",
    "class Pagmo_problem:\n",
    "    def __init__(self, models: List[BaseEstimator],\n",
    "                 bounds: Tuple[List] = None,\n",
    "                 is_single=False,\n",
    "                 m_col=None,\n",
    "                 m_value=None):\n",
    "        self._estimators = models\n",
    "        self.__target_func = 'predict'\n",
    "        self._bounds = bounds\n",
    "        self._is_single = is_single\n",
    "        self._mask_columns = m_col\n",
    "        self._mask_value = m_value\n",
    "\n",
    "    def set_mask(self, col, value):\n",
    "        if len(col) != len(value):\n",
    "            raise ValueError(\n",
    "                f\"Columns and values should be equal length. Columns: {col}, values: {value}\")\n",
    "        self._mask_columns = col\n",
    "        self._mask_value = value\n",
    "\n",
    "    def get_mask(self, col, value):\n",
    "        return (self.mask_columns, self.mask_value)\n",
    "\n",
    "    def fitness(self, x):\n",
    "        x = np.array(x)\n",
    "        if None not in (self._mask_columns, self._mask_value):\n",
    "            for c, v in zip(self._mask_columns, self._mask_value):\n",
    "                x = np.insert(x, c, v, 0)\n",
    "\n",
    "        return self._singl_obj(x) if self._is_single else self._multi_obj(x)\n",
    "\n",
    "    def _multi_obj(self, x):\n",
    "        f_vector = [self.__evaluate(e, x) for e in self._estimators]\n",
    "        return np.array(f_vector).flatten().tolist()\n",
    "\n",
    "    def _singl_obj(self, x):\n",
    "        fw_vector = self._multi_obj(x)\n",
    "        return [np.mean(fw_vector)]\n",
    "\n",
    "    def __evaluate(self, estimator, x):\n",
    "        result = getattr(estimator, self.__target_func)(x.reshape(1, -1))\n",
    "        return result.tolist()[0]\n",
    "\n",
    "    def get_nobj(self):\n",
    "        nobj = None\n",
    "        if self._is_single:\n",
    "            nobj = 1\n",
    "        else:\n",
    "            if len(self._estimators) > 1:\n",
    "                nobj = len(self._estimators)\n",
    "            else:\n",
    "                prediction = self._estimators[0].predict([self._bounds[0]])\n",
    "                nobj = len(prediction[0])\n",
    "\n",
    "        return nobj\n",
    "\n",
    "    # def get_nix(self):\n",
    "    #     return len(self._bounds[0])\n",
    "\n",
    "    # Return bounds of decision variables\n",
    "    def get_bounds(self):\n",
    "        if None not in (self._mask_value, self._mask_value):\n",
    "            return tuple(np.delete(b, self._mask_columns, 0).flatten() for b in self._bounds)\n",
    "        else:\n",
    "            return self._bounds\n",
    "\n",
    "    def set_bounds(self, bounds: Tuple[List]):\n",
    "        self._bounds = bounds\n",
    "        return self\n",
    "\n",
    "    # Return function name\n",
    "    def get_name(self):\n",
    "        return \" vs \".join([type(t).__name__ for t in self._estimators])\n"
   ]
  },
  {
   "cell_type": "code",
   "execution_count": null,
   "metadata": {},
   "outputs": [],
   "source": []
  },
  {
   "cell_type": "code",
   "execution_count": null,
   "metadata": {},
   "outputs": [],
   "source": []
  },
  {
   "cell_type": "code",
   "execution_count": null,
   "metadata": {},
   "outputs": [],
   "source": [
    "model = gp.GaussianProcessRegressor(kernel=KERNEL_GPML,\n",
    "                                    alpha=0,\n",
    "                                    n_restarts_optimizer=10,\n",
    "                                    normalize_y=True)\n",
    "\n",
    "model.fit(X, y)\n",
    "\n",
    "class my_udp:\n",
    "    def fitness(self, x):\n",
    "        pred = model.predict([x]).tolist()[0]\n",
    "        return np.array(pred)\n",
    "    \n",
    "    def get_bounds(self):\n",
    "        return pro.get_bounds()\n",
    "    def gradient(self, x):\n",
    "        return pg.estimate_gradient_h(lambda x: self.fitness(x), x)\n",
    "    def get_name(self):\n",
    "        return pro.get_name()\n",
    "    \n",
    "pop = pg.population(prob = my_udp(), size = 1)\n",
    "pop = algo.evolve(pop)\n",
    "\n",
    "solution = go.Scatter3d(x=pop.get_x()[:,0], \n",
    "                        y=pop.get_x()[:,1],\n",
    "                        z=np.array(pop.get_f()).flatten(),\n",
    "                        mode='markers',\n",
    "                        name='bobyqa'\n",
    "                        )\n",
    "plot_so(my_udp(), extra_plot=solution, samples=250)"
   ]
  },
  {
   "cell_type": "markdown",
   "metadata": {},
   "source": [
    "___\n",
    "___"
   ]
  },
  {
   "cell_type": "code",
   "execution_count": null,
   "metadata": {},
   "outputs": [],
   "source": [
    "# df_NB = pd.read_csv(\"../src/scenario/NB_final_result.csv\")\n",
    "# df_RF = pd.read_csv(\"../src/scenario/RF_final_result.csv\")\n",
    "# df_NB1 = pd.read_csv(\"../src/scenario/taskNB1.csv\")"
   ]
  },
  {
   "cell_type": "code",
   "execution_count": null,
   "metadata": {},
   "outputs": [],
   "source": [
    "df_NB"
   ]
  },
  {
   "cell_type": "code",
   "execution_count": null,
   "metadata": {},
   "outputs": [],
   "source": [
    "# px.parallel_categories(df_NB1, color=\"PREC_AT_99_REC\", dimensions=list(df_NB.columns),\n",
    "#                        color_continuous_scale=px.colors.sequential.Inferno)"
   ]
  },
  {
   "cell_type": "code",
   "execution_count": null,
   "metadata": {},
   "outputs": [],
   "source": [
    "X = df_NB1.drop(columns=[\"PREC_AT_99_REC\"], axis=1)\n",
    "y = df_NB1[[\"PREC_AT_99_REC\"]]\n",
    "df_NB1"
   ]
  },
  {
   "cell_type": "code",
   "execution_count": null,
   "metadata": {},
   "outputs": [],
   "source": [
    "# -- Numerical\n",
    "numeric_features = ['application_grid_size']\n",
    "numeric_transformer = Pipeline(steps=[\n",
    "        ('imputer', SimpleImputer(strategy='median')),\n",
    "        ('scaler', StandardScaler())])\n",
    "\n",
    "# -- Categorical\n",
    "categorical_features = ['bandwidth_selection', 'use_application_grid']\n",
    "categorical_transformer = Pipeline(steps=[\n",
    "        ('imputer', SimpleImputer(strategy='constant', fill_value='missing')),\n",
    "        ('woe', ec.CatBoostEncoder())])\n",
    "\n",
    "preprocessor = ColumnTransformer(\n",
    "        transformers=[\n",
    "            ('num', numeric_transformer, numeric_features),\n",
    "            ('cat', categorical_transformer, categorical_features)])\n",
    "\n",
    "preprocessor2 = Pipeline(steps=[\n",
    "        ('james', ec.JamesSteinEncoder(cols=['bandwidth_selection', 'use_application_grid'])),\n",
    "        ('cat', ec.CatBoostEncoder(cols=['estimation_mode', 'laplace_correction', 'bandwidth']))\n",
    "])\n",
    "\n",
    "# pipe = Pipeline(steps=[('preprocessor', preprocessor),\n",
    "#                            ('classifier', RandomForestClassifier(n_estimators=500))])\n",
    "\n",
    "# model = pipe.fit(X_train, y_train)\n",
    "\n",
    "# y_pred = model.predict(X_test)\n",
    "# print(encoder)\n",
    "# print(f1_score(y_test, y_pred, average='macro'))\n",
    "pd.DataFrame(preprocessor2.fit_transform(X, y))"
   ]
  },
  {
   "cell_type": "markdown",
   "metadata": {},
   "source": [
    "___\n",
    "## Model Tutor\n"
   ]
  },
  {
   "cell_type": "code",
   "execution_count": null,
   "metadata": {},
   "outputs": [],
   "source": [
    "# 1\n",
    "tea_pot = TpotWrp(generations=2, population_size=10, random_state=42) \n",
    "# 2\n",
    "gp_sim = gp.GaussianProcessRegressor(kernel=KERNEL_SIMPLE, alpha=0, n_restarts_optimizer=10, normalize_y=True) \n",
    "# 3\n",
    "grad_uni = ModelsUnion(\n",
    "    models=[GradientBoostingRegressor(n_estimators=200)],\n",
    "    split_y=True) \n",
    "# 4 \n",
    "lin_uni = ModelsUnion(models=[LinearRegression()], split_y=True)\n",
    "\n",
    "# bounds = ([min(X[column]) for column in X], [max(X[column]) for column in X])\n",
    "# tutor = PredictTutor(bounds, portfolio=[GradientBoostingRegressor(n_estimators=200), LinearRegression()])\n",
    "# tutor.fit(X_train, y_train)\n",
    "# tutor.predict(X_train, y_train, n=1)"
   ]
  },
  {
   "cell_type": "code",
   "execution_count": null,
   "metadata": {},
   "outputs": [],
   "source": [
    "trns = Pipeline(steps=[\n",
    "            ('bin', ec.BinaryEncoder())\n",
    "])\n",
    "\n",
    "trns = ec.BinaryEncoder(cols=X.columns.tolist())\n",
    "trns_X = trns.fit_transform(X)\n",
    "bounds = ([min(trns_X[column]) for column in trns_X], [max(trns_X[column]) for column in trns_X])\n",
    "\n",
    "\n",
    "pipe = Pipeline(steps=[\n",
    "        ('bin', ec.BinaryEncoder(cols=X.columns.tolist())),\n",
    "        ('tutor', PredictTutor(bounds, portfolio=[GradientBoostingRegressor(\n",
    "            n_estimators=200), LinearRegression()]))\n",
    "])\n",
    "\n",
    "X_train, X_test, y_train, y_test = train_test_split(X, y)\n",
    "pipe.fit(X_train, y_train, tutor__cv=4)\n",
    "pred = pipe.predict(X_test, tutor__n=4)\n",
    "pred"
   ]
  },
  {
   "cell_type": "code",
   "execution_count": null,
   "metadata": {},
   "outputs": [],
   "source": [
    "pd.DataFrame(pred)"
   ]
  },
  {
   "cell_type": "code",
   "execution_count": null,
   "metadata": {},
   "outputs": [],
   "source": [
    "y"
   ]
  },
  {
   "cell_type": "markdown",
   "metadata": {},
   "source": [
    "___\n",
    "### Preprocesing and prediction by-hend"
   ]
  },
  {
   "cell_type": "code",
   "execution_count": null,
   "metadata": {},
   "outputs": [],
   "source": [
    "X_train, X_test, y_train, y_test = train_test_split(X.values, y.values)\n",
    "# --- Encoder\n",
    "coder = ec.BaseNEncoder(cols=list(range(X_train.shape[1]))).fit(X_train)\n",
    "X_train_ec = coder.transform(X_train)\n",
    "\n",
    "bounds = ([min(trns_X[column]) for column in trns_X], [max(trns_X[column]) for column in trns_X])\n",
    "ptutor = PredictTutor(bounds, portfolio=[GradientBoostingRegressor(\n",
    "            n_estimators=200), LinearRegression()])\n",
    "\n",
    "ptutor.fit(X_train_ec, y_train)\n",
    "pred = ptutor.predict(None)\n",
    "# X_train_ec\n",
    "pred"
   ]
  },
  {
   "cell_type": "code",
   "execution_count": null,
   "metadata": {},
   "outputs": [],
   "source": [
    "coder.inverse_transform(pred)"
   ]
  },
  {
   "cell_type": "markdown",
   "metadata": {},
   "source": [
    "# Review integer problem from pygmo"
   ]
  },
  {
   "cell_type": "code",
   "execution_count": null,
   "metadata": {},
   "outputs": [],
   "source": [
    "udp = pg.minlp_rastrigin(dim_i=2)\n",
    "# udp = pg.zdt(prob_id=ID, param=DIM)\n",
    "pro = pg.problem(udp)\n",
    "pro.get_bounds()\n",
    "pro"
   ]
  },
  {
   "cell_type": "code",
   "execution_count": null,
   "metadata": {},
   "outputs": [],
   "source": [
    "np.array(y)[[1,34],:]"
   ]
  },
  {
   "cell_type": "code",
   "execution_count": null,
   "metadata": {},
   "outputs": [],
   "source": [
    "# coder.inverse_transform(list(X_train_ec.values))\n",
    "# coder.inverse_transform(pred)\n",
    "X.values"
   ]
  },
  {
   "cell_type": "code",
   "execution_count": null,
   "metadata": {},
   "outputs": [],
   "source": [
    "trns_X"
   ]
  },
  {
   "cell_type": "code",
   "execution_count": null,
   "metadata": {},
   "outputs": [],
   "source": [
    "# px.parallel_categories(df_NB1, color=\"PREC_AT_99_REC\", dimensions=list(df_NB.columns),\n",
    "#                        color_continuous_scale=px.colors.sequential.Inferno)"
   ]
  }
 ],
 "metadata": {
  "kernelspec": {
   "display_name": "Python 3.7.3 64-bit ('brise-env': conda)",
   "language": "python",
   "name": "python37364bitbriseenvcondaf0c7da59e5394d4a88ef41e934047c9a"
  },
  "language_info": {
   "codemirror_mode": {
    "name": "ipython",
    "version": 3
   },
   "file_extension": ".py",
   "mimetype": "text/x-python",
   "name": "python",
   "nbconvert_exporter": "python",
   "pygments_lexer": "ipython3",
   "version": "3.7.3"
  }
 },
 "nbformat": 4,
 "nbformat_minor": 4
}

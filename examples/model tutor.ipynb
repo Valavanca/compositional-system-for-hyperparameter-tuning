{
 "cells": [
  {
   "cell_type": "markdown",
   "metadata": {},
   "source": [
    "## Parameter tuning with `PredictTutor` class.\n",
    "\n",
    "Questions for benchmark:\n",
    "1. Convergence speed to optimal point. Equlibrium\n",
    "2. Portfolio surrogates. Cons and pons based on convergence speed\n",
    "3. Convergence and evaluations cost\n",
    "4. What point select to predictions? Intersection with already evaluated points and predicted population. Maybe select point with high uncertainty\n",
    "\n",
    "This class assumes the next point or set of points to check.\n",
    "- Multi and single objective\n",
    "- Models portfolio\n",
    "- If there is no correct model takes a point from the sampling plan.\n",
    "- Random or Sobol sequence sampling plan.\n",
    "\n",
    "> \"For 800 years have I trained Jedi.\" ―Yoda, to Luke Skywalker"
   ]
  },
  {
   "cell_type": "code",
   "execution_count": 1,
   "metadata": {},
   "outputs": [],
   "source": [
    "import sys\n",
    "sys.path.append('..')\n",
    "sys.path.append('../src')\n",
    "\n",
    "# --- Dependencies\n",
    "import pygmo as pg\n",
    "import numpy as np\n",
    "import pandas as pd\n",
    "# import dovpanda\n",
    "\n",
    "import plotly\n",
    "from plotly import graph_objs as go\n",
    "from plotly import tools\n",
    "import plotly.express as px\n",
    "\n",
    "import sklearn.gaussian_process as gp\n",
    "from sklearn.model_selection import cross_val_score, cross_validate\n",
    "from sklearn.ensemble import GradientBoostingRegressor\n",
    "from sklearn.linear_model import LinearRegression\n",
    "from sklearn.pipeline import make_pipeline\n",
    "from sklearn.neural_network import MLPRegressor\n",
    "from sklearn.svm import SVR\n",
    "\n",
    "from src.composite import PredictTutor, ModelsUnion\n",
    "from src.generator import SamplesGenerator\n",
    "from src.ploting import plot_mo\n",
    "\n",
    "from src.hypothesis.tpot_estimator import TpotWrp\n",
    "from src.hypothesis.custom_gp_kernel import KERNEL_MAUNA, KERNEL_SIMPLE, KERNEL_GPML\n",
    "\n",
    "def make_nd_pop(pro, x,y):\n",
    "    nd_front = pg.fast_non_dominated_sorting(y)[0][0]\n",
    "    nd_x = x[nd_front]\n",
    "    nd_y = y[nd_front]\n",
    "    t_pop = pg.population(pro)\n",
    "    for i, p_vector in enumerate(nd_x):\n",
    "        t_pop.push_back(x=p_vector, f=nd_y[i])\n",
    "    return t_pop"
   ]
  },
  {
   "cell_type": "markdown",
   "metadata": {},
   "source": [
    "### Problem definition"
   ]
  },
  {
   "cell_type": "code",
   "execution_count": 2,
   "metadata": {},
   "outputs": [],
   "source": [
    "DIM = 2\n",
    "ID = 4\n",
    "OBJ = 2\n",
    "\n",
    "# --- Problem\n",
    "udp = pg.wfg(prob_id=ID, dim_dvs=DIM, dim_obj=OBJ, dim_k=OBJ-1)\n",
    "# udp = pg.zdt(prob_id=ID, param=DIM)\n",
    "pro = pg.problem(udp)"
   ]
  },
  {
   "cell_type": "markdown",
   "metadata": {},
   "source": [
    "### Initialization a models for portfolio"
   ]
  },
  {
   "cell_type": "code",
   "execution_count": 3,
   "metadata": {},
   "outputs": [],
   "source": [
    "# 1\n",
    "tea_pot = TpotWrp(generations=2, population_size=10, random_state=42) \n",
    "# 2\n",
    "gp_mauna = gp.GaussianProcessRegressor(kernel=KERNEL_MAUNA, alpha=0, n_restarts_optimizer=20, normalize_y=True) \n",
    "# 3\n",
    "grad_uni = ModelsUnion(\n",
    "    models=[GradientBoostingRegressor(n_estimators=200)],\n",
    "    split_y=True) \n",
    "# 4 \n",
    "gp_uni = ModelsUnion(models=[gp.GaussianProcessRegressor(kernel=KERNEL_MAUNA, alpha=0, n_restarts_optimizer=20, normalize_y=True)], split_y=True)\n",
    "\n",
    "# 5\n",
    "svr_rbf = SVR(kernel='rbf', C=100, gamma=0.1, epsilon=.1)\n",
    "svr_uni = ModelsUnion(models=[svr_rbf], split_y=True)\n",
    "\n",
    "# 6\n",
    "mlp_reg = MLPRegressor(activation='relu', solver='lbfgs')\n",
    "mlp_uni = ModelsUnion(models=[mlp_reg], split_y=True)"
   ]
  },
  {
   "cell_type": "markdown",
   "metadata": {},
   "source": [
    "### Prediction tutor"
   ]
  },
  {
   "cell_type": "code",
   "execution_count": 4,
   "metadata": {},
   "outputs": [
    {
     "name": "stderr",
     "output_type": "stream",
     "text": [
      "INFO:root:Available 0. At least 10.0 samples are required\n",
      "INFO:root:There is no valid surrogates\n",
      "INFO:root:Prediction from sampling plan\n",
      "INFO:root:Initialization data generator\n",
      "INFO:root:Available 3. At least 10.0 samples are required\n",
      "INFO:root:There is no valid surrogates\n",
      "INFO:root:Prediction from sampling plan\n",
      "INFO:root:In dataset add 3 new results\n",
      "INFO:root:Available 6. At least 10.0 samples are required\n",
      "INFO:root:There is no valid surrogates\n",
      "INFO:root:Prediction from sampling plan\n",
      "INFO:root:In dataset add 3 new results\n",
      "INFO:root:Available 9. At least 10.0 samples are required\n",
      "INFO:root:There is no valid surrogates\n",
      "INFO:root:Prediction from sampling plan\n",
      "INFO:root:In dataset add 3 new results\n",
      "INFO:root:Split dataset. Validation set is 0.2%\n"
     ]
    },
    {
     "name": "stdout",
     "output_type": "stream",
     "text": [
      "\n",
      "--- 1\n",
      "\n",
      "--- 2\n",
      "\n",
      "--- 3\n",
      "\n",
      "--- 4\n",
      "\n",
      "--- 5\n"
     ]
    },
    {
     "name": "stderr",
     "output_type": "stream",
     "text": [
      "INFO:root:Stage-2: 1 surrogate(s) valid\n",
      "INFO:root:Stage-3: 0 surrogate(s) pass surr score\n",
      "INFO:root:There is no valid surrogates\n",
      "INFO:root:Prediction from sampling plan\n",
      "INFO:root:In dataset add 3 new results\n",
      "INFO:root:Split dataset. Validation set is 0.2%\n"
     ]
    },
    {
     "name": "stdout",
     "output_type": "stream",
     "text": [
      "\n",
      "--- 6\n"
     ]
    },
    {
     "name": "stderr",
     "output_type": "stream",
     "text": [
      "INFO:root:Fit: Prediction from sampling plan\n",
      "INFO:root:There is no valid surrogates\n",
      "INFO:root:Prediction from sampling plan\n",
      "INFO:root:In dataset add 3 new results\n",
      "INFO:root:Split dataset. Validation set is 0.2%\n"
     ]
    },
    {
     "name": "stdout",
     "output_type": "stream",
     "text": [
      "\n",
      "--- 7\n"
     ]
    },
    {
     "name": "stderr",
     "output_type": "stream",
     "text": [
      "INFO:root:Stage-2: 1 surrogate(s) valid\n",
      "INFO:root:Stage-3: 1 surrogate(s) pass surr score\n",
      "INFO:root:In dataset add 3 new results\n",
      "INFO:root:Split dataset. Validation set is 0.2%\n"
     ]
    },
    {
     "name": "stdout",
     "output_type": "stream",
     "text": [
      "MOEA-Ctrl: Evolve SVR vs GradientBoostingRegressor by 100 population size in 100 generation\n",
      "\n",
      "--- 8\n"
     ]
    },
    {
     "name": "stderr",
     "output_type": "stream",
     "text": [
      "INFO:root:Fit: Prediction from sampling plan\n",
      "INFO:root:There is no valid surrogates\n",
      "INFO:root:Prediction from sampling plan\n",
      "INFO:root:In dataset add 3 new results\n",
      "INFO:root:Split dataset. Validation set is 0.2%\n"
     ]
    },
    {
     "name": "stdout",
     "output_type": "stream",
     "text": [
      "\n",
      "--- 9\n"
     ]
    },
    {
     "name": "stderr",
     "output_type": "stream",
     "text": [
      "INFO:root:Stage-2: 2 surrogate(s) valid\n",
      "INFO:root:Stage-3: 2 surrogate(s) pass surr score\n"
     ]
    },
    {
     "name": "stdout",
     "output_type": "stream",
     "text": [
      "MOEA-Ctrl: Evolve GradientBoostingRegressor vs GradientBoostingRegressor by 100 population size in 100 generation\n"
     ]
    },
    {
     "name": "stderr",
     "output_type": "stream",
     "text": [
      "INFO:root:In dataset add 3 new results\n",
      "INFO:root:Split dataset. Validation set is 0.2%\n"
     ]
    },
    {
     "name": "stdout",
     "output_type": "stream",
     "text": [
      "MOEA-Ctrl: Evolve SVR vs SVR by 100 population size in 100 generation\n",
      "\n",
      "--- 10\n"
     ]
    },
    {
     "name": "stderr",
     "output_type": "stream",
     "text": [
      "INFO:root:Stage-2: 2 surrogate(s) valid\n",
      "INFO:root:Stage-3: 2 surrogate(s) pass surr score\n"
     ]
    },
    {
     "name": "stdout",
     "output_type": "stream",
     "text": [
      "MOEA-Ctrl: Evolve SVR vs GradientBoostingRegressor by 100 population size in 100 generation\n"
     ]
    },
    {
     "name": "stderr",
     "output_type": "stream",
     "text": [
      "INFO:root:In dataset add 3 new results\n",
      "INFO:root:Split dataset. Validation set is 0.2%\n"
     ]
    },
    {
     "name": "stdout",
     "output_type": "stream",
     "text": [
      "MOEA-Ctrl: Evolve GradientBoostingRegressor vs SVR by 100 population size in 100 generation\n",
      "\n",
      "--- 11\n"
     ]
    },
    {
     "name": "stderr",
     "output_type": "stream",
     "text": [
      "INFO:root:Stage-2: 2 surrogate(s) valid\n",
      "INFO:root:Stage-3: 1 surrogate(s) pass surr score\n",
      "INFO:root:In dataset add 3 new results\n",
      "INFO:root:Split dataset. Validation set is 0.2%\n"
     ]
    },
    {
     "name": "stdout",
     "output_type": "stream",
     "text": [
      "MOEA-Ctrl: Evolve SVR vs GradientBoostingRegressor by 100 population size in 100 generation\n",
      "\n",
      "--- 12\n"
     ]
    },
    {
     "name": "stderr",
     "output_type": "stream",
     "text": [
      "INFO:root:Stage-2: 2 surrogate(s) valid\n",
      "INFO:root:Stage-3: 1 surrogate(s) pass surr score\n",
      "INFO:root:In dataset add 3 new results\n",
      "INFO:root:Split dataset. Validation set is 0.2%\n"
     ]
    },
    {
     "name": "stdout",
     "output_type": "stream",
     "text": [
      "MOEA-Ctrl: Evolve SVR vs GradientBoostingRegressor by 100 population size in 100 generation\n",
      "\n",
      "--- 13\n"
     ]
    },
    {
     "name": "stderr",
     "output_type": "stream",
     "text": [
      "INFO:root:Stage-2: 2 surrogate(s) valid\n",
      "INFO:root:Stage-3: 2 surrogate(s) pass surr score\n"
     ]
    },
    {
     "name": "stdout",
     "output_type": "stream",
     "text": [
      "MOEA-Ctrl: Evolve GradientBoostingRegressor vs GradientBoostingRegressor by 100 population size in 100 generation\n"
     ]
    },
    {
     "name": "stderr",
     "output_type": "stream",
     "text": [
      "INFO:root:In dataset add 3 new results\n",
      "INFO:root:Split dataset. Validation set is 0.2%\n"
     ]
    },
    {
     "name": "stdout",
     "output_type": "stream",
     "text": [
      "MOEA-Ctrl: Evolve SVR vs SVR by 100 population size in 100 generation\n",
      "\n",
      "--- 14\n"
     ]
    },
    {
     "name": "stderr",
     "output_type": "stream",
     "text": [
      "INFO:root:Stage-2: 2 surrogate(s) valid\n",
      "INFO:root:Stage-3: 2 surrogate(s) pass surr score\n"
     ]
    },
    {
     "name": "stdout",
     "output_type": "stream",
     "text": [
      "MOEA-Ctrl: Evolve GradientBoostingRegressor vs GradientBoostingRegressor by 100 population size in 100 generation\n"
     ]
    },
    {
     "name": "stderr",
     "output_type": "stream",
     "text": [
      "INFO:root:In dataset add 3 new results\n",
      "INFO:root:Split dataset. Validation set is 0.2%\n"
     ]
    },
    {
     "name": "stdout",
     "output_type": "stream",
     "text": [
      "MOEA-Ctrl: Evolve SVR vs SVR by 100 population size in 100 generation\n",
      "\n",
      "--- 15\n"
     ]
    },
    {
     "name": "stderr",
     "output_type": "stream",
     "text": [
      "INFO:root:Stage-2: 2 surrogate(s) valid\n",
      "INFO:root:Stage-3: 2 surrogate(s) pass surr score\n"
     ]
    },
    {
     "name": "stdout",
     "output_type": "stream",
     "text": [
      "MOEA-Ctrl: Evolve SVR vs GradientBoostingRegressor by 100 population size in 100 generation\n"
     ]
    },
    {
     "name": "stderr",
     "output_type": "stream",
     "text": [
      "INFO:root:In dataset add 3 new results\n",
      "INFO:root:Split dataset. Validation set is 0.2%\n"
     ]
    },
    {
     "name": "stdout",
     "output_type": "stream",
     "text": [
      "MOEA-Ctrl: Evolve GradientBoostingRegressor vs SVR by 100 population size in 100 generation\n",
      "\n",
      "--- 16\n"
     ]
    },
    {
     "name": "stderr",
     "output_type": "stream",
     "text": [
      "INFO:root:Stage-2: 2 surrogate(s) valid\n",
      "INFO:root:Stage-3: 2 surrogate(s) pass surr score\n"
     ]
    },
    {
     "name": "stdout",
     "output_type": "stream",
     "text": [
      "MOEA-Ctrl: Evolve SVR vs GradientBoostingRegressor by 100 population size in 100 generation\n"
     ]
    },
    {
     "name": "stderr",
     "output_type": "stream",
     "text": [
      "INFO:root:In dataset add 3 new results\n",
      "INFO:root:Split dataset. Validation set is 0.2%\n"
     ]
    },
    {
     "name": "stdout",
     "output_type": "stream",
     "text": [
      "MOEA-Ctrl: Evolve GradientBoostingRegressor vs SVR by 100 population size in 100 generation\n",
      "\n",
      "--- 17\n"
     ]
    },
    {
     "name": "stderr",
     "output_type": "stream",
     "text": [
      "INFO:root:Stage-2: 2 surrogate(s) valid\n",
      "INFO:root:Stage-3: 2 surrogate(s) pass surr score\n"
     ]
    },
    {
     "name": "stdout",
     "output_type": "stream",
     "text": [
      "MOEA-Ctrl: Evolve SVR vs SVR by 100 population size in 100 generation\n"
     ]
    },
    {
     "name": "stderr",
     "output_type": "stream",
     "text": [
      "INFO:root:In dataset add 3 new results\n",
      "INFO:root:Split dataset. Validation set is 0.2%\n"
     ]
    },
    {
     "name": "stdout",
     "output_type": "stream",
     "text": [
      "MOEA-Ctrl: Evolve GradientBoostingRegressor vs GradientBoostingRegressor by 100 population size in 100 generation\n",
      "\n",
      "--- 18\n"
     ]
    },
    {
     "name": "stderr",
     "output_type": "stream",
     "text": [
      "INFO:root:Stage-2: 2 surrogate(s) valid\n",
      "INFO:root:Stage-3: 2 surrogate(s) pass surr score\n"
     ]
    },
    {
     "name": "stdout",
     "output_type": "stream",
     "text": [
      "MOEA-Ctrl: Evolve SVR vs GradientBoostingRegressor by 100 population size in 100 generation\n"
     ]
    },
    {
     "name": "stderr",
     "output_type": "stream",
     "text": [
      "INFO:root:In dataset add 3 new results\n",
      "INFO:root:Split dataset. Validation set is 0.2%\n"
     ]
    },
    {
     "name": "stdout",
     "output_type": "stream",
     "text": [
      "MOEA-Ctrl: Evolve GradientBoostingRegressor vs SVR by 100 population size in 100 generation\n",
      "\n",
      "--- 19\n"
     ]
    },
    {
     "name": "stderr",
     "output_type": "stream",
     "text": [
      "INFO:root:Stage-2: 2 surrogate(s) valid\n",
      "INFO:root:Stage-3: 2 surrogate(s) pass surr score\n"
     ]
    },
    {
     "name": "stdout",
     "output_type": "stream",
     "text": [
      "MOEA-Ctrl: Evolve GradientBoostingRegressor vs SVR by 100 population size in 100 generation\n"
     ]
    },
    {
     "name": "stderr",
     "output_type": "stream",
     "text": [
      "INFO:root:In dataset add 3 new results\n",
      "INFO:root:Split dataset. Validation set is 0.2%\n"
     ]
    },
    {
     "name": "stdout",
     "output_type": "stream",
     "text": [
      "MOEA-Ctrl: Evolve SVR vs GradientBoostingRegressor by 100 population size in 100 generation\n",
      "\n",
      "--- 20\n"
     ]
    },
    {
     "name": "stderr",
     "output_type": "stream",
     "text": [
      "INFO:root:Stage-2: 2 surrogate(s) valid\n",
      "INFO:root:Stage-3: 2 surrogate(s) pass surr score\n"
     ]
    },
    {
     "name": "stdout",
     "output_type": "stream",
     "text": [
      "MOEA-Ctrl: Evolve SVR vs GradientBoostingRegressor by 100 population size in 100 generation\n"
     ]
    },
    {
     "name": "stderr",
     "output_type": "stream",
     "text": [
      "INFO:root:In dataset add 3 new results\n"
     ]
    },
    {
     "name": "stdout",
     "output_type": "stream",
     "text": [
      "MOEA-Ctrl: Evolve GradientBoostingRegressor vs SVR by 100 population size in 100 generation\n"
     ]
    }
   ],
   "source": [
    "gen = SamplesGenerator(pro)\n",
    "# tutor = make_pipeline(PredictTutor(pro.get_bounds(), portfolio=[grad_uni, lin_uni]))\n",
    "cv_thr = '(test_r2 > 0.65)'\n",
    "test_thr = '(ndf_surr_score > 0.6)'\n",
    "\n",
    "\n",
    "tutor = PredictTutor(pro.get_bounds(), portfolio=[svr_uni, grad_uni], solver='moea_control', train_test_sp=0.2, cv_threshold = cv_thr, test_threshold=test_thr)\n",
    "\n",
    "cv_res = []\n",
    "iter_solution = []\n",
    "x=0\n",
    "while x < 20:\n",
    "    x=x+1\n",
    "    print(\"\\n--- {}\".format(x))\n",
    "    X, y = gen.return_X_y()\n",
    "    tutor.fit(X.values, y.values, cv=4)\n",
    "\n",
    "    propos = tutor.predict(n=3, kind='stack')\n",
    "    iter_solution.append(tutor.predict_proba(None))\n",
    "    cv_res.append(tutor.cv_result)\n",
    "    gen.update(list(propos), [pro.fitness(p).tolist() for p in propos])"
   ]
  },
  {
   "cell_type": "code",
   "execution_count": 5,
   "metadata": {},
   "outputs": [
    {
     "name": "stdout",
     "output_type": "stream",
     "text": [
      "fff\n"
     ]
    }
   ],
   "source": [
    "def fit(**cv_params):\n",
    "    print(cv_params['cv'] if 'cvddd' in cv_params else 'fff')\n",
    "    \n",
    "    \n",
    "fit(cv=9)"
   ]
  },
  {
   "cell_type": "code",
   "execution_count": 8,
   "metadata": {},
   "outputs": [
    {
     "data": {
      "text/html": [
       "<div>\n",
       "<style scoped>\n",
       "    .dataframe tbody tr th:only-of-type {\n",
       "        vertical-align: middle;\n",
       "    }\n",
       "\n",
       "    .dataframe tbody tr th {\n",
       "        vertical-align: top;\n",
       "    }\n",
       "\n",
       "    .dataframe thead th {\n",
       "        text-align: right;\n",
       "    }\n",
       "</style>\n",
       "<table border=\"1\" class=\"dataframe\">\n",
       "  <thead>\n",
       "    <tr style=\"text-align: right;\">\n",
       "      <th></th>\n",
       "      <th>problem_name</th>\n",
       "      <th>seed</th>\n",
       "      <th>problem_id</th>\n",
       "      <th>objectives</th>\n",
       "      <th>feature_dim</th>\n",
       "      <th>pred_count</th>\n",
       "      <th>eval_budget</th>\n",
       "      <th>surr_portfolio</th>\n",
       "      <th>solver</th>\n",
       "      <th>train_test_sp</th>\n",
       "      <th>...</th>\n",
       "      <th>pop_ndf_f</th>\n",
       "      <th>fevals</th>\n",
       "      <th>evolve_time</th>\n",
       "      <th>date</th>\n",
       "      <th>p_distance</th>\n",
       "      <th>hypervolume</th>\n",
       "      <th>ndf_space</th>\n",
       "      <th>ndf_size</th>\n",
       "      <th>error</th>\n",
       "      <th>final</th>\n",
       "    </tr>\n",
       "  </thead>\n",
       "  <tbody>\n",
       "    <tr>\n",
       "      <td>0</td>\n",
       "      <td>zdt</td>\n",
       "      <td>42</td>\n",
       "      <td>4</td>\n",
       "      <td>2</td>\n",
       "      <td>2</td>\n",
       "      <td>10</td>\n",
       "      <td>1000</td>\n",
       "      <td>[GaussianProcessRegressor(alpha=1e-10, copy_X_...</td>\n",
       "      <td>nsga2</td>\n",
       "      <td>0.10</td>\n",
       "      <td>...</td>\n",
       "      <td>NaN</td>\n",
       "      <td>NaN</td>\n",
       "      <td>NaN</td>\n",
       "      <td>NaN</td>\n",
       "      <td>NaN</td>\n",
       "      <td>NaN</td>\n",
       "      <td>NaN</td>\n",
       "      <td>NaN</td>\n",
       "      <td>Tutor loop: The truth value of an array with m...</td>\n",
       "      <td>False</td>\n",
       "    </tr>\n",
       "    <tr>\n",
       "      <td>1</td>\n",
       "      <td>zdt</td>\n",
       "      <td>42</td>\n",
       "      <td>4</td>\n",
       "      <td>2</td>\n",
       "      <td>2</td>\n",
       "      <td>10</td>\n",
       "      <td>1000</td>\n",
       "      <td>[GaussianProcessRegressor(alpha=1e-10, copy_X_...</td>\n",
       "      <td>nsga2</td>\n",
       "      <td>0.25</td>\n",
       "      <td>...</td>\n",
       "      <td>NaN</td>\n",
       "      <td>NaN</td>\n",
       "      <td>NaN</td>\n",
       "      <td>NaN</td>\n",
       "      <td>NaN</td>\n",
       "      <td>NaN</td>\n",
       "      <td>NaN</td>\n",
       "      <td>NaN</td>\n",
       "      <td>Tutor loop: The truth value of an array with m...</td>\n",
       "      <td>False</td>\n",
       "    </tr>\n",
       "    <tr>\n",
       "      <td>2</td>\n",
       "      <td>zdt</td>\n",
       "      <td>42</td>\n",
       "      <td>4</td>\n",
       "      <td>2</td>\n",
       "      <td>2</td>\n",
       "      <td>10</td>\n",
       "      <td>1000</td>\n",
       "      <td>[GaussianProcessRegressor(alpha=1e-10, copy_X_...</td>\n",
       "      <td>nsga2</td>\n",
       "      <td>0.50</td>\n",
       "      <td>...</td>\n",
       "      <td>NaN</td>\n",
       "      <td>NaN</td>\n",
       "      <td>NaN</td>\n",
       "      <td>NaN</td>\n",
       "      <td>NaN</td>\n",
       "      <td>NaN</td>\n",
       "      <td>NaN</td>\n",
       "      <td>NaN</td>\n",
       "      <td>Tutor loop: The truth value of an array with m...</td>\n",
       "      <td>False</td>\n",
       "    </tr>\n",
       "    <tr>\n",
       "      <td>3</td>\n",
       "      <td>zdt</td>\n",
       "      <td>42</td>\n",
       "      <td>4</td>\n",
       "      <td>2</td>\n",
       "      <td>2</td>\n",
       "      <td>10</td>\n",
       "      <td>1000</td>\n",
       "      <td>[GaussianProcessRegressor(alpha=1e-10, copy_X_...</td>\n",
       "      <td>nsga2</td>\n",
       "      <td>0.10</td>\n",
       "      <td>...</td>\n",
       "      <td>NaN</td>\n",
       "      <td>NaN</td>\n",
       "      <td>NaN</td>\n",
       "      <td>NaN</td>\n",
       "      <td>NaN</td>\n",
       "      <td>NaN</td>\n",
       "      <td>NaN</td>\n",
       "      <td>NaN</td>\n",
       "      <td>Tutor loop: The truth value of an array with m...</td>\n",
       "      <td>False</td>\n",
       "    </tr>\n",
       "    <tr>\n",
       "      <td>4</td>\n",
       "      <td>zdt</td>\n",
       "      <td>42</td>\n",
       "      <td>4</td>\n",
       "      <td>2</td>\n",
       "      <td>2</td>\n",
       "      <td>10</td>\n",
       "      <td>1000</td>\n",
       "      <td>[GaussianProcessRegressor(alpha=1e-10, copy_X_...</td>\n",
       "      <td>nsga2</td>\n",
       "      <td>0.25</td>\n",
       "      <td>...</td>\n",
       "      <td>NaN</td>\n",
       "      <td>NaN</td>\n",
       "      <td>NaN</td>\n",
       "      <td>NaN</td>\n",
       "      <td>NaN</td>\n",
       "      <td>NaN</td>\n",
       "      <td>NaN</td>\n",
       "      <td>NaN</td>\n",
       "      <td>Tutor loop: The truth value of an array with m...</td>\n",
       "      <td>False</td>\n",
       "    </tr>\n",
       "    <tr>\n",
       "      <td>...</td>\n",
       "      <td>...</td>\n",
       "      <td>...</td>\n",
       "      <td>...</td>\n",
       "      <td>...</td>\n",
       "      <td>...</td>\n",
       "      <td>...</td>\n",
       "      <td>...</td>\n",
       "      <td>...</td>\n",
       "      <td>...</td>\n",
       "      <td>...</td>\n",
       "      <td>...</td>\n",
       "      <td>...</td>\n",
       "      <td>...</td>\n",
       "      <td>...</td>\n",
       "      <td>...</td>\n",
       "      <td>...</td>\n",
       "      <td>...</td>\n",
       "      <td>...</td>\n",
       "      <td>...</td>\n",
       "      <td>...</td>\n",
       "      <td>...</td>\n",
       "    </tr>\n",
       "    <tr>\n",
       "      <td>2911</td>\n",
       "      <td>zdt</td>\n",
       "      <td>42</td>\n",
       "      <td>6</td>\n",
       "      <td>2</td>\n",
       "      <td>2</td>\n",
       "      <td>50</td>\n",
       "      <td>1000</td>\n",
       "      <td>[GaussianProcessRegressor(alpha=1e-10, copy_X_...</td>\n",
       "      <td>random</td>\n",
       "      <td>0.25</td>\n",
       "      <td>...</td>\n",
       "      <td>NaN</td>\n",
       "      <td>NaN</td>\n",
       "      <td>NaN</td>\n",
       "      <td>NaN</td>\n",
       "      <td>NaN</td>\n",
       "      <td>NaN</td>\n",
       "      <td>NaN</td>\n",
       "      <td>NaN</td>\n",
       "      <td>Tutor loop: The truth value of an array with m...</td>\n",
       "      <td>False</td>\n",
       "    </tr>\n",
       "    <tr>\n",
       "      <td>2912</td>\n",
       "      <td>zdt</td>\n",
       "      <td>42</td>\n",
       "      <td>6</td>\n",
       "      <td>2</td>\n",
       "      <td>2</td>\n",
       "      <td>50</td>\n",
       "      <td>1000</td>\n",
       "      <td>[GaussianProcessRegressor(alpha=1e-10, copy_X_...</td>\n",
       "      <td>random</td>\n",
       "      <td>0.50</td>\n",
       "      <td>...</td>\n",
       "      <td>NaN</td>\n",
       "      <td>NaN</td>\n",
       "      <td>NaN</td>\n",
       "      <td>NaN</td>\n",
       "      <td>NaN</td>\n",
       "      <td>NaN</td>\n",
       "      <td>NaN</td>\n",
       "      <td>NaN</td>\n",
       "      <td>Tutor loop: The truth value of an array with m...</td>\n",
       "      <td>False</td>\n",
       "    </tr>\n",
       "    <tr>\n",
       "      <td>2913</td>\n",
       "      <td>zdt</td>\n",
       "      <td>42</td>\n",
       "      <td>6</td>\n",
       "      <td>2</td>\n",
       "      <td>2</td>\n",
       "      <td>50</td>\n",
       "      <td>1000</td>\n",
       "      <td>[GaussianProcessRegressor(alpha=1e-10, copy_X_...</td>\n",
       "      <td>random</td>\n",
       "      <td>0.10</td>\n",
       "      <td>...</td>\n",
       "      <td>NaN</td>\n",
       "      <td>NaN</td>\n",
       "      <td>NaN</td>\n",
       "      <td>NaN</td>\n",
       "      <td>NaN</td>\n",
       "      <td>NaN</td>\n",
       "      <td>NaN</td>\n",
       "      <td>NaN</td>\n",
       "      <td>Tutor loop: The truth value of an array with m...</td>\n",
       "      <td>False</td>\n",
       "    </tr>\n",
       "    <tr>\n",
       "      <td>2914</td>\n",
       "      <td>zdt</td>\n",
       "      <td>42</td>\n",
       "      <td>6</td>\n",
       "      <td>2</td>\n",
       "      <td>2</td>\n",
       "      <td>50</td>\n",
       "      <td>1000</td>\n",
       "      <td>[GaussianProcessRegressor(alpha=1e-10, copy_X_...</td>\n",
       "      <td>random</td>\n",
       "      <td>0.25</td>\n",
       "      <td>...</td>\n",
       "      <td>NaN</td>\n",
       "      <td>NaN</td>\n",
       "      <td>NaN</td>\n",
       "      <td>NaN</td>\n",
       "      <td>NaN</td>\n",
       "      <td>NaN</td>\n",
       "      <td>NaN</td>\n",
       "      <td>NaN</td>\n",
       "      <td>Tutor loop: The truth value of an array with m...</td>\n",
       "      <td>False</td>\n",
       "    </tr>\n",
       "    <tr>\n",
       "      <td>2915</td>\n",
       "      <td>zdt</td>\n",
       "      <td>42</td>\n",
       "      <td>6</td>\n",
       "      <td>2</td>\n",
       "      <td>2</td>\n",
       "      <td>50</td>\n",
       "      <td>1000</td>\n",
       "      <td>[GaussianProcessRegressor(alpha=1e-10, copy_X_...</td>\n",
       "      <td>random</td>\n",
       "      <td>0.50</td>\n",
       "      <td>...</td>\n",
       "      <td>NaN</td>\n",
       "      <td>NaN</td>\n",
       "      <td>NaN</td>\n",
       "      <td>NaN</td>\n",
       "      <td>NaN</td>\n",
       "      <td>NaN</td>\n",
       "      <td>NaN</td>\n",
       "      <td>NaN</td>\n",
       "      <td>Tutor loop: The truth value of an array with m...</td>\n",
       "      <td>False</td>\n",
       "    </tr>\n",
       "  </tbody>\n",
       "</table>\n",
       "<p>2916 rows × 25 columns</p>\n",
       "</div>"
      ],
      "text/plain": [
       "     problem_name  seed  problem_id  objectives  feature_dim  pred_count  \\\n",
       "0             zdt    42           4           2            2          10   \n",
       "1             zdt    42           4           2            2          10   \n",
       "2             zdt    42           4           2            2          10   \n",
       "3             zdt    42           4           2            2          10   \n",
       "4             zdt    42           4           2            2          10   \n",
       "...           ...   ...         ...         ...          ...         ...   \n",
       "2911          zdt    42           6           2            2          50   \n",
       "2912          zdt    42           6           2            2          50   \n",
       "2913          zdt    42           6           2            2          50   \n",
       "2914          zdt    42           6           2            2          50   \n",
       "2915          zdt    42           6           2            2          50   \n",
       "\n",
       "      eval_budget                                     surr_portfolio  solver  \\\n",
       "0            1000  [GaussianProcessRegressor(alpha=1e-10, copy_X_...   nsga2   \n",
       "1            1000  [GaussianProcessRegressor(alpha=1e-10, copy_X_...   nsga2   \n",
       "2            1000  [GaussianProcessRegressor(alpha=1e-10, copy_X_...   nsga2   \n",
       "3            1000  [GaussianProcessRegressor(alpha=1e-10, copy_X_...   nsga2   \n",
       "4            1000  [GaussianProcessRegressor(alpha=1e-10, copy_X_...   nsga2   \n",
       "...           ...                                                ...     ...   \n",
       "2911         1000  [GaussianProcessRegressor(alpha=1e-10, copy_X_...  random   \n",
       "2912         1000  [GaussianProcessRegressor(alpha=1e-10, copy_X_...  random   \n",
       "2913         1000  [GaussianProcessRegressor(alpha=1e-10, copy_X_...  random   \n",
       "2914         1000  [GaussianProcessRegressor(alpha=1e-10, copy_X_...  random   \n",
       "2915         1000  [GaussianProcessRegressor(alpha=1e-10, copy_X_...  random   \n",
       "\n",
       "      train_test_sp  ... pop_ndf_f fevals evolve_time  date  p_distance  \\\n",
       "0              0.10  ...       NaN    NaN         NaN   NaN         NaN   \n",
       "1              0.25  ...       NaN    NaN         NaN   NaN         NaN   \n",
       "2              0.50  ...       NaN    NaN         NaN   NaN         NaN   \n",
       "3              0.10  ...       NaN    NaN         NaN   NaN         NaN   \n",
       "4              0.25  ...       NaN    NaN         NaN   NaN         NaN   \n",
       "...             ...  ...       ...    ...         ...   ...         ...   \n",
       "2911           0.25  ...       NaN    NaN         NaN   NaN         NaN   \n",
       "2912           0.50  ...       NaN    NaN         NaN   NaN         NaN   \n",
       "2913           0.10  ...       NaN    NaN         NaN   NaN         NaN   \n",
       "2914           0.25  ...       NaN    NaN         NaN   NaN         NaN   \n",
       "2915           0.50  ...       NaN    NaN         NaN   NaN         NaN   \n",
       "\n",
       "      hypervolume  ndf_space  ndf_size  \\\n",
       "0             NaN        NaN       NaN   \n",
       "1             NaN        NaN       NaN   \n",
       "2             NaN        NaN       NaN   \n",
       "3             NaN        NaN       NaN   \n",
       "4             NaN        NaN       NaN   \n",
       "...           ...        ...       ...   \n",
       "2911          NaN        NaN       NaN   \n",
       "2912          NaN        NaN       NaN   \n",
       "2913          NaN        NaN       NaN   \n",
       "2914          NaN        NaN       NaN   \n",
       "2915          NaN        NaN       NaN   \n",
       "\n",
       "                                                  error  final  \n",
       "0     Tutor loop: The truth value of an array with m...  False  \n",
       "1     Tutor loop: The truth value of an array with m...  False  \n",
       "2     Tutor loop: The truth value of an array with m...  False  \n",
       "3     Tutor loop: The truth value of an array with m...  False  \n",
       "4     Tutor loop: The truth value of an array with m...  False  \n",
       "...                                                 ...    ...  \n",
       "2911  Tutor loop: The truth value of an array with m...  False  \n",
       "2912  Tutor loop: The truth value of an array with m...  False  \n",
       "2913  Tutor loop: The truth value of an array with m...  False  \n",
       "2914  Tutor loop: The truth value of an array with m...  False  \n",
       "2915  Tutor loop: The truth value of an array with m...  False  \n",
       "\n",
       "[2916 rows x 25 columns]"
      ]
     },
     "execution_count": 8,
     "metadata": {},
     "output_type": "execute_result"
    }
   ],
   "source": [
    "pd.read_csv('/home/valavanca/Documents/hal/Diploma/src/benchmark_results/mtutor_on_zdt_i0.gtu2vpp9nj.csv')"
   ]
  },
  {
   "cell_type": "code",
   "execution_count": 15,
   "metadata": {},
   "outputs": [
    {
     "data": {
      "text/plain": [
       "True"
      ]
     },
     "execution_count": 15,
     "metadata": {},
     "output_type": "execute_result"
    }
   ],
   "source": [
    "None in (4, None)"
   ]
  },
  {
   "cell_type": "markdown",
   "metadata": {},
   "source": [
    "___\n",
    "### Results analysis"
   ]
  },
  {
   "cell_type": "code",
   "execution_count": null,
   "metadata": {},
   "outputs": [],
   "source": [
    "X, y = gen.return_X_y()\n",
    "ndf, dl, dc, ndr = pg.fast_non_dominated_sorting(y.values)\n",
    "ndf_in_total = 100*(len(ndf[0])/len(X))\n",
    "y.reset_index(drop=True, inplace=True)\n",
    "\n",
    "print(\"Evaluated {} point(s). Non-dominated solutions is {:.1f}% from all dataset\".format(len(X), ndf_in_total))\n",
    "print(\"Hypervolume: {:.2f}\".format(pg.hypervolume(-y.loc[ndf[0],:].values).compute([0]*OBJ)))"
   ]
  },
  {
   "cell_type": "code",
   "execution_count": null,
   "metadata": {},
   "outputs": [],
   "source": [
    "X_ndf = X.copy().reset_index()\n",
    "X_ndf['ndf'] = 0\n",
    "X_ndf.loc[ndf[0],['ndf']] = 1\n",
    "px.scatter_matrix(X_ndf, template=\"presentation\" , dimensions=list(X.columns), color='ndf', color_continuous_scale='Jet', title=\"Feature space\").update_layout(coloraxis_showscale=False)"
   ]
  },
  {
   "cell_type": "code",
   "execution_count": null,
   "metadata": {},
   "outputs": [],
   "source": [
    "y_ndf = y.copy().reset_index()\n",
    "y_ndf['ndf'] = 0\n",
    "y_ndf.loc[ndf[0],['ndf']] = 1\n",
    "px.scatter_matrix(y_ndf, template=\"presentation\", dimensions=list(y.columns), color='ndf', color_continuous_scale='Rainbow', title=\"Objective space\").update_layout(coloraxis_showscale=False)"
   ]
  },
  {
   "cell_type": "code",
   "execution_count": null,
   "metadata": {},
   "outputs": [],
   "source": [
    "ndf_val_score = [frame.iloc[0]['ndf_surr_score'] if 'ndf_surr_score' in frame.columns else None for frame in iter_solution]\n",
    "val_score = [frame.iloc[0]['surr_score'] if 'surr_score' in frame.columns else None for frame in iter_solution]\n",
    "\n",
    "x = np.arange(len(val_score))\n",
    "fig = go.Figure()\n",
    "fig.add_trace(go.Scatter(x=x, y=ndf_val_score,\n",
    "                    mode='lines+markers',\n",
    "                    name='ndf_val_score'))\n",
    "fig.add_trace(go.Scatter(x=x, y=val_score,\n",
    "                    mode='lines+markers',\n",
    "                    name='val_score'))\n",
    "fig.update_layout(title='R2 score on the valid hypothesis')\n",
    "fig.show()"
   ]
  },
  {
   "cell_type": "markdown",
   "metadata": {},
   "source": [
    "### *Plotting objectives and search space for the last iteration of tuning\n",
    "- Red points are Pare front from the hypothesis.\n",
    "- Blue points are non-dominated solutions from evaluated points. Set of the best solutions available for this iteration.\n",
    "\n",
    "**if the dimension of problem and objective space is 2*"
   ]
  },
  {
   "cell_type": "code",
   "execution_count": null,
   "metadata": {},
   "outputs": [],
   "source": [
    "if OBJ==2 and DIM == 2:\n",
    "    # Plot last population from TutorModel   \n",
    "    X, y = gen.return_X_y()\n",
    "    X = X.reset_index()\n",
    "    y = y.reset_index()\n",
    "    \n",
    "    best_experiments = go.Scatter(x=y.loc[ndf[0],:].f1.values,\n",
    "                         y=y.loc[ndf[0],:].f2.values,\n",
    "                         mode='markers',\n",
    "                         name=u'Dataset. Not-dominated results ',\n",
    "                         showlegend=False,\n",
    "                         line=dict(color='blue')\n",
    "                         )\n",
    "    \n",
    "    solver = tutor.solution.solver.values[0]\n",
    "    fig = plot_mo(solver.problem, solver.population)\n",
    "    fig.add_trace(best_experiments, row=1, col=1)\n",
    "    plotly.offline.iplot(fig)"
   ]
  },
  {
   "cell_type": "code",
   "execution_count": null,
   "metadata": {},
   "outputs": [],
   "source": [
    "px.scatter_matrix(y.copy().loc[ndf[0],:], template=\"presentation\", dimensions=list(y.drop(columns=['index']).columns), color_continuous_scale='Redblue', title=\"Pareto front\").update_layout(coloraxis_showscale=False)"
   ]
  },
  {
   "cell_type": "code",
   "execution_count": null,
   "metadata": {},
   "outputs": [],
   "source": [
    "px.scatter_matrix(X.copy().loc[ndf[0],:], template=\"presentation\" , dimensions=list(X.drop(columns=['index']).columns), color_continuous_scale='Jet', title=\"Pareto front in parameter space\").update_layout(coloraxis_showscale=False)"
   ]
  },
  {
   "cell_type": "code",
   "execution_count": null,
   "metadata": {},
   "outputs": [],
   "source": [
    "nsga = [6.6, 6.5, 6,3]\n",
    "com = [3,25]\n",
    "\n",
    "\n",
    "go.Figure(data=[\n",
    "    go.Bar(name='NSGA2', x=['_300','_500','_5000'], y=[6.6, 6.5, 6.3]),\n",
    "    go.Bar(name='NSGA2+surrogate', x=['_300','_500','_5000'], y=[6.25])\n",
    "])"
   ]
  }
 ],
 "metadata": {
  "kernelspec": {
   "display_name": "Python 3",
   "language": "python",
   "name": "python3"
  },
  "language_info": {
   "codemirror_mode": {
    "name": "ipython",
    "version": 3
   },
   "file_extension": ".py",
   "mimetype": "text/x-python",
   "name": "python",
   "nbconvert_exporter": "python",
   "pygments_lexer": "ipython3",
   "version": "3.7.3"
  }
 },
 "nbformat": 4,
 "nbformat_minor": 4
}

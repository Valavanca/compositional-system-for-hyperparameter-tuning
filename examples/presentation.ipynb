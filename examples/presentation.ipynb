{
 "cells": [
  {
   "cell_type": "code",
   "execution_count": 1,
   "metadata": {},
   "outputs": [],
   "source": [
    "import datetime\n",
    "import time\n",
    "import sys\n",
    "sys.path.append('..')\n",
    "sys.path.append('../src')\n",
    "\n",
    "# --- Dependencies\n",
    "import pygmo as pg\n",
    "import numpy as np\n",
    "import pandas as pd\n",
    "# import dovpanda\n",
    "\n",
    "import plotly\n",
    "from plotly import graph_objs as go\n",
    "from plotly import tools\n",
    "import plotly.express as px\n",
    "\n",
    "import sklearn.gaussian_process as gp\n",
    "from sklearn.model_selection import cross_val_score, cross_validate\n",
    "from sklearn.ensemble import GradientBoostingRegressor\n",
    "from sklearn.linear_model import LinearRegression\n",
    "\n",
    "from src.composite import PredictTutor, ModelsUnion\n",
    "from src.generator import SamplesGenerator\n",
    "from src.ploting import plot_mo\n",
    "\n",
    "from src.hypothesis.tpot_estimator import TpotWrp\n",
    "from src.hypothesis.custom_gp_kernel import KERNEL_MAUNA, KERNEL_SIMPLE, KERNEL_GPML"
   ]
  },
  {
   "cell_type": "code",
   "execution_count": 16,
   "metadata": {},
   "outputs": [],
   "source": [
    "DIM = 2\n",
    "ID = 9\n",
    "OBJ = 2\n",
    "\n",
    "# --- Problem\n",
    "udp = pg.wfg(prob_id=ID, dim_dvs=DIM, dim_obj=OBJ, dim_k=OBJ-1)\n",
    "# udp = pg.zdt(prob_id=ID, param=DIM)\n",
    "pro = pg.problem(udp)\n",
    "\n",
    "pop = pg.population(pro, size=100)\n",
    "algo1 = pg.algorithm(pg.moead(gen=500))\n",
    "algo2 = pg.algorithm(pg.nsga2(gen=500))\n",
    "pop = algo1.evolve(pop) \n",
    "pop = algo2.evolve(pop) \n",
    "\n",
    "# fig = plot_mo(pro, pop)\n",
    "# fig.write_image('./img/prob_{}.png'.format(pro.get_name()), width=1600)\n",
    "plot_mo(pro, pop)"
   ]
  }
 ],
 "metadata": {
  "kernelspec": {
   "display_name": "Python 3",
   "language": "python",
   "name": "python3"
  },
  "language_info": {
   "codemirror_mode": {
    "name": "ipython",
    "version": 3
   },
   "file_extension": ".py",
   "mimetype": "text/x-python",
   "name": "python",
   "nbconvert_exporter": "python",
   "pygments_lexer": "ipython3",
   "version": "3.7.3"
  }
 },
 "nbformat": 4,
 "nbformat_minor": 4
}

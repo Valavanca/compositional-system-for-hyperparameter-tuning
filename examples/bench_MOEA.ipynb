{
 "cells": [
  {
   "cell_type": "markdown",
   "metadata": {},
   "source": [
    "# Benchmark for Multi-objective Evolutionary Algorithms (MOEAs)\n",
    "> repetition is required. Maybe 5 seeds\n",
    "\n",
    "For every problem and for every algorithm four different measures were obtained [@GP-DEMO]:\n",
    "\n",
    "- number of exact evaluations performed during the optimization process, \n",
    "- final hypervolume, \n",
    "- duration of the optimization process, \n",
    "- number of nondominated solutions on the final front."
   ]
  },
  {
   "cell_type": "code",
   "execution_count": 1,
   "metadata": {},
   "outputs": [],
   "source": [
    "import time\n",
    "import sys\n",
    "import datetime\n",
    "import logging\n",
    "sys.path.append('..')\n",
    "\n",
    "# --- Dependencies\n",
    "import pygmo as pg\n",
    "import numpy as np\n",
    "import pandas as pd\n",
    "# import dovpanda\n",
    "\n",
    "import plotly\n",
    "from plotly import graph_objs as go\n",
    "from plotly import tools\n",
    "import plotly.express as px\n",
    "\n",
    "from sklearn.model_selection import ParameterGrid\n",
    "from sklearn.metrics import r2_score\n",
    "# import sklearn.gaussian_process as gp\n",
    "# from sklearn import clone\n",
    "# from sklearn.model_selection import cross_val_score, cross_validate, train_test_split\n",
    "# from sklearn.ensemble import GradientBoostingRegressor\n",
    "\n",
    "# from src.generator import SamplesGenerator\n",
    "# from src.composite import PredictTutor, ModelsUnion\n",
    "from src.ploting import plot_mo\n",
    "# from src.search import Nsga2\n",
    "# from src.hypothesis.custom_gp_kernel import KERNEL_MAUNA, KERNEL_SIMPLE, KERNEL_GPML"
   ]
  },
  {
   "cell_type": "code",
   "execution_count": 2,
   "metadata": {},
   "outputs": [],
   "source": [
    "logging.basicConfig(filename='temp_moea.log',level=logging.INFO)\n",
    "\n",
    "def make_nd_pop(pro, x,y):\n",
    "    nd_front = pg.fast_non_dominated_sorting(y)[0][0]\n",
    "    nd_x = x[nd_front]\n",
    "    nd_y = y[nd_front]\n",
    "    t_pop = pg.population(pro)\n",
    "    for i, p_vector in enumerate(nd_x):\n",
    "        t_pop.push_back(x=p_vector, f=nd_y[i])\n",
    "    return t_pop\n",
    "\n",
    "def experiment(problem_name: str,\n",
    "               prob_id: int,\n",
    "               prob_dim: int,\n",
    "               obj: int,\n",
    "               pop_size: int,\n",
    "               gen: int,\n",
    "               algo_name='nsga2',\n",
    "               seed=None):\n",
    "\n",
    "    result = {\n",
    "        \"problem_name\": problem_name,\n",
    "        \"seed\": seed,\n",
    "        \"problem_id\": prob_id,\n",
    "        \"objectives\": obj,\n",
    "        \"feature_dim\": problem_dim,\n",
    "        'algo_name': algo_name,\n",
    "        \"pop_size\": pop_size,\n",
    "        \"generation\": gen,\n",
    "        \"pop_ndf_x\": '',\n",
    "        \"pop_ndf_f\": '',\n",
    "        \"fevals\": '',\n",
    "        \"evolve_time\": '',\n",
    "        \"total_time\": '',\n",
    "        \"date\": '',\n",
    "        \"p_distance\": '',\n",
    "        \"hypervolume\": '',\n",
    "        \"ndf_space\": '',\n",
    "        \"ndf_size\": '',\n",
    "        'error': '',\n",
    "        'final': False\n",
    "    }\n",
    "\n",
    "    # ----------------------                                                            Initialize problem\n",
    "    try:\n",
    "        if problem_name is 'wfg':\n",
    "            udp = pg.wfg(prob_id=prob_id, dim_dvs=prob_dim,\n",
    "                         dim_obj=obj, dim_k=obj-1)\n",
    "        elif problem_name is 'zdt':\n",
    "            udp = pg.zdt(prob_id=prob_id, param=prob_dim)\n",
    "        elif problem_name is 'dtlz':\n",
    "            udp = pg.dtlz(prob_id=prob_id, dim=prob_dim, fdim=obj)\n",
    "        prob = pg.problem(udp)\n",
    "    except Exception as err:\n",
    "        result['error'] = \"Init problem: {}\".format(err)\n",
    "        return result\n",
    "\n",
    "    t_start = time.time()\n",
    "    # ----------------------                                                            Initial population\n",
    "#     try:\n",
    "#         pop = pg.population(prob=udp, size=pop_size, seed=seed)\n",
    "#     except Exception as err:\n",
    "#         result['error'] = \"Init population: {}\".format(err)\n",
    "#         return result\n",
    "\n",
    "    # ----------------------                                                            Initialization algorithm \n",
    "    try:\n",
    "        algo = pg.algorithm(getattr(pg, algo_name)(gen=gen, seed=seed))\n",
    "    except Exception as err:\n",
    "        result['error'] = \"Init algorithm: {}\".format(err)\n",
    "        return result\n",
    "\n",
    "    # ----------------------                                                            Solving\n",
    "    evolve_start = time.time()\n",
    "    try:\n",
    "        \n",
    "        isl = pg.island(algo = algo, prob = udp, size=pop_size, udi = pg.mp_island(), seed=seed)\n",
    "        isl.evolve()\n",
    "        isl.wait()\n",
    "        pop = isl.get_population()\n",
    "        \n",
    "#         pop = algo.evolve(pop)\n",
    "         \n",
    "        result[\"fevals\"] = pop.problem.get_fevals()\n",
    "        #This returns the first (i.e., best) non-dominated individual from population:\n",
    "        nd_pop = make_nd_pop(prob, pop.get_x(), pop.get_f())\n",
    "        \n",
    "        score = udp.p_distance(nd_pop) if hasattr(udp, 'p_distance') else None\n",
    "    except Exception as err:\n",
    "        result['error'] = \"Evolve: {}\".format(err)\n",
    "        return result\n",
    "\n",
    "    # ----------------------                                                            Hypervolume\n",
    "    try:\n",
    "        hypervolume = pg.hypervolume(-nd_pop.get_f()\n",
    "                                    ).compute([0]*nd_pop.problem.get_nobj())\n",
    "        result['hypervolume'] = hypervolume or None\n",
    "    except Exception as err:\n",
    "        result['error'] = \"Hypervolume: {}\".format(err)\n",
    "        return result\n",
    "    \n",
    "    # ----------------------                                                            Spacing metric\n",
    "    #     The spacing metric aims at assessing the spread (distribution)\n",
    "    # of vectors throughout the set of nondominated solutions. \n",
    "    try:\n",
    "        dist = pg.crowding_distance(points = nd_pop.get_f())\n",
    "        not_inf_dist = dist[np.isfinite(dist)]\n",
    "        mean_dist = np.mean(not_inf_dist)\n",
    "        space_m = (sum([(mean_dist - d)**2 for d in not_inf_dist])/(len(not_inf_dist)-1))**(1/2)\n",
    "        result[\"ndf_space\"] = space_m\n",
    "    except Exception as err:\n",
    "        result['error'] = \"Spacing metric: {}\".format(err)\n",
    "        return result\n",
    "\n",
    "    # ----------------------                                                            Write results\n",
    "    \n",
    "    logging.debug('This message should go to the log file')\n",
    "    logging.info('So should this')\n",
    "    logging.warning('And this, too')\n",
    "    try:\n",
    "        t_end = time.time()\n",
    "\n",
    "        result[\"problem_name\"] = pop.problem.get_name()\n",
    "        result[\"objectives\"] = pop.problem.get_nobj()\n",
    "        result[\"feature_dim\"] = pop.problem.get_nx()\n",
    "        result[\"pop_ndf_x\"] = nd_pop.get_x().tolist()\n",
    "        result[\"pop_ndf_f\"] = nd_pop.get_f().tolist()\n",
    "        result[\"evolve_time\"] = t_end - evolve_start\n",
    "        result[\"total_time\"] = t_end - t_start\n",
    "        result[\"date\"] = datetime.datetime.now().strftime(\"%Y-%m-%d %H:%M\")\n",
    "        result[\"final\"] = True\n",
    "        result['algo_name'] = algo_name\n",
    "        result[\"p_distance\"] = score or None\n",
    "        result[\"ndf_size\"] = len(nd_pop.get_f())\n",
    "        \n",
    "\n",
    "    except Exception as err:\n",
    "        result['error'] = \"Write results: {}\".format(err)\n",
    "\n",
    "    return result"
   ]
  },
  {
   "cell_type": "code",
   "execution_count": 6,
   "metadata": {},
   "outputs": [
    {
     "name": "stdout",
     "output_type": "stream",
     "text": [
      "Hypervolume: 4.11442852120591\n"
     ]
    },
    {
     "data": {
      "text/plain": [
       "0.34974418435307253"
      ]
     },
     "execution_count": 6,
     "metadata": {},
     "output_type": "execute_result"
    }
   ],
   "source": [
    "DIM = 2\n",
    "ID = 1\n",
    "OBJ = 2\n",
    "\n",
    "# --- Problem\n",
    "udp = pg.wfg(prob_id=ID, dim_dvs=DIM, dim_obj=OBJ, dim_k=OBJ-1)\n",
    "# udp = pg.zdt(prob_id=ID, param=DIM)\n",
    "pro = pg.problem(udp)\n",
    "\n",
    "pop = pg.population(pro, size=100, seed=214)\n",
    "\n",
    "print(\"Hypervolume: {}\".format(pg.hypervolume(-pop.get_f()).compute([0,0])))\n",
    "pg.plot_non_dominated_fronts(pop.get_f())\n",
    "\n",
    "nd_pop = make_nd_pop(pro, pop.get_x(), pop.get_f())\n",
    "dist = pg.crowding_distance(points = nd_pop.get_f())\n",
    "not_inf_dist = dist[np.isfinite(dist)]\n",
    "mean_dist = np.mean(not_inf_dist)\n",
    "(sum([(mean_dist - d)**2 for d in not_inf_dist])/(len(not_inf_dist)-1))**(1/2)"
   ]
  },
  {
   "cell_type": "code",
   "execution_count": 7,
   "metadata": {},
   "outputs": [
    {
     "name": "stdout",
     "output_type": "stream",
     "text": [
      "Hypervolume: 6.251870605168537\n"
     ]
    },
    {
     "data": {
      "text/plain": [
       "0.013438098839049532"
      ]
     },
     "execution_count": 7,
     "metadata": {},
     "output_type": "execute_result"
    },
    {
     "data": {
      "image/png": "[encoded data removed]",
      "text/plain": [
       "<Figure size 432x288 with 1 Axes>"
      ]
     },
     "metadata": {
      "needs_background": "light"
     },
     "output_type": "display_data"
    }
   ],
   "source": [
    "# NSGA 2\n",
    "pop = pg.population(pro, size=100, seed=214)\n",
    "algo = pg.algorithm(pg.nsga2(gen=300, seed=2114))\n",
    "pop = algo.evolve(pop)      \n",
    "\n",
    "print(\"Hypervolume: {}\".format(pg.hypervolume(-pop.get_f()).compute([0,0])))\n",
    "pg.plot_non_dominated_fronts(pop.get_f())\n",
    "\n",
    "nd_pop = make_nd_pop(pro, pop.get_x(), pop.get_f())\n",
    "dist = pg.crowding_distance(points = nd_pop.get_f())\n",
    "not_inf_dist = dist[np.isfinite(dist)]\n",
    "mean_dist = np.mean(not_inf_dist)\n",
    "(sum([(mean_dist - d)**2 for d in not_inf_dist])/(len(not_inf_dist)-1))**(1/2)"
   ]
  },
  {
   "cell_type": "code",
   "execution_count": 8,
   "metadata": {},
   "outputs": [
    {
     "name": "stdout",
     "output_type": "stream",
     "text": [
      "Hypervolume: 4.297083944438444\n"
     ]
    },
    {
     "data": {
      "text/plain": [
       "0.043661473276195725"
      ]
     },
     "execution_count": 8,
     "metadata": {},
     "output_type": "execute_result"
    },
    {
     "data": {
      "image/png": "[encoded data removed]",
      "text/plain": [
       "<Figure size 432x288 with 1 Axes>"
      ]
     },
     "metadata": {
      "needs_background": "light"
     },
     "output_type": "display_data"
    }
   ],
   "source": [
    "# nspso\n",
    "pop = pg.population(pro, size=100, seed=214)\n",
    "algo = pg.algorithm(pg.nspso(gen=300, seed=2114))\n",
    "pop = algo.evolve(pop)      \n",
    "\n",
    "print(\"Hypervolume: {}\".format(pg.hypervolume(-pop.get_f()).compute([0,0])))\n",
    "pg.plot_non_dominated_fronts(pop.get_f())\n",
    "\n",
    "nd_pop = make_nd_pop(pro, pop.get_x(), pop.get_f())\n",
    "dist = pg.crowding_distance(points = nd_pop.get_f())\n",
    "not_inf_dist = dist[np.isfinite(dist)]\n",
    "mean_dist = np.mean(not_inf_dist)\n",
    "(sum([(mean_dist - d)**2 for d in not_inf_dist])/(len(not_inf_dist)-1))**(1/2)"
   ]
  },
  {
   "cell_type": "code",
   "execution_count": 9,
   "metadata": {},
   "outputs": [
    {
     "name": "stdout",
     "output_type": "stream",
     "text": [
      "Hypervolume: 4.4037955693411\n"
     ]
    },
    {
     "data": {
      "text/plain": [
       "0.09379724055262705"
      ]
     },
     "execution_count": 9,
     "metadata": {},
     "output_type": "execute_result"
    },
    {
     "data": {
      "image/png": "[encoded data removed]",
      "text/plain": [
       "<Figure size 432x288 with 1 Axes>"
      ]
     },
     "metadata": {
      "needs_background": "light"
     },
     "output_type": "display_data"
    }
   ],
   "source": [
    "# maco\n",
    "pop = pg.population(pro, size=100, seed=214)\n",
    "algo = pg.algorithm(pg.maco(gen=3000, seed=2114))\n",
    "pop = algo.evolve(pop)      \n",
    "\n",
    "print(\"Hypervolume: {}\".format(pg.hypervolume(-pop.get_f()).compute([0,0])))\n",
    "pg.plot_non_dominated_fronts(pop.get_f())\n",
    "\n",
    "nd_pop = make_nd_pop(pro, pop.get_x(), pop.get_f())\n",
    "dist = pg.crowding_distance(points = nd_pop.get_f())\n",
    "not_inf_dist = dist[np.isfinite(dist)]\n",
    "mean_dist = np.mean(not_inf_dist)\n",
    "(sum([(mean_dist - d)**2 for d in not_inf_dist])/(len(not_inf_dist)-1))**(1/2)"
   ]
  },
  {
   "cell_type": "code",
   "execution_count": 10,
   "metadata": {},
   "outputs": [
    {
     "name": "stdout",
     "output_type": "stream",
     "text": [
      "Hypervolume: 6.586280238834825\n"
     ]
    },
    {
     "data": {
      "text/plain": [
       "0.15512649499143405"
      ]
     },
     "execution_count": 10,
     "metadata": {},
     "output_type": "execute_result"
    },
    {
     "data": {
      "image/png": "[encoded data removed]",
      "text/plain": [
       "<Figure size 432x288 with 1 Axes>"
      ]
     },
     "metadata": {
      "needs_background": "light"
     },
     "output_type": "display_data"
    }
   ],
   "source": [
    "# moead\n",
    "pop = pg.population(pro, size=100, seed=214)\n",
    "algo = pg.algorithm(pg.moead(gen=3000, seed=2114))\n",
    "pop = algo.evolve(pop)      \n",
    "\n",
    "print(\"Hypervolume: {}\".format(pg.hypervolume(-pop.get_f()).compute([0,0])))\n",
    "pg.plot_non_dominated_fronts(pop.get_f())\n",
    "\n",
    "\n",
    "nd_pop = make_nd_pop(pro, pop.get_x(), pop.get_f())\n",
    "dist = pg.crowding_distance(points = nd_pop.get_f())\n",
    "not_inf_dist = dist[np.isfinite(dist)]\n",
    "mean_dist = np.mean(not_inf_dist)\n",
    "(sum([(mean_dist - d)**2 for d in not_inf_dist])/(len(not_inf_dist)-1))**(1/2)"
   ]
  },
  {
   "cell_type": "code",
   "execution_count": 11,
   "metadata": {},
   "outputs": [
    {
     "name": "stdout",
     "output_type": "stream",
     "text": [
      "Hypervolume: 5.311930659503753\n"
     ]
    },
    {
     "data": {
      "text/plain": [
       "<matplotlib.axes._subplots.AxesSubplot at 0x7f0fd36539b0>"
      ]
     },
     "execution_count": 11,
     "metadata": {},
     "output_type": "execute_result"
    },
    {
     "data": {
      "image/png": "[encoded data removed]",
      "text/plain": [
       "<Figure size 432x288 with 1 Axes>"
      ]
     },
     "metadata": {
      "needs_background": "light"
     },
     "output_type": "display_data"
    }
   ],
   "source": [
    "# moead\n",
    "pop = pg.population(pro, size=100, seed=214)\n",
    "algo = pg.algorithm(pg.moead(gen=3000, seed=2114))\n",
    "pop = algo.evolve(pop)      \n",
    "\n",
    "ndf_front = pg.fast_non_dominated_sorting(pop.get_f())[0][0]\n",
    "print(\"Hypervolume: {}\".format(pg.hypervolume(-pop.get_f()[ndf_front]).compute([0,0])))\n",
    "pg.plot_non_dominated_fronts(pop.get_f())\n"
   ]
  },
  {
   "cell_type": "code",
   "execution_count": 12,
   "metadata": {},
   "outputs": [
    {
     "name": "stdout",
     "output_type": "stream",
     "text": [
      "Hypervolume: 7.381633816334992\n"
     ]
    },
    {
     "data": {
      "image/png": "[encoded data removed]",
      "text/plain": [
       "<Figure size 432x288 with 1 Axes>"
      ]
     },
     "metadata": {
      "needs_background": "light"
     },
     "output_type": "display_data"
    }
   ],
   "source": [
    "DIM = 2\n",
    "ID = 1\n",
    "OBJ = 2\n",
    "\n",
    "# --- Problem\n",
    "# udp = pg.wfg(prob_id=ID, dim_dvs=DIM, dim_obj=OBJ, dim_k=OBJ-1)\n",
    "udp = pg.zdt(prob_id=ID, param=DIM)\n",
    "pro = pg.problem(udp)\n",
    "\n",
    "pop = pg.population(pro, size=100, seed=214)\n",
    "\n",
    "print(\"Hypervolume: {}\".format(pg.hypervolume(-pop.get_f()).compute([0,0])))\n",
    "pg.plot_non_dominated_fronts(pop.get_f())\n",
    "pop = pg.population(pro, size=100, seed=214)"
   ]
  },
  {
   "cell_type": "code",
   "execution_count": null,
   "metadata": {},
   "outputs": [],
   "source": [
    "pop.problem.get_fevals()"
   ]
  },
  {
   "cell_type": "code",
   "execution_count": null,
   "metadata": {},
   "outputs": [],
   "source": [
    "dt = pg.crowding_distance(points = nd_pop.get_f())\n",
    "not_inf = dt[np.isfinite(dt)]\n",
    "# mean = [np.mean(not_inf)]*len(not_inf)\n",
    "mean = np.mean(not_inf)\n",
    "(sum([(mean - d)**2 for d in not_inf])/(len(not_inf)-1))**(1/2)"
   ]
  },
  {
   "cell_type": "code",
   "execution_count": null,
   "metadata": {},
   "outputs": [],
   "source": []
  },
  {
   "cell_type": "code",
   "execution_count": null,
   "metadata": {},
   "outputs": [],
   "source": [
    "pg.crowding_distance(points = nd_pop.get_f())"
   ]
  },
  {
   "cell_type": "code",
   "execution_count": null,
   "metadata": {},
   "outputs": [],
   "source": [
    "def make_nd_pop(pro, x,y):\n",
    "    nd_front = pg.fast_non_dominated_sorting(y)[0][0]\n",
    "    nd_x = x[nd_front]\n",
    "    nd_y = y[nd_front]\n",
    "    t_pop = pg.population(pro)\n",
    "    for i, p_vector in enumerate(nd_x):\n",
    "        t_pop.push_back(x=p_vector, f=nd_y[i])\n",
    "    return t_pop\n",
    "\n",
    "\n",
    "new_pop = make_nd_pop(pro, pop.get_x(), pop.get_f())\n",
    "pg.plot_non_dominated_fronts(new_pop.get_f())\n",
    "udp.p_distance(new_pop)\n"
   ]
  },
  {
   "cell_type": "code",
   "execution_count": null,
   "metadata": {},
   "outputs": [],
   "source": [
    "\n"
   ]
  }
 ],
 "metadata": {
  "kernelspec": {
   "display_name": "Python 3",
   "language": "python",
   "name": "python3"
  },
  "language_info": {
   "codemirror_mode": {
    "name": "ipython",
    "version": 3
   },
   "file_extension": ".py",
   "mimetype": "text/x-python",
   "name": "python",
   "nbconvert_exporter": "python",
   "pygments_lexer": "ipython3",
   "version": "3.7.3"
  }
 },
 "nbformat": 4,
 "nbformat_minor": 4
}

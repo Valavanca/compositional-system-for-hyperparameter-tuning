{
 "cells": [
  {
   "cell_type": "code",
   "execution_count": 1,
   "metadata": {},
   "outputs": [],
   "source": [
    "import datetime\n",
    "import time\n",
    "import sys\n",
    "import glob\n",
    "sys.path.append('..')\n",
    "sys.path.append('../src')\n",
    "\n",
    "# --- Dependencies\n",
    "import pygmo as pg\n",
    "import numpy as np\n",
    "import pandas as pd\n",
    "import sobol_seq\n",
    "# import dovpanda\n",
    "\n",
    "import plotly\n",
    "from plotly import graph_objs as go\n",
    "from plotly import tools\n",
    "import plotly.express as px\n",
    "\n",
    "# import sklearn.gaussian_process as gp\n",
    "# from sklearn.model_selection import cross_val_score, cross_validate\n",
    "# from sklearn.ensemble import GradientBoostingRegressor\n",
    "# from sklearn.linear_model import LinearRegression\n",
    "\n",
    "from src.composite import PredictTutor, ModelsUnion\n",
    "# from src.generator import SamplesGenerator\n",
    "from src.ploting import plot_mo\n",
    "\n",
    "def make_nd_pop(pro, x, y):\n",
    "    nd_front = pg.fast_non_dominated_sorting(y)[0][0]\n",
    "    nd_x = np.array(x)[nd_front]\n",
    "    nd_y = np.array(y)[nd_front]\n",
    "    t_pop = pg.population(pro)\n",
    "    for i, p_vector in enumerate(nd_x):\n",
    "        t_pop.push_back(x=p_vector, f=nd_y[i])\n",
    "    return t_pop"
   ]
  },
  {
   "cell_type": "code",
   "execution_count": 42,
   "metadata": {},
   "outputs": [],
   "source": [
    "# # Deine problem\n",
    "# DIM = 2\n",
    "# ID = 4\n",
    "# OBJ = 2\n",
    "\n",
    "# # udp = pg.wfg(prob_id=ID, dim_dvs=DIM, dim_obj=OBJ, dim_k=OBJ-1)  # == WFG\n",
    "# # udp = pg.zdt(prob_id=ID, param=DIM) # == ZDT\n",
    "# udp = pg.dtlz(prob_id=2, dim=9, fdim=2) # == DTLZ\n",
    "# pro = pg.problem(udp)\n",
    "\n",
    "# name = 'DTLZ2_*.pkl'\n",
    "# folder = './data/tutorm/scale/pkl/'\n",
    "# paths = [i for i in glob.glob('{}{}'.format(folder, name))]\n",
    "\n",
    "# group = []\n",
    "# for p in paths:\n",
    "#     temp_df = pd.read_pickle(p)\n",
    "#     idx = p.find('.', 1)+1\n",
    "#     group_id = p[idx:idx+15]\n",
    "#     temp_df['group_id'] = group_id\n",
    "#     group.append(temp_df)\n",
    "\n",
    "# mapr_concat = pd.concat(group)\n",
    "# name = 'DTLZ2_9_{}k_x5.pkl'.format(int(len(mapr_concat)/1000))\n",
    "# mapr_concat.to_pickle('./data/tutorm/scale/concat/'+name)"
   ]
  },
  {
   "cell_type": "code",
   "execution_count": 66,
   "metadata": {},
   "outputs": [],
   "source": [
    "portfolio = [\"['MLPRegressor']\", \"['ModelsUnion', 'ModelsUnion', 'ModelsUnion']\", \"['GaussianProcessRegressor']\"]\n",
    "columns = ['p_distance', 'i_fevals', 'i_time', 'portfolio', 'tutor_id', 'group_id', 'objectives', 'model name', 'params hash']\n",
    "\n",
    "df = pd.read_pickle('./data/tutorm/scale/concat/DTLZ2_9_0k_x5.pkl')[columns]\n",
    "df['model name'] = df['model name'].apply(lambda x: str(x))\n",
    "df['portfolio'] = df['portfolio'].apply(lambda x: str(x))\n",
    "df = df[df[\"params hash\"]!= \"1e5c\"] \n",
    "df = df.loc[df['portfolio'].isin(portfolio)]\n",
    "# df = df.query('portfolio=={}')\n",
    "# df = df[df[\"params hash\"]!= \"7bc4\"] \n",
    "\n",
    "df['i_fevals/obj'] = df['i_fevals']/df['objectives']\n",
    "# df[df[\"portfolio\"]== \"['MLPRegressor']\"]['params hash'].unique()"
   ]
  },
  {
   "cell_type": "code",
   "execution_count": 67,
   "metadata": {},
   "outputs": [
    {
     "data": {
      "text/plain": [
       "[\"['MLPRegressor']\",\n",
       " \"['ModelsUnion', 'ModelsUnion', 'ModelsUnion']\",\n",
       " \"['GaussianProcessRegressor']\"]"
      ]
     },
     "execution_count": 67,
     "metadata": {},
     "output_type": "execute_result"
    }
   ],
   "source": [
    "df.portfolio.unique().tolist()"
   ]
  },
  {
   "cell_type": "code",
   "execution_count": 68,
   "metadata": {},
   "outputs": [
    {
     "data": {
      "text/html": [
       "<div>\n",
       "<style scoped>\n",
       "    .dataframe tbody tr th:only-of-type {\n",
       "        vertical-align: middle;\n",
       "    }\n",
       "\n",
       "    .dataframe tbody tr th {\n",
       "        vertical-align: top;\n",
       "    }\n",
       "\n",
       "    .dataframe thead th {\n",
       "        text-align: right;\n",
       "    }\n",
       "</style>\n",
       "<table border=\"1\" class=\"dataframe\">\n",
       "  <thead>\n",
       "    <tr style=\"text-align: right;\">\n",
       "      <th></th>\n",
       "      <th>p_distance</th>\n",
       "      <th>i_fevals</th>\n",
       "      <th>i_time</th>\n",
       "      <th>portfolio</th>\n",
       "      <th>tutor_id</th>\n",
       "      <th>group_id</th>\n",
       "      <th>objectives</th>\n",
       "      <th>model name</th>\n",
       "      <th>params hash</th>\n",
       "      <th>i_fevals/obj</th>\n",
       "    </tr>\n",
       "  </thead>\n",
       "  <tbody>\n",
       "    <tr>\n",
       "      <th>0</th>\n",
       "      <td>0.135367</td>\n",
       "      <td>400</td>\n",
       "      <td>0.035438</td>\n",
       "      <td>['MLPRegressor']</td>\n",
       "      <td>140154352253840</td>\n",
       "      <td>140154352253840</td>\n",
       "      <td>8</td>\n",
       "      <td>sampling plan</td>\n",
       "      <td>NaN</td>\n",
       "      <td>50.0</td>\n",
       "    </tr>\n",
       "    <tr>\n",
       "      <th>0</th>\n",
       "      <td>0.135367</td>\n",
       "      <td>400</td>\n",
       "      <td>0.039423</td>\n",
       "      <td>['MLPRegressor']</td>\n",
       "      <td>140062295856848</td>\n",
       "      <td>140062295856848</td>\n",
       "      <td>8</td>\n",
       "      <td>sampling plan</td>\n",
       "      <td>NaN</td>\n",
       "      <td>50.0</td>\n",
       "    </tr>\n",
       "    <tr>\n",
       "      <th>1</th>\n",
       "      <td>0.165819</td>\n",
       "      <td>800</td>\n",
       "      <td>640.061674</td>\n",
       "      <td>['MLPRegressor']</td>\n",
       "      <td>140062295856848</td>\n",
       "      <td>140062295856848</td>\n",
       "      <td>8</td>\n",
       "      <td>mlpregressor</td>\n",
       "      <td>7bc4</td>\n",
       "      <td>100.0</td>\n",
       "    </tr>\n",
       "    <tr>\n",
       "      <th>2</th>\n",
       "      <td>0.247974</td>\n",
       "      <td>1200</td>\n",
       "      <td>1414.322325</td>\n",
       "      <td>['MLPRegressor']</td>\n",
       "      <td>140062295856848</td>\n",
       "      <td>140062295856848</td>\n",
       "      <td>8</td>\n",
       "      <td>mlpregressor</td>\n",
       "      <td>7bc4</td>\n",
       "      <td>150.0</td>\n",
       "    </tr>\n",
       "    <tr>\n",
       "      <th>3</th>\n",
       "      <td>0.288823</td>\n",
       "      <td>1600</td>\n",
       "      <td>1929.311077</td>\n",
       "      <td>['MLPRegressor']</td>\n",
       "      <td>140062295856848</td>\n",
       "      <td>140062295856848</td>\n",
       "      <td>8</td>\n",
       "      <td>mlpregressor</td>\n",
       "      <td>7bc4</td>\n",
       "      <td>200.0</td>\n",
       "    </tr>\n",
       "    <tr>\n",
       "      <th>...</th>\n",
       "      <td>...</td>\n",
       "      <td>...</td>\n",
       "      <td>...</td>\n",
       "      <td>...</td>\n",
       "      <td>...</td>\n",
       "      <td>...</td>\n",
       "      <td>...</td>\n",
       "      <td>...</td>\n",
       "      <td>...</td>\n",
       "      <td>...</td>\n",
       "    </tr>\n",
       "    <tr>\n",
       "      <th>5</th>\n",
       "      <td>0.020505</td>\n",
       "      <td>600</td>\n",
       "      <td>404.509174</td>\n",
       "      <td>['ModelsUnion', 'ModelsUnion', 'ModelsUnion']</td>\n",
       "      <td>139873032415888</td>\n",
       "      <td>139873032415888</td>\n",
       "      <td>2</td>\n",
       "      <td>['mlpregressor', 'gradientboostingregressor']</td>\n",
       "      <td>[1e5c, 591a]</td>\n",
       "      <td>300.0</td>\n",
       "    </tr>\n",
       "    <tr>\n",
       "      <th>6</th>\n",
       "      <td>0.025135</td>\n",
       "      <td>700</td>\n",
       "      <td>489.365843</td>\n",
       "      <td>['ModelsUnion', 'ModelsUnion', 'ModelsUnion']</td>\n",
       "      <td>139873032415888</td>\n",
       "      <td>139873032415888</td>\n",
       "      <td>2</td>\n",
       "      <td>['mlpregressor', 'mlpregressor']</td>\n",
       "      <td>[1e5c, 1e5c]</td>\n",
       "      <td>350.0</td>\n",
       "    </tr>\n",
       "    <tr>\n",
       "      <th>7</th>\n",
       "      <td>0.024256</td>\n",
       "      <td>800</td>\n",
       "      <td>576.733654</td>\n",
       "      <td>['ModelsUnion', 'ModelsUnion', 'ModelsUnion']</td>\n",
       "      <td>139873032415888</td>\n",
       "      <td>139873032415888</td>\n",
       "      <td>2</td>\n",
       "      <td>['mlpregressor', 'mlpregressor']</td>\n",
       "      <td>[1e5c, 1e5c]</td>\n",
       "      <td>400.0</td>\n",
       "    </tr>\n",
       "    <tr>\n",
       "      <th>8</th>\n",
       "      <td>0.023889</td>\n",
       "      <td>900</td>\n",
       "      <td>663.512677</td>\n",
       "      <td>['ModelsUnion', 'ModelsUnion', 'ModelsUnion']</td>\n",
       "      <td>139873032415888</td>\n",
       "      <td>139873032415888</td>\n",
       "      <td>2</td>\n",
       "      <td>['mlpregressor', 'mlpregressor']</td>\n",
       "      <td>[1e5c, 1e5c]</td>\n",
       "      <td>450.0</td>\n",
       "    </tr>\n",
       "    <tr>\n",
       "      <th>9</th>\n",
       "      <td>0.024895</td>\n",
       "      <td>1000</td>\n",
       "      <td>747.442658</td>\n",
       "      <td>['ModelsUnion', 'ModelsUnion', 'ModelsUnion']</td>\n",
       "      <td>139873032415888</td>\n",
       "      <td>139873032415888</td>\n",
       "      <td>2</td>\n",
       "      <td>['gradientboostingregressor', 'mlpregressor']</td>\n",
       "      <td>[591a, 1e5c]</td>\n",
       "      <td>500.0</td>\n",
       "    </tr>\n",
       "  </tbody>\n",
       "</table>\n",
       "<p>465 rows × 10 columns</p>\n",
       "</div>"
      ],
      "text/plain": [
       "    p_distance  i_fevals       i_time  \\\n",
       "0     0.135367       400     0.035438   \n",
       "0     0.135367       400     0.039423   \n",
       "1     0.165819       800   640.061674   \n",
       "2     0.247974      1200  1414.322325   \n",
       "3     0.288823      1600  1929.311077   \n",
       "..         ...       ...          ...   \n",
       "5     0.020505       600   404.509174   \n",
       "6     0.025135       700   489.365843   \n",
       "7     0.024256       800   576.733654   \n",
       "8     0.023889       900   663.512677   \n",
       "9     0.024895      1000   747.442658   \n",
       "\n",
       "                                        portfolio         tutor_id  \\\n",
       "0                                ['MLPRegressor']  140154352253840   \n",
       "0                                ['MLPRegressor']  140062295856848   \n",
       "1                                ['MLPRegressor']  140062295856848   \n",
       "2                                ['MLPRegressor']  140062295856848   \n",
       "3                                ['MLPRegressor']  140062295856848   \n",
       "..                                            ...              ...   \n",
       "5   ['ModelsUnion', 'ModelsUnion', 'ModelsUnion']  139873032415888   \n",
       "6   ['ModelsUnion', 'ModelsUnion', 'ModelsUnion']  139873032415888   \n",
       "7   ['ModelsUnion', 'ModelsUnion', 'ModelsUnion']  139873032415888   \n",
       "8   ['ModelsUnion', 'ModelsUnion', 'ModelsUnion']  139873032415888   \n",
       "9   ['ModelsUnion', 'ModelsUnion', 'ModelsUnion']  139873032415888   \n",
       "\n",
       "           group_id  objectives  \\\n",
       "0   140154352253840           8   \n",
       "0   140062295856848           8   \n",
       "1   140062295856848           8   \n",
       "2   140062295856848           8   \n",
       "3   140062295856848           8   \n",
       "..              ...         ...   \n",
       "5   139873032415888           2   \n",
       "6   139873032415888           2   \n",
       "7   139873032415888           2   \n",
       "8   139873032415888           2   \n",
       "9   139873032415888           2   \n",
       "\n",
       "                                       model name   params hash  i_fevals/obj  \n",
       "0                                   sampling plan           NaN          50.0  \n",
       "0                                   sampling plan           NaN          50.0  \n",
       "1                                    mlpregressor          7bc4         100.0  \n",
       "2                                    mlpregressor          7bc4         150.0  \n",
       "3                                    mlpregressor          7bc4         200.0  \n",
       "..                                            ...           ...           ...  \n",
       "5   ['mlpregressor', 'gradientboostingregressor']  [1e5c, 591a]         300.0  \n",
       "6                ['mlpregressor', 'mlpregressor']  [1e5c, 1e5c]         350.0  \n",
       "7                ['mlpregressor', 'mlpregressor']  [1e5c, 1e5c]         400.0  \n",
       "8                ['mlpregressor', 'mlpregressor']  [1e5c, 1e5c]         450.0  \n",
       "9   ['gradientboostingregressor', 'mlpregressor']  [591a, 1e5c]         500.0  \n",
       "\n",
       "[465 rows x 10 columns]"
      ]
     },
     "execution_count": 68,
     "metadata": {},
     "output_type": "execute_result"
    }
   ],
   "source": [
    "df"
   ]
  },
  {
   "cell_type": "code",
   "execution_count": 71,
   "metadata": {},
   "outputs": [],
   "source": [
    "grp_df = df.groupby(['i_fevals/obj', 'portfolio', 'objectives']).mean()\n",
    "grp_df.reset_index(inplace=True)"
   ]
  },
  {
   "cell_type": "code",
   "execution_count": 127,
   "metadata": {},
   "outputs": [
    {
     "data": {
      "application/vnd.plotly.v1+json": {
       "config": {
        "plotlyServerURL": "https://plot.ly"
       },
       "data": [
        {
         "hoverlabel": {
          "namelength": 0
         },
         "hovertemplate": "objectives=2<br>surrogate=['GaussianProcessRegressor']<br>i_fevals/obj=%{x}<br>p_distance=%{y}",
         "legendgroup": "2",
         "line": {
          "color": "#54A24B",
          "dash": "solid"
         },
         "marker": {
          "symbol": "x"
         },
         "mode": "markers+lines",
         "name": "2",
         "showlegend": true,
         "type": "scatter",
         "x": [
          50,
          100,
          150,
          200,
          250,
          300,
          350,
          400,
          450,
          500
         ],
         "xaxis": "x",
         "y": [
          0.4912109375,
          0.02247146015130639,
          0.006432800442346896,
          0.0036322729842986254,
          0.0012448152552010532,
          0.001233046861637679,
          0.002452363135057083,
          0.002000660518057027,
          0.001148123014852619,
          0.0018133636232925097
         ],
         "yaxis": "y"
        },
        {
         "hoverlabel": {
          "namelength": 0
         },
         "hovertemplate": "objectives=2<br>surrogate=['MLPRegressor']<br>i_fevals/obj=%{x}<br>p_distance=%{y}",
         "legendgroup": "2",
         "line": {
          "color": "#54A24B",
          "dash": "solid"
         },
         "marker": {
          "symbol": "x"
         },
         "mode": "markers+lines",
         "name": "2",
         "showlegend": false,
         "type": "scatter",
         "x": [
          50,
          100,
          150,
          200,
          250,
          300,
          350,
          400,
          450,
          500
         ],
         "xaxis": "x2",
         "y": [
          0.4912109375,
          0.12250202636705229,
          0.06696001608879115,
          0.037443651755656324,
          0.029294353598225464,
          0.030204297003887066,
          0.027153995146565295,
          0.026140491848555138,
          0.023751962931413045,
          0.022709792359940483
         ],
         "yaxis": "y2"
        },
        {
         "hoverlabel": {
          "namelength": 0
         },
         "hovertemplate": "objectives=2<br>surrogate=['ModelsUnion', 'ModelsUnion', 'ModelsUnion']<br>i_fevals/obj=%{x}<br>p_distance=%{y}",
         "legendgroup": "2",
         "line": {
          "color": "#54A24B",
          "dash": "solid"
         },
         "marker": {
          "symbol": "x"
         },
         "mode": "markers+lines",
         "name": "2",
         "showlegend": false,
         "type": "scatter",
         "x": [
          50,
          100,
          150,
          200,
          250,
          300,
          350,
          400,
          450,
          500
         ],
         "xaxis": "x3",
         "y": [
          0.4912109375,
          0.10272402814526982,
          0.11137386229174358,
          0.11169560892679811,
          0.08292478745534684,
          0.049364252057514026,
          0.051721104006653564,
          0.04373435999057258,
          0.04240821344328066,
          0.040329913087901126
         ],
         "yaxis": "y3"
        },
        {
         "hoverlabel": {
          "namelength": 0
         },
         "hovertemplate": "objectives=4<br>surrogate=['GaussianProcessRegressor']<br>i_fevals/obj=%{x}<br>p_distance=%{y}",
         "legendgroup": "4",
         "line": {
          "color": "#4C78A8",
          "dash": "solid"
         },
         "marker": {
          "symbol": "x"
         },
         "mode": "markers+lines",
         "name": "4",
         "showlegend": true,
         "type": "scatter",
         "x": [
          50,
          100,
          150,
          200,
          250,
          300,
          350,
          400,
          450,
          500
         ],
         "xaxis": "x",
         "y": [
          0.4067862828572591,
          0.0807753108440582,
          0.162539622647212,
          0.2086316265608445,
          0.2493059032109432,
          0.259707981265763,
          0.28584143850265226,
          0.29354524213553934,
          0.2843282038113263,
          0.271694213753528
         ],
         "yaxis": "y"
        },
        {
         "hoverlabel": {
          "namelength": 0
         },
         "hovertemplate": "objectives=4<br>surrogate=['MLPRegressor']<br>i_fevals/obj=%{x}<br>p_distance=%{y}",
         "legendgroup": "4",
         "line": {
          "color": "#4C78A8",
          "dash": "solid"
         },
         "marker": {
          "symbol": "x"
         },
         "mode": "markers+lines",
         "name": "4",
         "showlegend": false,
         "type": "scatter",
         "x": [
          50,
          100,
          150,
          200,
          250,
          300,
          350,
          400,
          450,
          500
         ],
         "xaxis": "x2",
         "y": [
          0.40678628285725915,
          0.23886805195660687,
          0.13960105715464072,
          0.10489068760362177,
          0.08749922175114418,
          0.08435535733129626,
          0.08297215747474818,
          0.07803575966460705,
          0.07833005945320229,
          0.080759706817064
         ],
         "yaxis": "y2"
        },
        {
         "hoverlabel": {
          "namelength": 0
         },
         "hovertemplate": "objectives=4<br>surrogate=['ModelsUnion', 'ModelsUnion', 'ModelsUnion']<br>i_fevals/obj=%{x}<br>p_distance=%{y}",
         "legendgroup": "4",
         "line": {
          "color": "#4C78A8",
          "dash": "solid"
         },
         "marker": {
          "symbol": "x"
         },
         "mode": "markers+lines",
         "name": "4",
         "showlegend": false,
         "type": "scatter",
         "x": [
          50,
          100,
          150,
          200,
          250,
          300,
          350,
          400,
          450,
          500
         ],
         "xaxis": "x3",
         "y": [
          0.4067862828572591,
          0.17744168579490815,
          0.16276248581802005,
          0.1605507638437064,
          0.1521473367748404,
          0.14011866419855207,
          0.14890893462524032,
          0.14814778998307943,
          0.14391007390220056,
          0.13681760680235538
         ],
         "yaxis": "y3"
        },
        {
         "hoverlabel": {
          "namelength": 0
         },
         "hovertemplate": "objectives=8<br>surrogate=['GaussianProcessRegressor']<br>i_fevals/obj=%{x}<br>p_distance=%{y}",
         "legendgroup": "8",
         "line": {
          "color": "#E45756",
          "dash": "solid"
         },
         "marker": {
          "symbol": "x"
         },
         "mode": "markers+lines",
         "name": "8",
         "showlegend": true,
         "type": "scatter",
         "x": [
          50,
          100,
          150,
          200,
          250,
          300,
          350,
          400,
          450,
          500
         ],
         "xaxis": "x",
         "y": [
          0.13536658420030814,
          0.22924562191397585,
          0.2883741024823356,
          0.32050496658984085,
          0.3396184778231274,
          0.3530286517224864,
          0.362712092403522,
          0.3702779885326718,
          0.3762265490097382,
          0.3812448786557544
         ],
         "yaxis": "y"
        },
        {
         "hoverlabel": {
          "namelength": 0
         },
         "hovertemplate": "objectives=8<br>surrogate=['MLPRegressor']<br>i_fevals/obj=%{x}<br>p_distance=%{y}",
         "legendgroup": "8",
         "line": {
          "color": "#E45756",
          "dash": "solid"
         },
         "marker": {
          "symbol": "x"
         },
         "mode": "markers+lines",
         "name": "8",
         "showlegend": false,
         "type": "scatter",
         "x": [
          50,
          100,
          150,
          200,
          250,
          300,
          350,
          400,
          450,
          500
         ],
         "xaxis": "x2",
         "y": [
          0.13536658420030817,
          0.22266086953204134,
          0.26485342484617147,
          0.28732177809680165,
          0.30633260396869766,
          0.32065138400604287,
          0.3319046662560712,
          0.33791081227719627,
          0.3426880779340946,
          0.3445778970538286
         ],
         "yaxis": "y2"
        },
        {
         "hoverlabel": {
          "namelength": 0
         },
         "hovertemplate": "objectives=8<br>surrogate=['ModelsUnion', 'ModelsUnion', 'ModelsUnion']<br>i_fevals/obj=%{x}<br>p_distance=%{y}",
         "legendgroup": "8",
         "line": {
          "color": "#E45756",
          "dash": "solid"
         },
         "marker": {
          "symbol": "x"
         },
         "mode": "markers+lines",
         "name": "8",
         "showlegend": false,
         "type": "scatter",
         "x": [
          50,
          100,
          150,
          200,
          250,
          300,
          350,
          400,
          450,
          500
         ],
         "xaxis": "x3",
         "y": [
          0.13536658420030814,
          0.22241317331083707,
          0.27721422458006806,
          0.30785635221555596,
          0.3260623577250129,
          0.33814052911065756,
          0.34578482565245655,
          0.3533338036939078,
          0.3583821245863365,
          0.3626170156136255
         ],
         "yaxis": "y3"
        }
       ],
       "layout": {
        "annotations": [
         {
          "font": {},
          "showarrow": false,
          "text": "surrogate=['GaussianProcessRegressor']",
          "x": 0.15999999999999998,
          "xanchor": "center",
          "xref": "paper",
          "y": 1,
          "yanchor": "bottom",
          "yref": "paper"
         },
         {
          "font": {},
          "showarrow": false,
          "text": "surrogate=['MLPRegressor']",
          "x": 0.49999999999999994,
          "xanchor": "center",
          "xref": "paper",
          "y": 1,
          "yanchor": "bottom",
          "yref": "paper"
         },
         {
          "font": {},
          "showarrow": false,
          "text": "surrogate=['ModelsUnion', 'ModelsUnion', 'ModelsUnion']",
          "x": 0.8399999999999999,
          "xanchor": "center",
          "xref": "paper",
          "y": 1,
          "yanchor": "bottom",
          "yref": "paper"
         }
        ],
        "autosize": true,
        "legend": {
         "title": {
          "text": "objectives"
         },
         "tracegroupgap": 0
        },
        "margin": {
         "t": 60
        },
        "template": {
         "data": {
          "pie": [
           {
            "automargin": true,
            "type": "pie"
           }
          ],
          "scatter": [
           {
            "line": {
             "width": 3
            },
            "marker": {
             "size": 9
            },
            "type": "scatter"
           }
          ],
          "scatter3d": [
           {
            "line": {
             "width": 3
            },
            "marker": {
             "size": 9
            },
            "type": "scatter3d"
           }
          ],
          "scattergeo": [
           {
            "line": {
             "width": 3
            },
            "marker": {
             "size": 9
            },
            "type": "scattergeo"
           }
          ],
          "scattergl": [
           {
            "line": {
             "width": 3
            },
            "marker": {
             "size": 9
            },
            "type": "scattergl"
           }
          ],
          "scatterpolar": [
           {
            "line": {
             "width": 3
            },
            "marker": {
             "size": 9
            },
            "type": "scatterpolar"
           }
          ],
          "scatterpolargl": [
           {
            "line": {
             "width": 3
            },
            "marker": {
             "size": 9
            },
            "type": "scatterpolargl"
           }
          ],
          "scatterternary": [
           {
            "line": {
             "width": 3
            },
            "marker": {
             "size": 9
            },
            "type": "scatterternary"
           }
          ],
          "table": [
           {
            "cells": {
             "height": 30
            },
            "header": {
             "height": 36
            },
            "type": "table"
           }
          ]
         },
         "layout": {
          "font": {
           "size": 18
          },
          "xaxis": {
           "title": {
            "standoff": 15
           }
          },
          "yaxis": {
           "title": {
            "standoff": 15
           }
          }
         }
        },
        "xaxis": {
         "anchor": "y",
         "autorange": true,
         "domain": [
          0,
          0.31999999999999995
         ],
         "range": [
          18.922834584419117,
          531.0771654155809
         ],
         "title": {
          "text": "i_fevals/obj"
         },
         "type": "linear"
        },
        "xaxis2": {
         "anchor": "y2",
         "autorange": true,
         "domain": [
          0.33999999999999997,
          0.6599999999999999
         ],
         "matches": "x",
         "range": [
          18.922834584419117,
          531.0771654155809
         ],
         "title": {
          "text": "i_fevals/obj"
         },
         "type": "linear"
        },
        "xaxis3": {
         "anchor": "y3",
         "autorange": true,
         "domain": [
          0.6799999999999999,
          0.9999999999999999
         ],
         "matches": "x",
         "range": [
          18.922834584419117,
          531.0771654155809
         ],
         "title": {
          "text": "i_fevals/obj"
         },
         "type": "linear"
        },
        "yaxis": {
         "anchor": "x",
         "autorange": true,
         "domain": [
          0,
          1
         ],
         "range": [
          -0.03751696365554416,
          0.5298760241703968
         ],
         "title": {
          "text": "p_distance"
         },
         "type": "linear"
        },
        "yaxis2": {
         "anchor": "x2",
         "autorange": true,
         "domain": [
          0,
          1
         ],
         "matches": "y",
         "range": [
          -0.03751696365554416,
          0.5298760241703968
         ],
         "showticklabels": false,
         "type": "linear"
        },
        "yaxis3": {
         "anchor": "x3",
         "autorange": true,
         "domain": [
          0,
          1
         ],
         "matches": "y",
         "range": [
          -0.03751696365554416,
          0.5298760241703968
         ],
         "showticklabels": false,
         "type": "linear"
        }
       }
      },
      "image/png": "[encoded data removed]",
      "text/html": [
       "<div>\n",
       "        \n",
       "        \n",
       "            <div id=\"7d2e9cc6-856a-4c75-9d93-7d1699174d80\" class=\"plotly-graph-div\" style=\"height:525px; width:100%;\"></div>\n",
       "            <script type=\"text/javascript\">\n",
       "                require([\"plotly\"], function(Plotly) {\n",
       "                    window.PLOTLYENV=window.PLOTLYENV || {};\n",
       "                    \n",
       "                if (document.getElementById(\"7d2e9cc6-856a-4c75-9d93-7d1699174d80\")) {\n",
       "                    Plotly.newPlot(\n",
       "                        '7d2e9cc6-856a-4c75-9d93-7d1699174d80',\n",
       "                        [{\"hoverlabel\": {\"namelength\": 0}, \"hovertemplate\": \"objectives=2<br>surrogate=['GaussianProcessRegressor']<br>i_fevals/obj=%{x}<br>p_distance=%{y}\", \"legendgroup\": \"2\", \"line\": {\"color\": \"#54A24B\", \"dash\": \"solid\"}, \"marker\": {\"symbol\": \"x\"}, \"mode\": \"markers+lines\", \"name\": \"2\", \"showlegend\": true, \"type\": \"scatter\", \"x\": [50.0, 100.0, 150.0, 200.0, 250.0, 300.0, 350.0, 400.0, 450.0, 500.0], \"xaxis\": \"x\", \"y\": [0.4912109375, 0.02247146015130639, 0.006432800442346896, 0.0036322729842986254, 0.0012448152552010532, 0.001233046861637679, 0.002452363135057083, 0.002000660518057027, 0.001148123014852619, 0.0018133636232925097], \"yaxis\": \"y\"}, {\"hoverlabel\": {\"namelength\": 0}, \"hovertemplate\": \"objectives=2<br>surrogate=['MLPRegressor']<br>i_fevals/obj=%{x}<br>p_distance=%{y}\", \"legendgroup\": \"2\", \"line\": {\"color\": \"#54A24B\", \"dash\": \"solid\"}, \"marker\": {\"symbol\": \"x\"}, \"mode\": \"markers+lines\", \"name\": \"2\", \"showlegend\": false, \"type\": \"scatter\", \"x\": [50.0, 100.0, 150.0, 200.0, 250.0, 300.0, 350.0, 400.0, 450.0, 500.0], \"xaxis\": \"x2\", \"y\": [0.4912109375, 0.12250202636705229, 0.06696001608879115, 0.037443651755656324, 0.029294353598225464, 0.030204297003887066, 0.027153995146565295, 0.026140491848555138, 0.023751962931413045, 0.022709792359940483], \"yaxis\": \"y2\"}, {\"hoverlabel\": {\"namelength\": 0}, \"hovertemplate\": \"objectives=2<br>surrogate=['ModelsUnion', 'ModelsUnion', 'ModelsUnion']<br>i_fevals/obj=%{x}<br>p_distance=%{y}\", \"legendgroup\": \"2\", \"line\": {\"color\": \"#54A24B\", \"dash\": \"solid\"}, \"marker\": {\"symbol\": \"x\"}, \"mode\": \"markers+lines\", \"name\": \"2\", \"showlegend\": false, \"type\": \"scatter\", \"x\": [50.0, 100.0, 150.0, 200.0, 250.0, 300.0, 350.0, 400.0, 450.0, 500.0], \"xaxis\": \"x3\", \"y\": [0.4912109375, 0.10272402814526982, 0.11137386229174358, 0.11169560892679811, 0.08292478745534684, 0.049364252057514026, 0.051721104006653564, 0.04373435999057258, 0.04240821344328066, 0.040329913087901126], \"yaxis\": \"y3\"}, {\"hoverlabel\": {\"namelength\": 0}, \"hovertemplate\": \"objectives=4<br>surrogate=['GaussianProcessRegressor']<br>i_fevals/obj=%{x}<br>p_distance=%{y}\", \"legendgroup\": \"4\", \"line\": {\"color\": \"#4C78A8\", \"dash\": \"solid\"}, \"marker\": {\"symbol\": \"x\"}, \"mode\": \"markers+lines\", \"name\": \"4\", \"showlegend\": true, \"type\": \"scatter\", \"x\": [50.0, 100.0, 150.0, 200.0, 250.0, 300.0, 350.0, 400.0, 450.0, 500.0], \"xaxis\": \"x\", \"y\": [0.4067862828572591, 0.0807753108440582, 0.162539622647212, 0.2086316265608445, 0.2493059032109432, 0.259707981265763, 0.28584143850265226, 0.29354524213553934, 0.2843282038113263, 0.271694213753528], \"yaxis\": \"y\"}, {\"hoverlabel\": {\"namelength\": 0}, \"hovertemplate\": \"objectives=4<br>surrogate=['MLPRegressor']<br>i_fevals/obj=%{x}<br>p_distance=%{y}\", \"legendgroup\": \"4\", \"line\": {\"color\": \"#4C78A8\", \"dash\": \"solid\"}, \"marker\": {\"symbol\": \"x\"}, \"mode\": \"markers+lines\", \"name\": \"4\", \"showlegend\": false, \"type\": \"scatter\", \"x\": [50.0, 100.0, 150.0, 200.0, 250.0, 300.0, 350.0, 400.0, 450.0, 500.0], \"xaxis\": \"x2\", \"y\": [0.40678628285725915, 0.23886805195660687, 0.13960105715464072, 0.10489068760362177, 0.08749922175114418, 0.08435535733129626, 0.08297215747474818, 0.07803575966460705, 0.07833005945320229, 0.080759706817064], \"yaxis\": \"y2\"}, {\"hoverlabel\": {\"namelength\": 0}, \"hovertemplate\": \"objectives=4<br>surrogate=['ModelsUnion', 'ModelsUnion', 'ModelsUnion']<br>i_fevals/obj=%{x}<br>p_distance=%{y}\", \"legendgroup\": \"4\", \"line\": {\"color\": \"#4C78A8\", \"dash\": \"solid\"}, \"marker\": {\"symbol\": \"x\"}, \"mode\": \"markers+lines\", \"name\": \"4\", \"showlegend\": false, \"type\": \"scatter\", \"x\": [50.0, 100.0, 150.0, 200.0, 250.0, 300.0, 350.0, 400.0, 450.0, 500.0], \"xaxis\": \"x3\", \"y\": [0.4067862828572591, 0.17744168579490815, 0.16276248581802005, 0.1605507638437064, 0.1521473367748404, 0.14011866419855207, 0.14890893462524032, 0.14814778998307943, 0.14391007390220056, 0.13681760680235538], \"yaxis\": \"y3\"}, {\"hoverlabel\": {\"namelength\": 0}, \"hovertemplate\": \"objectives=8<br>surrogate=['GaussianProcessRegressor']<br>i_fevals/obj=%{x}<br>p_distance=%{y}\", \"legendgroup\": \"8\", \"line\": {\"color\": \"#E45756\", \"dash\": \"solid\"}, \"marker\": {\"symbol\": \"x\"}, \"mode\": \"markers+lines\", \"name\": \"8\", \"showlegend\": true, \"type\": \"scatter\", \"x\": [50.0, 100.0, 150.0, 200.0, 250.0, 300.0, 350.0, 400.0, 450.0, 500.0], \"xaxis\": \"x\", \"y\": [0.13536658420030814, 0.22924562191397585, 0.2883741024823356, 0.32050496658984085, 0.3396184778231274, 0.3530286517224864, 0.362712092403522, 0.3702779885326718, 0.3762265490097382, 0.3812448786557544], \"yaxis\": \"y\"}, {\"hoverlabel\": {\"namelength\": 0}, \"hovertemplate\": \"objectives=8<br>surrogate=['MLPRegressor']<br>i_fevals/obj=%{x}<br>p_distance=%{y}\", \"legendgroup\": \"8\", \"line\": {\"color\": \"#E45756\", \"dash\": \"solid\"}, \"marker\": {\"symbol\": \"x\"}, \"mode\": \"markers+lines\", \"name\": \"8\", \"showlegend\": false, \"type\": \"scatter\", \"x\": [50.0, 100.0, 150.0, 200.0, 250.0, 300.0, 350.0, 400.0, 450.0, 500.0], \"xaxis\": \"x2\", \"y\": [0.13536658420030817, 0.22266086953204134, 0.26485342484617147, 0.28732177809680165, 0.30633260396869766, 0.32065138400604287, 0.3319046662560712, 0.33791081227719627, 0.3426880779340946, 0.3445778970538286], \"yaxis\": \"y2\"}, {\"hoverlabel\": {\"namelength\": 0}, \"hovertemplate\": \"objectives=8<br>surrogate=['ModelsUnion', 'ModelsUnion', 'ModelsUnion']<br>i_fevals/obj=%{x}<br>p_distance=%{y}\", \"legendgroup\": \"8\", \"line\": {\"color\": \"#E45756\", \"dash\": \"solid\"}, \"marker\": {\"symbol\": \"x\"}, \"mode\": \"markers+lines\", \"name\": \"8\", \"showlegend\": false, \"type\": \"scatter\", \"x\": [50.0, 100.0, 150.0, 200.0, 250.0, 300.0, 350.0, 400.0, 450.0, 500.0], \"xaxis\": \"x3\", \"y\": [0.13536658420030814, 0.22241317331083707, 0.27721422458006806, 0.30785635221555596, 0.3260623577250129, 0.33814052911065756, 0.34578482565245655, 0.3533338036939078, 0.3583821245863365, 0.3626170156136255], \"yaxis\": \"y3\"}],\n",
       "                        {\"annotations\": [{\"font\": {}, \"showarrow\": false, \"text\": \"surrogate=['GaussianProcessRegressor']\", \"x\": 0.15999999999999998, \"xanchor\": \"center\", \"xref\": \"paper\", \"y\": 1.0, \"yanchor\": \"bottom\", \"yref\": \"paper\"}, {\"font\": {}, \"showarrow\": false, \"text\": \"surrogate=['MLPRegressor']\", \"x\": 0.49999999999999994, \"xanchor\": \"center\", \"xref\": \"paper\", \"y\": 1.0, \"yanchor\": \"bottom\", \"yref\": \"paper\"}, {\"font\": {}, \"showarrow\": false, \"text\": \"surrogate=['ModelsUnion', 'ModelsUnion', 'ModelsUnion']\", \"x\": 0.8399999999999999, \"xanchor\": \"center\", \"xref\": \"paper\", \"y\": 1.0, \"yanchor\": \"bottom\", \"yref\": \"paper\"}], \"legend\": {\"title\": {\"text\": \"objectives\"}, \"tracegroupgap\": 0}, \"margin\": {\"t\": 60}, \"template\": {\"data\": {\"pie\": [{\"automargin\": true, \"type\": \"pie\"}], \"scatter\": [{\"line\": {\"width\": 3}, \"marker\": {\"size\": 9}, \"type\": \"scatter\"}], \"scatter3d\": [{\"line\": {\"width\": 3}, \"marker\": {\"size\": 9}, \"type\": \"scatter3d\"}], \"scattergeo\": [{\"line\": {\"width\": 3}, \"marker\": {\"size\": 9}, \"type\": \"scattergeo\"}], \"scattergl\": [{\"line\": {\"width\": 3}, \"marker\": {\"size\": 9}, \"type\": \"scattergl\"}], \"scatterpolar\": [{\"line\": {\"width\": 3}, \"marker\": {\"size\": 9}, \"type\": \"scatterpolar\"}], \"scatterpolargl\": [{\"line\": {\"width\": 3}, \"marker\": {\"size\": 9}, \"type\": \"scatterpolargl\"}], \"scatterternary\": [{\"line\": {\"width\": 3}, \"marker\": {\"size\": 9}, \"type\": \"scatterternary\"}], \"table\": [{\"cells\": {\"height\": 30}, \"header\": {\"height\": 36}, \"type\": \"table\"}]}, \"layout\": {\"font\": {\"size\": 18}, \"xaxis\": {\"title\": {\"standoff\": 15}}, \"yaxis\": {\"title\": {\"standoff\": 15}}}}, \"xaxis\": {\"anchor\": \"y\", \"domain\": [0.0, 0.31999999999999995], \"title\": {\"text\": \"i_fevals/obj\"}}, \"xaxis2\": {\"anchor\": \"y2\", \"domain\": [0.33999999999999997, 0.6599999999999999], \"matches\": \"x\", \"title\": {\"text\": \"i_fevals/obj\"}}, \"xaxis3\": {\"anchor\": \"y3\", \"domain\": [0.6799999999999999, 0.9999999999999999], \"matches\": \"x\", \"title\": {\"text\": \"i_fevals/obj\"}}, \"yaxis\": {\"anchor\": \"x\", \"domain\": [0.0, 1.0], \"title\": {\"text\": \"p_distance\"}}, \"yaxis2\": {\"anchor\": \"x2\", \"domain\": [0.0, 1.0], \"matches\": \"y\", \"showticklabels\": false}, \"yaxis3\": {\"anchor\": \"x3\", \"domain\": [0.0, 1.0], \"matches\": \"y\", \"showticklabels\": false}},\n",
       "                        {\"responsive\": true}\n",
       "                    ).then(function(){\n",
       "                            \n",
       "var gd = document.getElementById('7d2e9cc6-856a-4c75-9d93-7d1699174d80');\n",
       "var x = new MutationObserver(function (mutations, observer) {{\n",
       "        var display = window.getComputedStyle(gd).display;\n",
       "        if (!display || display === 'none') {{\n",
       "            console.log([gd, 'removed!']);\n",
       "            Plotly.purge(gd);\n",
       "            observer.disconnect();\n",
       "        }}\n",
       "}});\n",
       "\n",
       "// Listen for the removal of the full notebook cells\n",
       "var notebookContainer = gd.closest('#notebook-container');\n",
       "if (notebookContainer) {{\n",
       "    x.observe(notebookContainer, {childList: true});\n",
       "}}\n",
       "\n",
       "// Listen for the clearing of the current output cell\n",
       "var outputEl = gd.closest('.output');\n",
       "if (outputEl) {{\n",
       "    x.observe(outputEl, {childList: true});\n",
       "}}\n",
       "\n",
       "                        })\n",
       "                };\n",
       "                });\n",
       "            </script>\n",
       "        </div>"
      ]
     },
     "metadata": {},
     "output_type": "display_data"
    },
    {
     "data": {
      "application/vnd.plotly.v1+json": {
       "config": {
        "plotlyServerURL": "https://plot.ly"
       },
       "data": [
        {
         "hoverlabel": {
          "namelength": 0
         },
         "hovertemplate": "objectives=2<br>surrogate=['GaussianProcessRegressor']<br>i_fevals/obj=%{x}<br>i_time=%{y}",
         "legendgroup": "2",
         "line": {
          "color": "#54A24B",
          "dash": "solid"
         },
         "mode": "markers+lines",
         "name": "2",
         "showlegend": true,
         "type": "scatter",
         "x": [
          50,
          100,
          150,
          200,
          250,
          300,
          350,
          400,
          450,
          500
         ],
         "xaxis": "x",
         "y": [
          0.020021629333496094,
          92.40816593170166,
          242.22594032287597,
          558.7236474990844,
          1027.0921051979064,
          1839.5043025016785,
          2633.2225101947784,
          3687.1694558143618,
          4986.242816734314,
          6502.6447660923
         ],
         "yaxis": "y"
        },
        {
         "hoverlabel": {
          "namelength": 0
         },
         "hovertemplate": "objectives=2<br>surrogate=['MLPRegressor']<br>i_fevals/obj=%{x}<br>i_time=%{y}",
         "legendgroup": "2",
         "line": {
          "color": "#54A24B",
          "dash": "solid"
         },
         "mode": "markers+lines",
         "name": "2",
         "showlegend": false,
         "type": "scatter",
         "x": [
          50,
          100,
          150,
          200,
          250,
          300,
          350,
          400,
          450,
          500
         ],
         "xaxis": "x2",
         "y": [
          0.014345550537109375,
          117.54732480049134,
          236.18966212272645,
          356.8043560504913,
          479.6043167591095,
          606.656602525711,
          725.6758387565612,
          860.9826281070709,
          997.0185237407684,
          1139.5988048076629
         ],
         "yaxis": "y2"
        },
        {
         "hoverlabel": {
          "namelength": 0
         },
         "hovertemplate": "objectives=2<br>surrogate=['ModelsUnion', 'ModelsUnion', 'ModelsUnion']<br>i_fevals/obj=%{x}<br>i_time=%{y}",
         "legendgroup": "2",
         "line": {
          "color": "#54A24B",
          "dash": "solid"
         },
         "mode": "markers+lines",
         "name": "2",
         "showlegend": false,
         "type": "scatter",
         "x": [
          50,
          100,
          150,
          200,
          250,
          300,
          350,
          400,
          450,
          500
         ],
         "xaxis": "x3",
         "y": [
          0.014070081710815429,
          81.92314548492432,
          159.9348065853119,
          237.83756604194642,
          316.1328714847565,
          396.83198108673093,
          479.10466675758363,
          563.3362544536591,
          645.1434144973755,
          727.9853362083435
         ],
         "yaxis": "y3"
        },
        {
         "hoverlabel": {
          "namelength": 0
         },
         "hovertemplate": "objectives=4<br>surrogate=['GaussianProcessRegressor']<br>i_fevals/obj=%{x}<br>i_time=%{y}",
         "legendgroup": "4",
         "line": {
          "color": "#4C78A8",
          "dash": "solid"
         },
         "mode": "markers+lines",
         "name": "4",
         "showlegend": true,
         "type": "scatter",
         "x": [
          50,
          100,
          150,
          200,
          250,
          300,
          350,
          400,
          450,
          500
         ],
         "xaxis": "x",
         "y": [
          0.019413471221923828,
          245.4096230983734,
          774.9223868370057,
          1775.6209349632263,
          3488.417320680618,
          6234.825058269501,
          10141.45655784607,
          15965.987260293961,
          26907.260839653016,
          36701.52131867409
         ],
         "yaxis": "y"
        },
        {
         "hoverlabel": {
          "namelength": 0
         },
         "hovertemplate": "objectives=4<br>surrogate=['MLPRegressor']<br>i_fevals/obj=%{x}<br>i_time=%{y}",
         "legendgroup": "4",
         "line": {
          "color": "#4C78A8",
          "dash": "solid"
         },
         "mode": "markers+lines",
         "name": "4",
         "showlegend": false,
         "type": "scatter",
         "x": [
          50,
          100,
          150,
          200,
          250,
          300,
          350,
          400,
          450,
          500
         ],
         "xaxis": "x2",
         "y": [
          0.018901538848876954,
          277.22462978363035,
          500.03988885879517,
          750.2838709831237,
          1058.1784160137177,
          1339.9240258693694,
          1632.5624105930328,
          1925.4895095825195,
          2252.9501093387603,
          2568.018879175186
         ],
         "yaxis": "y2"
        },
        {
         "hoverlabel": {
          "namelength": 0
         },
         "hovertemplate": "objectives=4<br>surrogate=['ModelsUnion', 'ModelsUnion', 'ModelsUnion']<br>i_fevals/obj=%{x}<br>i_time=%{y}",
         "legendgroup": "4",
         "line": {
          "color": "#4C78A8",
          "dash": "solid"
         },
         "mode": "markers+lines",
         "name": "4",
         "showlegend": false,
         "type": "scatter",
         "x": [
          50,
          100,
          150,
          200,
          250,
          300,
          350,
          400,
          450,
          500
         ],
         "xaxis": "x3",
         "y": [
          0.019042205810546876,
          541.6119029998779,
          1092.9498920440674,
          1640.5965072631836,
          2177.5197645664216,
          2725.654070806503,
          3266.766887331009,
          3834.296262359619,
          4403.54752907753,
          4966.466851139068
         ],
         "yaxis": "y3"
        },
        {
         "hoverlabel": {
          "namelength": 0
         },
         "hovertemplate": "objectives=8<br>surrogate=['GaussianProcessRegressor']<br>i_fevals/obj=%{x}<br>i_time=%{y}",
         "legendgroup": "8",
         "line": {
          "color": "#E45756",
          "dash": "solid"
         },
         "mode": "markers+lines",
         "name": "8",
         "showlegend": true,
         "type": "scatter",
         "x": [
          50,
          100,
          150,
          200,
          250,
          300,
          350,
          400,
          450,
          500
         ],
         "xaxis": "x",
         "y": [
          0.040278053283691405,
          692.2750957012177,
          2585.2853190898895,
          6463.686373710632,
          13973.979274368286,
          24199.979858636856,
          40478.18272862434,
          64103.0074242115,
          91858.65791430473,
          129764.87724847793
         ],
         "yaxis": "y"
        },
        {
         "hoverlabel": {
          "namelength": 0
         },
         "hovertemplate": "objectives=8<br>surrogate=['MLPRegressor']<br>i_fevals/obj=%{x}<br>i_time=%{y}",
         "legendgroup": "8",
         "line": {
          "color": "#E45756",
          "dash": "solid"
         },
         "mode": "markers+lines",
         "name": "8",
         "showlegend": false,
         "type": "scatter",
         "x": [
          50,
          100,
          150,
          200,
          250,
          300,
          350,
          400,
          450,
          500
         ],
         "xaxis": "x2",
         "y": [
          0.05114777088165283,
          1626.5847109317779,
          3216.227702999115,
          4701.016946220398,
          6365.416968345642,
          8027.3127189159395,
          9649.099432277679,
          11230.587455081939,
          12705.125228881836,
          14188.25800280571
         ],
         "yaxis": "y2"
        },
        {
         "hoverlabel": {
          "namelength": 0
         },
         "hovertemplate": "objectives=8<br>surrogate=['ModelsUnion', 'ModelsUnion', 'ModelsUnion']<br>i_fevals/obj=%{x}<br>i_time=%{y}",
         "legendgroup": "8",
         "line": {
          "color": "#E45756",
          "dash": "solid"
         },
         "mode": "markers+lines",
         "name": "8",
         "showlegend": false,
         "type": "scatter",
         "x": [
          50,
          100,
          150,
          200,
          250,
          300,
          350,
          400,
          450,
          500
         ],
         "xaxis": "x3",
         "y": [
          0.04814743995666504,
          3770.7328107833864,
          7364.754616451263,
          11031.648415327072,
          14825.405394411087,
          18579.21573114395,
          22379.033604240416,
          26250.838857316972,
          30072.133165550233,
          33773.72447977066
         ],
         "yaxis": "y3"
        }
       ],
       "layout": {
        "annotations": [
         {
          "font": {},
          "showarrow": false,
          "text": "surrogate=['GaussianProcessRegressor']",
          "x": 0.15999999999999998,
          "xanchor": "center",
          "xref": "paper",
          "y": 1,
          "yanchor": "bottom",
          "yref": "paper"
         },
         {
          "font": {},
          "showarrow": false,
          "text": "surrogate=['MLPRegressor']",
          "x": 0.49999999999999994,
          "xanchor": "center",
          "xref": "paper",
          "y": 1,
          "yanchor": "bottom",
          "yref": "paper"
         },
         {
          "font": {},
          "showarrow": false,
          "text": "surrogate=['ModelsUnion', 'ModelsUnion', 'ModelsUnion']",
          "x": 0.8399999999999999,
          "xanchor": "center",
          "xref": "paper",
          "y": 1,
          "yanchor": "bottom",
          "yref": "paper"
         }
        ],
        "autosize": true,
        "legend": {
         "title": {
          "text": "objectives"
         },
         "tracegroupgap": 0
        },
        "margin": {
         "t": 60
        },
        "template": {
         "data": {
          "pie": [
           {
            "automargin": true,
            "type": "pie"
           }
          ],
          "scatter": [
           {
            "line": {
             "width": 3
            },
            "marker": {
             "size": 9
            },
            "type": "scatter"
           }
          ],
          "scatter3d": [
           {
            "line": {
             "width": 3
            },
            "marker": {
             "size": 9
            },
            "type": "scatter3d"
           }
          ],
          "scattergeo": [
           {
            "line": {
             "width": 3
            },
            "marker": {
             "size": 9
            },
            "type": "scattergeo"
           }
          ],
          "scattergl": [
           {
            "line": {
             "width": 3
            },
            "marker": {
             "size": 9
            },
            "type": "scattergl"
           }
          ],
          "scatterpolar": [
           {
            "line": {
             "width": 3
            },
            "marker": {
             "size": 9
            },
            "type": "scatterpolar"
           }
          ],
          "scatterpolargl": [
           {
            "line": {
             "width": 3
            },
            "marker": {
             "size": 9
            },
            "type": "scatterpolargl"
           }
          ],
          "scatterternary": [
           {
            "line": {
             "width": 3
            },
            "marker": {
             "size": 9
            },
            "type": "scatterternary"
           }
          ],
          "table": [
           {
            "cells": {
             "height": 30
            },
            "header": {
             "height": 36
            },
            "type": "table"
           }
          ]
         },
         "layout": {
          "font": {
           "size": 18
          },
          "xaxis": {
           "title": {
            "standoff": 15
           }
          },
          "yaxis": {
           "title": {
            "standoff": 15
           }
          }
         }
        },
        "xaxis": {
         "anchor": "y",
         "autorange": true,
         "domain": [
          0,
          0.31999999999999995
         ],
         "range": [
          18.922834584419117,
          531.0771654155809
         ],
         "title": {
          "text": "i_fevals/obj"
         },
         "type": "linear"
        },
        "xaxis2": {
         "anchor": "y2",
         "autorange": true,
         "domain": [
          0.33999999999999997,
          0.6599999999999999
         ],
         "matches": "x",
         "range": [
          18.922834584419117,
          531.0771654155809
         ],
         "title": {
          "text": "i_fevals/obj"
         },
         "type": "linear"
        },
        "xaxis3": {
         "anchor": "y3",
         "autorange": true,
         "domain": [
          0.6799999999999999,
          0.9999999999999999
         ],
         "matches": "x",
         "range": [
          18.922834584419117,
          531.0771654155809
         ],
         "title": {
          "text": "i_fevals/obj"
         },
         "type": "linear"
        },
        "yaxis": {
         "anchor": "x",
         "autorange": true,
         "domain": [
          0,
          1
         ],
         "range": [
          -10238.19766127954,
          140003.0943232287
         ],
         "title": {
          "text": "i_time"
         },
         "type": "linear"
        },
        "yaxis2": {
         "anchor": "x2",
         "autorange": true,
         "domain": [
          0,
          1
         ],
         "matches": "y",
         "range": [
          -10238.19766127954,
          140003.0943232287
         ],
         "showticklabels": false,
         "type": "linear"
        },
        "yaxis3": {
         "anchor": "x3",
         "autorange": true,
         "domain": [
          0,
          1
         ],
         "matches": "y",
         "range": [
          -10238.19766127954,
          140003.0943232287
         ],
         "showticklabels": false,
         "type": "linear"
        }
       }
      },
      "image/png": "[encoded data removed]",
      "text/html": [
       "<div>\n",
       "        \n",
       "        \n",
       "            <div id=\"0e72d2f7-7f65-4c27-9557-5b2d04ba002b\" class=\"plotly-graph-div\" style=\"height:525px; width:100%;\"></div>\n",
       "            <script type=\"text/javascript\">\n",
       "                require([\"plotly\"], function(Plotly) {\n",
       "                    window.PLOTLYENV=window.PLOTLYENV || {};\n",
       "                    \n",
       "                if (document.getElementById(\"0e72d2f7-7f65-4c27-9557-5b2d04ba002b\")) {\n",
       "                    Plotly.newPlot(\n",
       "                        '0e72d2f7-7f65-4c27-9557-5b2d04ba002b',\n",
       "                        [{\"hoverlabel\": {\"namelength\": 0}, \"hovertemplate\": \"objectives=2<br>surrogate=['GaussianProcessRegressor']<br>i_fevals/obj=%{x}<br>i_time=%{y}\", \"legendgroup\": \"2\", \"line\": {\"color\": \"#54A24B\", \"dash\": \"solid\"}, \"mode\": \"markers+lines\", \"name\": \"2\", \"showlegend\": true, \"type\": \"scatter\", \"x\": [50.0, 100.0, 150.0, 200.0, 250.0, 300.0, 350.0, 400.0, 450.0, 500.0], \"xaxis\": \"x\", \"y\": [0.020021629333496094, 92.40816593170166, 242.22594032287597, 558.7236474990844, 1027.0921051979064, 1839.5043025016785, 2633.2225101947784, 3687.1694558143618, 4986.242816734314, 6502.6447660923], \"yaxis\": \"y\"}, {\"hoverlabel\": {\"namelength\": 0}, \"hovertemplate\": \"objectives=2<br>surrogate=['MLPRegressor']<br>i_fevals/obj=%{x}<br>i_time=%{y}\", \"legendgroup\": \"2\", \"line\": {\"color\": \"#54A24B\", \"dash\": \"solid\"}, \"mode\": \"markers+lines\", \"name\": \"2\", \"showlegend\": false, \"type\": \"scatter\", \"x\": [50.0, 100.0, 150.0, 200.0, 250.0, 300.0, 350.0, 400.0, 450.0, 500.0], \"xaxis\": \"x2\", \"y\": [0.014345550537109375, 117.54732480049134, 236.18966212272645, 356.8043560504913, 479.6043167591095, 606.656602525711, 725.6758387565612, 860.9826281070709, 997.0185237407684, 1139.5988048076629], \"yaxis\": \"y2\"}, {\"hoverlabel\": {\"namelength\": 0}, \"hovertemplate\": \"objectives=2<br>surrogate=['ModelsUnion', 'ModelsUnion', 'ModelsUnion']<br>i_fevals/obj=%{x}<br>i_time=%{y}\", \"legendgroup\": \"2\", \"line\": {\"color\": \"#54A24B\", \"dash\": \"solid\"}, \"mode\": \"markers+lines\", \"name\": \"2\", \"showlegend\": false, \"type\": \"scatter\", \"x\": [50.0, 100.0, 150.0, 200.0, 250.0, 300.0, 350.0, 400.0, 450.0, 500.0], \"xaxis\": \"x3\", \"y\": [0.014070081710815429, 81.92314548492432, 159.9348065853119, 237.83756604194642, 316.1328714847565, 396.83198108673093, 479.10466675758363, 563.3362544536591, 645.1434144973755, 727.9853362083435], \"yaxis\": \"y3\"}, {\"hoverlabel\": {\"namelength\": 0}, \"hovertemplate\": \"objectives=4<br>surrogate=['GaussianProcessRegressor']<br>i_fevals/obj=%{x}<br>i_time=%{y}\", \"legendgroup\": \"4\", \"line\": {\"color\": \"#4C78A8\", \"dash\": \"solid\"}, \"mode\": \"markers+lines\", \"name\": \"4\", \"showlegend\": true, \"type\": \"scatter\", \"x\": [50.0, 100.0, 150.0, 200.0, 250.0, 300.0, 350.0, 400.0, 450.0, 500.0], \"xaxis\": \"x\", \"y\": [0.019413471221923828, 245.4096230983734, 774.9223868370057, 1775.6209349632263, 3488.417320680618, 6234.825058269501, 10141.45655784607, 15965.987260293961, 26907.260839653016, 36701.52131867409], \"yaxis\": \"y\"}, {\"hoverlabel\": {\"namelength\": 0}, \"hovertemplate\": \"objectives=4<br>surrogate=['MLPRegressor']<br>i_fevals/obj=%{x}<br>i_time=%{y}\", \"legendgroup\": \"4\", \"line\": {\"color\": \"#4C78A8\", \"dash\": \"solid\"}, \"mode\": \"markers+lines\", \"name\": \"4\", \"showlegend\": false, \"type\": \"scatter\", \"x\": [50.0, 100.0, 150.0, 200.0, 250.0, 300.0, 350.0, 400.0, 450.0, 500.0], \"xaxis\": \"x2\", \"y\": [0.018901538848876954, 277.22462978363035, 500.03988885879517, 750.2838709831237, 1058.1784160137177, 1339.9240258693694, 1632.5624105930328, 1925.4895095825195, 2252.9501093387603, 2568.018879175186], \"yaxis\": \"y2\"}, {\"hoverlabel\": {\"namelength\": 0}, \"hovertemplate\": \"objectives=4<br>surrogate=['ModelsUnion', 'ModelsUnion', 'ModelsUnion']<br>i_fevals/obj=%{x}<br>i_time=%{y}\", \"legendgroup\": \"4\", \"line\": {\"color\": \"#4C78A8\", \"dash\": \"solid\"}, \"mode\": \"markers+lines\", \"name\": \"4\", \"showlegend\": false, \"type\": \"scatter\", \"x\": [50.0, 100.0, 150.0, 200.0, 250.0, 300.0, 350.0, 400.0, 450.0, 500.0], \"xaxis\": \"x3\", \"y\": [0.019042205810546876, 541.6119029998779, 1092.9498920440674, 1640.5965072631836, 2177.5197645664216, 2725.654070806503, 3266.766887331009, 3834.296262359619, 4403.54752907753, 4966.466851139068], \"yaxis\": \"y3\"}, {\"hoverlabel\": {\"namelength\": 0}, \"hovertemplate\": \"objectives=8<br>surrogate=['GaussianProcessRegressor']<br>i_fevals/obj=%{x}<br>i_time=%{y}\", \"legendgroup\": \"8\", \"line\": {\"color\": \"#E45756\", \"dash\": \"solid\"}, \"mode\": \"markers+lines\", \"name\": \"8\", \"showlegend\": true, \"type\": \"scatter\", \"x\": [50.0, 100.0, 150.0, 200.0, 250.0, 300.0, 350.0, 400.0, 450.0, 500.0], \"xaxis\": \"x\", \"y\": [0.040278053283691405, 692.2750957012177, 2585.2853190898895, 6463.686373710632, 13973.979274368286, 24199.979858636856, 40478.18272862434, 64103.0074242115, 91858.65791430473, 129764.87724847793], \"yaxis\": \"y\"}, {\"hoverlabel\": {\"namelength\": 0}, \"hovertemplate\": \"objectives=8<br>surrogate=['MLPRegressor']<br>i_fevals/obj=%{x}<br>i_time=%{y}\", \"legendgroup\": \"8\", \"line\": {\"color\": \"#E45756\", \"dash\": \"solid\"}, \"mode\": \"markers+lines\", \"name\": \"8\", \"showlegend\": false, \"type\": \"scatter\", \"x\": [50.0, 100.0, 150.0, 200.0, 250.0, 300.0, 350.0, 400.0, 450.0, 500.0], \"xaxis\": \"x2\", \"y\": [0.05114777088165283, 1626.5847109317779, 3216.227702999115, 4701.016946220398, 6365.416968345642, 8027.3127189159395, 9649.099432277679, 11230.587455081939, 12705.125228881836, 14188.25800280571], \"yaxis\": \"y2\"}, {\"hoverlabel\": {\"namelength\": 0}, \"hovertemplate\": \"objectives=8<br>surrogate=['ModelsUnion', 'ModelsUnion', 'ModelsUnion']<br>i_fevals/obj=%{x}<br>i_time=%{y}\", \"legendgroup\": \"8\", \"line\": {\"color\": \"#E45756\", \"dash\": \"solid\"}, \"mode\": \"markers+lines\", \"name\": \"8\", \"showlegend\": false, \"type\": \"scatter\", \"x\": [50.0, 100.0, 150.0, 200.0, 250.0, 300.0, 350.0, 400.0, 450.0, 500.0], \"xaxis\": \"x3\", \"y\": [0.04814743995666504, 3770.7328107833864, 7364.754616451263, 11031.648415327072, 14825.405394411087, 18579.21573114395, 22379.033604240416, 26250.838857316972, 30072.133165550233, 33773.72447977066], \"yaxis\": \"y3\"}],\n",
       "                        {\"annotations\": [{\"font\": {}, \"showarrow\": false, \"text\": \"surrogate=['GaussianProcessRegressor']\", \"x\": 0.15999999999999998, \"xanchor\": \"center\", \"xref\": \"paper\", \"y\": 1.0, \"yanchor\": \"bottom\", \"yref\": \"paper\"}, {\"font\": {}, \"showarrow\": false, \"text\": \"surrogate=['MLPRegressor']\", \"x\": 0.49999999999999994, \"xanchor\": \"center\", \"xref\": \"paper\", \"y\": 1.0, \"yanchor\": \"bottom\", \"yref\": \"paper\"}, {\"font\": {}, \"showarrow\": false, \"text\": \"surrogate=['ModelsUnion', 'ModelsUnion', 'ModelsUnion']\", \"x\": 0.8399999999999999, \"xanchor\": \"center\", \"xref\": \"paper\", \"y\": 1.0, \"yanchor\": \"bottom\", \"yref\": \"paper\"}], \"legend\": {\"title\": {\"text\": \"objectives\"}, \"tracegroupgap\": 0}, \"margin\": {\"t\": 60}, \"template\": {\"data\": {\"pie\": [{\"automargin\": true, \"type\": \"pie\"}], \"scatter\": [{\"line\": {\"width\": 3}, \"marker\": {\"size\": 9}, \"type\": \"scatter\"}], \"scatter3d\": [{\"line\": {\"width\": 3}, \"marker\": {\"size\": 9}, \"type\": \"scatter3d\"}], \"scattergeo\": [{\"line\": {\"width\": 3}, \"marker\": {\"size\": 9}, \"type\": \"scattergeo\"}], \"scattergl\": [{\"line\": {\"width\": 3}, \"marker\": {\"size\": 9}, \"type\": \"scattergl\"}], \"scatterpolar\": [{\"line\": {\"width\": 3}, \"marker\": {\"size\": 9}, \"type\": \"scatterpolar\"}], \"scatterpolargl\": [{\"line\": {\"width\": 3}, \"marker\": {\"size\": 9}, \"type\": \"scatterpolargl\"}], \"scatterternary\": [{\"line\": {\"width\": 3}, \"marker\": {\"size\": 9}, \"type\": \"scatterternary\"}], \"table\": [{\"cells\": {\"height\": 30}, \"header\": {\"height\": 36}, \"type\": \"table\"}]}, \"layout\": {\"font\": {\"size\": 18}, \"xaxis\": {\"title\": {\"standoff\": 15}}, \"yaxis\": {\"title\": {\"standoff\": 15}}}}, \"xaxis\": {\"anchor\": \"y\", \"domain\": [0.0, 0.31999999999999995], \"title\": {\"text\": \"i_fevals/obj\"}}, \"xaxis2\": {\"anchor\": \"y2\", \"domain\": [0.33999999999999997, 0.6599999999999999], \"matches\": \"x\", \"title\": {\"text\": \"i_fevals/obj\"}}, \"xaxis3\": {\"anchor\": \"y3\", \"domain\": [0.6799999999999999, 0.9999999999999999], \"matches\": \"x\", \"title\": {\"text\": \"i_fevals/obj\"}}, \"yaxis\": {\"anchor\": \"x\", \"domain\": [0.0, 1.0], \"title\": {\"text\": \"i_time\"}}, \"yaxis2\": {\"anchor\": \"x2\", \"domain\": [0.0, 1.0], \"matches\": \"y\", \"showticklabels\": false}, \"yaxis3\": {\"anchor\": \"x3\", \"domain\": [0.0, 1.0], \"matches\": \"y\", \"showticklabels\": false}},\n",
       "                        {\"responsive\": true}\n",
       "                    ).then(function(){\n",
       "                            \n",
       "var gd = document.getElementById('0e72d2f7-7f65-4c27-9557-5b2d04ba002b');\n",
       "var x = new MutationObserver(function (mutations, observer) {{\n",
       "        var display = window.getComputedStyle(gd).display;\n",
       "        if (!display || display === 'none') {{\n",
       "            console.log([gd, 'removed!']);\n",
       "            Plotly.purge(gd);\n",
       "            observer.disconnect();\n",
       "        }}\n",
       "}});\n",
       "\n",
       "// Listen for the removal of the full notebook cells\n",
       "var notebookContainer = gd.closest('#notebook-container');\n",
       "if (notebookContainer) {{\n",
       "    x.observe(notebookContainer, {childList: true});\n",
       "}}\n",
       "\n",
       "// Listen for the clearing of the current output cell\n",
       "var outputEl = gd.closest('.output');\n",
       "if (outputEl) {{\n",
       "    x.observe(outputEl, {childList: true});\n",
       "}}\n",
       "\n",
       "                        })\n",
       "                };\n",
       "                });\n",
       "            </script>\n",
       "        </div>"
      ]
     },
     "metadata": {},
     "output_type": "display_data"
    }
   ],
   "source": [
    "grp_df.rename({'portfolio': 'surrogate'}, axis=1, inplace=True)\n",
    "grp_df.sort_values(['surrogate', 'i_fevals/obj'], inplace=True)\n",
    "fig = px.line(grp_df, template=\"presentation\",\n",
    "                 x=\"i_fevals/obj\",\n",
    "                 y=\"p_distance\",\n",
    "                 color=\"objectives\",\n",
    "                 facet_col=\"surrogate\",\n",
    "#                  color_discrete_sequence=['rgb(150,0,90)', 'rgb(0,0,200)',  'rgb(255,234,0)', 'rgb(255,111,0)', '#fe88ec', 'rgb(151,255,0)'],\n",
    "#                  color_discrete_sequence=px.colors.sequential.Rainbow, \n",
    "                 color_discrete_sequence=[ '#54A24B', '#4C78A8', '#E45756','#FF9DA6', '#B279A2', '#72B7B2'],\n",
    "#                  render_mode=\"webgl\", \n",
    "                 )\n",
    "# fig.update_layout(title=None, coloraxis_showscale=False, marker=dict(symbol='x'))\n",
    "for l in fig['data']:\n",
    "    l.update(mode='markers+lines', marker=dict(symbol='x'))\n",
    "    \n",
    "fig.show()\n",
    "\n",
    "\n",
    "\n",
    "fig2 = px.line(grp_df, template=\"presentation\",\n",
    "                  x=\"i_fevals/obj\",\n",
    "                  y=\"i_time\",\n",
    "                  color=\"objectives\",\n",
    "                  facet_col=\"surrogate\",\n",
    "#                   color_discrete_sequence=['rgb(150,0,90)', 'rgb(0,0,200)',  'rgb(255,234,0)', 'rgb(255,111,0)', '#fe88ec', 'rgb(151,255,0)'],\n",
    "#                   color_continuous_scale=px.colors.sequential.Rainbow, \n",
    "                  color_discrete_sequence=[ '#54A24B', '#4C78A8', '#E45756','#FF9DA6', '#B279A2', '#72B7B2'],\n",
    "#                   render_mode=\"webgl\", \n",
    "                  )\n",
    "\n",
    "for l in fig2['data']:\n",
    "    l.update(mode='markers+lines')\n",
    "fig2.show()\n",
    "\n",
    "fig.write_image(\"./plots/scale_DTLZ2_dist.svg\", width=1400)\n",
    "fig2.write_image(\"./plots/scale_DTLZ2_time.svg\", width=1400)"
   ]
  },
  {
   "cell_type": "code",
   "execution_count": 101,
   "metadata": {},
   "outputs": [
    {
     "data": {
      "text/plain": [
       "(Scatter({\n",
       "     'hoverlabel': {'namelength': 0},\n",
       "     'hovertemplate': (\"surrogate=['GaussianProcessReg\" ... '<br>objectives=%{marker.color}'),\n",
       "     'legendgroup': '',\n",
       "     'marker': {'color': array([2, 8, 2, 8, 8, 2, 4, 8, 2, 4, 4, 8, 4, 2, 4, 8, 2, 8, 2, 4, 2, 4, 2, 8,\n",
       "                                4, 8, 4, 2, 4, 8]),\n",
       "                'coloraxis': 'coloraxis',\n",
       "                'symbol': 'circle'},\n",
       "     'mode': 'markers',\n",
       "     'name': '',\n",
       "     'showlegend': False,\n",
       "     'x': array([ 50., 350., 400., 100., 450., 350., 450., 500., 450., 500., 250.,  50.,\n",
       "                 100., 150., 400., 300., 250., 200., 500., 300., 200., 350., 100., 150.,\n",
       "                  50., 250., 150., 300., 200., 400.]),\n",
       "     'xaxis': 'x',\n",
       "     'y': array([0.49121094, 0.36271209, 0.00200066, 0.22924562, 0.37622655, 0.00245236,\n",
       "                 0.2843282 , 0.38124488, 0.00114812, 0.27169421, 0.2493059 , 0.13536658,\n",
       "                 0.08077531, 0.0064328 , 0.29354524, 0.35302865, 0.00124482, 0.32050497,\n",
       "                 0.00181336, 0.25970798, 0.00363227, 0.28584144, 0.02247146, 0.2883741 ,\n",
       "                 0.40678628, 0.33961848, 0.16253962, 0.00123305, 0.20863163, 0.37027799]),\n",
       "     'yaxis': 'y'\n",
       " }), Scatter({\n",
       "     'hoverlabel': {'namelength': 0},\n",
       "     'hovertemplate': (\"surrogate=['MLPRegressor']<br>\" ... '<br>objectives=%{marker.color}'),\n",
       "     'legendgroup': '',\n",
       "     'marker': {'color': array([2, 4, 8, 2, 4, 8, 4, 8, 2, 4, 8, 8, 4, 2, 8, 4, 4, 2, 4, 8, 8, 4, 4, 2,\n",
       "                                2, 2, 8, 2, 2, 8]),\n",
       "                'coloraxis': 'coloraxis',\n",
       "                'symbol': 'circle'},\n",
       "     'mode': 'markers',\n",
       "     'name': '',\n",
       "     'showlegend': False,\n",
       "     'x': array([ 50., 250.,  50., 150., 150., 150.,  50., 500., 200., 200., 200., 450.,\n",
       "                 450., 500., 100., 100., 500., 350., 350., 350., 400., 300., 400., 100.,\n",
       "                 450., 300., 250., 400., 250., 300.]),\n",
       "     'xaxis': 'x2',\n",
       "     'y': array([0.49121094, 0.08749922, 0.13536658, 0.06696002, 0.13960106, 0.26485342,\n",
       "                 0.40678628, 0.3445779 , 0.03744365, 0.10489069, 0.28732178, 0.34268808,\n",
       "                 0.07833006, 0.02270979, 0.22266087, 0.23886805, 0.08075971, 0.027154  ,\n",
       "                 0.08297216, 0.33190467, 0.33791081, 0.08435536, 0.07803576, 0.12250203,\n",
       "                 0.02375196, 0.0302043 , 0.3063326 , 0.02614049, 0.02929435, 0.32065138]),\n",
       "     'yaxis': 'y2'\n",
       " }), Scatter({\n",
       "     'hoverlabel': {'namelength': 0},\n",
       "     'hovertemplate': (\"surrogate=['ModelsUnion', 'Mod\" ... '<br>objectives=%{marker.color}'),\n",
       "     'legendgroup': '',\n",
       "     'marker': {'color': array([2, 8, 4, 2, 4, 4, 2, 8, 4, 2, 8, 4, 2, 4, 8, 8, 2, 4, 8, 8, 8, 2, 2, 4,\n",
       "                                2, 4, 2, 4, 8, 8]),\n",
       "                'coloraxis': 'coloraxis',\n",
       "                'symbol': 'circle'},\n",
       "     'mode': 'markers',\n",
       "     'name': '',\n",
       "     'showlegend': False,\n",
       "     'x': array([350., 300., 300., 300., 450., 250., 250., 250., 200., 200., 150., 150.,\n",
       "                 150., 100., 100.,  50., 500., 400., 400., 450., 200., 400., 100., 500.,\n",
       "                 450., 350.,  50.,  50., 350., 500.]),\n",
       "     'xaxis': 'x3',\n",
       "     'y': array([0.0517211 , 0.33814053, 0.14011866, 0.04936425, 0.14391007, 0.15214734,\n",
       "                 0.08292479, 0.32606236, 0.16055076, 0.11169561, 0.27721422, 0.16276249,\n",
       "                 0.11137386, 0.17744169, 0.22241317, 0.13536658, 0.04032991, 0.14814779,\n",
       "                 0.3533338 , 0.35838212, 0.30785635, 0.04373436, 0.10272403, 0.13681761,\n",
       "                 0.04240821, 0.14890893, 0.49121094, 0.40678628, 0.34578483, 0.36261702]),\n",
       "     'yaxis': 'y3'\n",
       " }))"
      ]
     },
     "execution_count": 101,
     "metadata": {},
     "output_type": "execute_result"
    }
   ],
   "source": [
    "fig['data']"
   ]
  },
  {
   "cell_type": "code",
   "execution_count": 82,
   "metadata": {},
   "outputs": [
    {
     "data": {
      "text/html": [
       "<div>\n",
       "<style scoped>\n",
       "    .dataframe tbody tr th:only-of-type {\n",
       "        vertical-align: middle;\n",
       "    }\n",
       "\n",
       "    .dataframe tbody tr th {\n",
       "        vertical-align: top;\n",
       "    }\n",
       "\n",
       "    .dataframe thead th {\n",
       "        text-align: right;\n",
       "    }\n",
       "</style>\n",
       "<table border=\"1\" class=\"dataframe\">\n",
       "  <thead>\n",
       "    <tr style=\"text-align: right;\">\n",
       "      <th></th>\n",
       "      <th>i_fevals/obj</th>\n",
       "      <th>surrogate</th>\n",
       "      <th>objectives</th>\n",
       "      <th>p_distance</th>\n",
       "      <th>i_fevals</th>\n",
       "      <th>i_time</th>\n",
       "      <th>tutor_id</th>\n",
       "    </tr>\n",
       "  </thead>\n",
       "  <tbody>\n",
       "    <tr>\n",
       "      <th>0</th>\n",
       "      <td>50.0</td>\n",
       "      <td>['GaussianProcessRegressor']</td>\n",
       "      <td>2</td>\n",
       "      <td>0.491211</td>\n",
       "      <td>100.0</td>\n",
       "      <td>0.020022</td>\n",
       "      <td>1.399829e+14</td>\n",
       "    </tr>\n",
       "    <tr>\n",
       "      <th>45</th>\n",
       "      <td>300.0</td>\n",
       "      <td>['GaussianProcessRegressor']</td>\n",
       "      <td>2</td>\n",
       "      <td>0.001233</td>\n",
       "      <td>600.0</td>\n",
       "      <td>1839.504303</td>\n",
       "      <td>1.399829e+14</td>\n",
       "    </tr>\n",
       "    <tr>\n",
       "      <th>63</th>\n",
       "      <td>400.0</td>\n",
       "      <td>['GaussianProcessRegressor']</td>\n",
       "      <td>2</td>\n",
       "      <td>0.002001</td>\n",
       "      <td>800.0</td>\n",
       "      <td>3687.169456</td>\n",
       "      <td>1.399829e+14</td>\n",
       "    </tr>\n",
       "    <tr>\n",
       "      <th>38</th>\n",
       "      <td>250.0</td>\n",
       "      <td>['GaussianProcessRegressor']</td>\n",
       "      <td>8</td>\n",
       "      <td>0.339618</td>\n",
       "      <td>2000.0</td>\n",
       "      <td>13973.979274</td>\n",
       "      <td>1.399842e+14</td>\n",
       "    </tr>\n",
       "    <tr>\n",
       "      <th>74</th>\n",
       "      <td>450.0</td>\n",
       "      <td>['GaussianProcessRegressor']</td>\n",
       "      <td>8</td>\n",
       "      <td>0.376227</td>\n",
       "      <td>3600.0</td>\n",
       "      <td>91858.657914</td>\n",
       "      <td>1.399842e+14</td>\n",
       "    </tr>\n",
       "    <tr>\n",
       "      <th>...</th>\n",
       "      <td>...</td>\n",
       "      <td>...</td>\n",
       "      <td>...</td>\n",
       "      <td>...</td>\n",
       "      <td>...</td>\n",
       "      <td>...</td>\n",
       "      <td>...</td>\n",
       "    </tr>\n",
       "    <tr>\n",
       "      <th>26</th>\n",
       "      <td>150.0</td>\n",
       "      <td>['ModelsUnion', 'ModelsUnion', 'ModelsUnion']</td>\n",
       "      <td>8</td>\n",
       "      <td>0.277214</td>\n",
       "      <td>1200.0</td>\n",
       "      <td>7364.754616</td>\n",
       "      <td>1.399842e+14</td>\n",
       "    </tr>\n",
       "    <tr>\n",
       "      <th>25</th>\n",
       "      <td>150.0</td>\n",
       "      <td>['ModelsUnion', 'ModelsUnion', 'ModelsUnion']</td>\n",
       "      <td>4</td>\n",
       "      <td>0.162762</td>\n",
       "      <td>600.0</td>\n",
       "      <td>1092.949892</td>\n",
       "      <td>1.399842e+14</td>\n",
       "    </tr>\n",
       "    <tr>\n",
       "      <th>43</th>\n",
       "      <td>250.0</td>\n",
       "      <td>['ModelsUnion', 'ModelsUnion', 'ModelsUnion']</td>\n",
       "      <td>4</td>\n",
       "      <td>0.152147</td>\n",
       "      <td>1000.0</td>\n",
       "      <td>2177.519765</td>\n",
       "      <td>1.399842e+14</td>\n",
       "    </tr>\n",
       "    <tr>\n",
       "      <th>35</th>\n",
       "      <td>200.0</td>\n",
       "      <td>['ModelsUnion', 'ModelsUnion', 'ModelsUnion']</td>\n",
       "      <td>8</td>\n",
       "      <td>0.307856</td>\n",
       "      <td>1600.0</td>\n",
       "      <td>11031.648415</td>\n",
       "      <td>1.399842e+14</td>\n",
       "    </tr>\n",
       "    <tr>\n",
       "      <th>89</th>\n",
       "      <td>500.0</td>\n",
       "      <td>['ModelsUnion', 'ModelsUnion', 'ModelsUnion']</td>\n",
       "      <td>8</td>\n",
       "      <td>0.362617</td>\n",
       "      <td>4000.0</td>\n",
       "      <td>33773.724480</td>\n",
       "      <td>1.399842e+14</td>\n",
       "    </tr>\n",
       "  </tbody>\n",
       "</table>\n",
       "<p>90 rows × 7 columns</p>\n",
       "</div>"
      ],
      "text/plain": [
       "    i_fevals/obj                                      surrogate  objectives  \\\n",
       "0           50.0                   ['GaussianProcessRegressor']           2   \n",
       "45         300.0                   ['GaussianProcessRegressor']           2   \n",
       "63         400.0                   ['GaussianProcessRegressor']           2   \n",
       "38         250.0                   ['GaussianProcessRegressor']           8   \n",
       "74         450.0                   ['GaussianProcessRegressor']           8   \n",
       "..           ...                                            ...         ...   \n",
       "26         150.0  ['ModelsUnion', 'ModelsUnion', 'ModelsUnion']           8   \n",
       "25         150.0  ['ModelsUnion', 'ModelsUnion', 'ModelsUnion']           4   \n",
       "43         250.0  ['ModelsUnion', 'ModelsUnion', 'ModelsUnion']           4   \n",
       "35         200.0  ['ModelsUnion', 'ModelsUnion', 'ModelsUnion']           8   \n",
       "89         500.0  ['ModelsUnion', 'ModelsUnion', 'ModelsUnion']           8   \n",
       "\n",
       "    p_distance  i_fevals        i_time      tutor_id  \n",
       "0     0.491211     100.0      0.020022  1.399829e+14  \n",
       "45    0.001233     600.0   1839.504303  1.399829e+14  \n",
       "63    0.002001     800.0   3687.169456  1.399829e+14  \n",
       "38    0.339618    2000.0  13973.979274  1.399842e+14  \n",
       "74    0.376227    3600.0  91858.657914  1.399842e+14  \n",
       "..         ...       ...           ...           ...  \n",
       "26    0.277214    1200.0   7364.754616  1.399842e+14  \n",
       "25    0.162762     600.0   1092.949892  1.399842e+14  \n",
       "43    0.152147    1000.0   2177.519765  1.399842e+14  \n",
       "35    0.307856    1600.0  11031.648415  1.399842e+14  \n",
       "89    0.362617    4000.0  33773.724480  1.399842e+14  \n",
       "\n",
       "[90 rows x 7 columns]"
      ]
     },
     "execution_count": 82,
     "metadata": {},
     "output_type": "execute_result"
    }
   ],
   "source": [
    "grp_df"
   ]
  },
  {
   "cell_type": "code",
   "execution_count": 6,
   "metadata": {},
   "outputs": [],
   "source": [
    "# Deine problem\n",
    "DIM = 3\n",
    "ID = 2\n",
    "OBJ = 2\n",
    "\n",
    "udp = pg.wfg(prob_id=ID, dim_dvs=DIM, dim_obj=OBJ, dim_k=OBJ-1)  # == WFG\n",
    "# udp = pg.zdt(prob_id=ID, param=DIM) # == ZDT\n",
    "# udp = pg.dtlz(prob_id=4, dim=3, fdim=2) # == DTLZ\n",
    "pro = pg.problem(udp)\n"
   ]
  }
 ],
 "metadata": {
  "kernelspec": {
   "display_name": "Python 3.7.3 64-bit ('brise-env': conda)",
   "language": "python",
   "name": "python37364bitbriseenvcondaf0c7da59e5394d4a88ef41e934047c9a"
  },
  "language_info": {
   "codemirror_mode": {
    "name": "ipython",
    "version": 3
   },
   "file_extension": ".py",
   "mimetype": "text/x-python",
   "name": "python",
   "nbconvert_exporter": "python",
   "pygments_lexer": "ipython3",
   "version": "3.7.3"
  }
 },
 "nbformat": 4,
 "nbformat_minor": 4
}

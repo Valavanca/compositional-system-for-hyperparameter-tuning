{
 "cells": [
  {
   "cell_type": "markdown",
   "metadata": {},
   "source": [
    "_BaseHeterogeneousEnsemble"
   ]
  },
  {
   "cell_type": "code",
   "execution_count": 1,
   "metadata": {},
   "outputs": [
    {
     "data": {
      "text/plain": [
       "StackingRegressor(cv=None,\n",
       "                  estimators=[('ridge',\n",
       "                               RidgeCV(alphas=array([ 0.1,  1. , 10. ]),\n",
       "                                       cv=None, fit_intercept=True,\n",
       "                                       gcv_mode=None, normalize=False,\n",
       "                                       scoring=None, store_cv_values=False)),\n",
       "                              ('lasso',\n",
       "                               LassoCV(alphas=None, copy_X=True, cv=None,\n",
       "                                       eps=0.001, fit_intercept=True,\n",
       "                                       max_iter=1000, n_alphas=100, n_jobs=None,\n",
       "                                       normalize=False, positive=False,\n",
       "                                       precompute='auto', random_s...\n",
       "                                                            max_depth=3,\n",
       "                                                            max_features=None,\n",
       "                                                            max_leaf_nodes=None,\n",
       "                                                            min_impurity_decrease=0.0,\n",
       "                                                            min_impurity_split=None,\n",
       "                                                            min_samples_leaf=1,\n",
       "                                                            min_samples_split=2,\n",
       "                                                            min_weight_fraction_leaf=0.0,\n",
       "                                                            n_estimators=100,\n",
       "                                                            n_iter_no_change=None,\n",
       "                                                            presort='deprecated',\n",
       "                                                            random_state=42,\n",
       "                                                            subsample=1.0,\n",
       "                                                            tol=0.0001,\n",
       "                                                            validation_fraction=0.1,\n",
       "                                                            verbose=0,\n",
       "                                                            warm_start=False),\n",
       "                  n_jobs=None, passthrough=False, verbose=0)"
      ]
     },
     "execution_count": 1,
     "metadata": {},
     "output_type": "execute_result"
    }
   ],
   "source": [
    "from sklearn.linear_model import RidgeCV, LassoCV\n",
    "from sklearn.svm import SVR\n",
    "estimators = [('ridge', RidgeCV()),\n",
    "              ('lasso', LassoCV(random_state=42)),\n",
    "              ('svr', SVR(C=1, gamma=1e-6))]\n",
    "\n",
    "from sklearn.ensemble import GradientBoostingRegressor\n",
    "from sklearn.ensemble import StackingRegressor\n",
    "reg = StackingRegressor(\n",
    "    estimators=estimators,\n",
    "    final_estimator=GradientBoostingRegressor(random_state=42))\n",
    "\n",
    "from sklearn.datasets import load_boston\n",
    "X, y = load_boston(return_X_y=True)\n",
    "from sklearn.model_selection import train_test_split\n",
    "X_train, X_test, y_train, y_test = train_test_split(X, y,\n",
    "                                                    random_state=42)\n",
    "reg.fit(X_train, y_train)"
   ]
  },
  {
   "cell_type": "code",
   "execution_count": 2,
   "metadata": {},
   "outputs": [
    {
     "data": {
      "text/plain": [
       "'dfffff'"
      ]
     },
     "execution_count": 2,
     "metadata": {},
     "output_type": "execute_result"
    }
   ],
   "source": [
    "\"dff\" + \"fff\""
   ]
  },
  {
   "cell_type": "code",
   "execution_count": 8,
   "metadata": {},
   "outputs": [
    {
     "data": {
      "text/plain": [
       "[('ridge',\n",
       "  RidgeCV(alphas=array([ 0.1,  1. , 10. ]), cv=None, fit_intercept=True,\n",
       "          gcv_mode=None, normalize=False, scoring=None, store_cv_values=False)),\n",
       " ('lasso',\n",
       "  LassoCV(alphas=None, copy_X=True, cv=None, eps=0.001, fit_intercept=True,\n",
       "          max_iter=1000, n_alphas=100, n_jobs=None, normalize=False,\n",
       "          positive=False, precompute='auto', random_state=42, selection='cyclic',\n",
       "          tol=0.0001, verbose=False)),\n",
       " ('svr',\n",
       "  SVR(C=1, cache_size=200, coef0=0.0, degree=3, epsilon=0.1, gamma=1e-06,\n",
       "      kernel='rbf', max_iter=-1, shrinking=True, tol=0.001, verbose=False))]"
      ]
     },
     "execution_count": 8,
     "metadata": {},
     "output_type": "execute_result"
    }
   ],
   "source": [
    "reg.estimators"
   ]
  }
 ],
 "metadata": {
  "kernelspec": {
   "display_name": "Python 3.7.3 64-bit ('brise-env': conda)",
   "language": "python",
   "name": "python37364bitbriseenvcondaf0c7da59e5394d4a88ef41e934047c9a"
  },
  "language_info": {
   "codemirror_mode": {
    "name": "ipython",
    "version": 3
   },
   "file_extension": ".py",
   "mimetype": "text/x-python",
   "name": "python",
   "nbconvert_exporter": "python",
   "pygments_lexer": "ipython3",
   "version": "3.7.3"
  }
 },
 "nbformat": 4,
 "nbformat_minor": 2
}

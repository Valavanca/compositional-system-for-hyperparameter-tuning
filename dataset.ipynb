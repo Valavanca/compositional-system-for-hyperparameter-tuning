{
 "cells": [
  {
   "cell_type": "code",
   "execution_count": 1,
   "metadata": {},
   "outputs": [],
   "source": [
    "import pygmo as pg\n",
    "import numpy as np\n",
    "import pandas as pd\n",
    "import matplotlib.pyplot as plt\n",
    "\n",
    "import plotly\n",
    "from plotly import graph_objs as go\n",
    "from plotly import tools\n",
    "import plotly.express as px\n",
    "from ipywidgets import interact"
   ]
  },
  {
   "cell_type": "code",
   "execution_count": 69,
   "metadata": {},
   "outputs": [],
   "source": [
    "# --- Problem\n",
    "\n",
    "udp = pg.zdt(prob_id=4, param=12)\n",
    "pro = pg.problem(udp)"
   ]
  },
  {
   "cell_type": "code",
   "execution_count": 94,
   "metadata": {},
   "outputs": [],
   "source": [
    "from random import randrange, choice\n",
    "from collections import namedtuple\n",
    "\n",
    "def samples(problem, n=10, random=True):\n",
    "    lin = []\n",
    "    for b in zip(*problem.get_bounds()):\n",
    "        lin.append(np.linspace(b[0], b[1], 20+randrange(30), endpoint=True))\n",
    "\n",
    "    Point = namedtuple('Point', ['x{}'.format(i+1) for i in range(len(lin))])\n",
    "    table = pd.DataFrame([Point(*[choice(d) for d in lin]) for _ in range(n)])       \n",
    "    table[['f1', 'f2']] = table.apply(lambda row: pd.Series(problem.fitness(row)), axis=1) \n",
    "    \n",
    "    if random is True:\n",
    "        table['rand1'] = np.random.randint(1, 50, table.shape[0])\n",
    "        table['rand2'] = np.random.randint(1, 100, table.shape[0])\n",
    "        table['rand3'] = np.random.randint(1, 250, table.shape[0])\n",
    "        table['rand4'] = np.random.randint(1, 1000, table.shape[0])\n",
    "\n",
    "    return table"
   ]
  },
  {
   "cell_type": "code",
   "execution_count": 95,
   "metadata": {},
   "outputs": [],
   "source": [
    "samples = samples(pro, n=100)"
   ]
  },
  {
   "cell_type": "code",
   "execution_count": 174,
   "metadata": {},
   "outputs": [
    {
     "name": "stdout",
     "output_type": "stream",
     "text": [
      "Pipeline model score: 1.000\n",
      "model score: -0.098\n"
     ]
    }
   ],
   "source": [
    "from sklearn.compose import ColumnTransformer\n",
    "from sklearn.pipeline import Pipeline\n",
    "from sklearn.impute import SimpleImputer\n",
    "from sklearn.preprocessing import StandardScaler, OneHotEncoder\n",
    "from sklearn.tree import DecisionTreeClassifier, DecisionTreeRegressor, export_graphviz\n",
    "from sklearn.linear_model import BayesianRidge, LinearRegression\n",
    "from sklearn.model_selection import train_test_split, GridSearchCV\n",
    "\n",
    "from sklearn.compose import TransformedTargetRegressor\n",
    "from sklearn.linear_model import LinearRegression\n",
    "\n",
    "import sklearn.gaussian_process as gp\n",
    "from sklearn.gaussian_process.kernels import ConstantKernel, RBF, WhiteKernel, RationalQuadratic, ExpSineSquared\n",
    "# Kernel with parameters given in GPML book\n",
    "k1 = 66.0**2 * RBF(length_scale=67.0)  # long term smooth rising trend\n",
    "k2 = 2.4**2 * RBF(length_scale=90.0) \\\n",
    "    * ExpSineSquared(length_scale=1.3, periodicity=1.0)  # seasonal component\n",
    "# medium term irregularity\n",
    "k3 = 0.66**2 \\\n",
    "    * RationalQuadratic(length_scale=1.2, alpha=0.78)\n",
    "k4 = 0.18**2 * RBF(length_scale=0.134) \\\n",
    "    + WhiteKernel(noise_level=0.19**2)  # noise terms\n",
    "kernel_gpml = k1 + k3\n",
    "\n",
    "np.random.seed(0)\n",
    "\n",
    "preprocessor = Pipeline(steps=[\n",
    "    ('imputer', SimpleImputer(strategy='median')),\n",
    "    ('scaler', StandardScaler())])\n",
    "\n",
    "clf = Pipeline(steps=[('preprocessor', preprocessor),\n",
    "                      ('regressor', gp.GaussianProcessRegressor(kernel=kernel_gpml))\n",
    "                     ])\n",
    "\n",
    "X = samples.drop(['f1', 'f2'], axis=1)\n",
    "y = samples['f1']\n",
    "\n",
    "X_train, X_test, y_train, y_test = train_test_split(X, y, test_size=0.2)\n",
    "\n",
    "clf.fit(X_train, y_train)\n",
    "print(\"Pipeline model score: %.3f\" % clf.score(X_test, y_test))\n",
    "\n",
    "\n",
    "tree = gp.GaussianProcessRegressor(kernel=kernel_gpml)\n",
    "tree.fit(X_train, y_train)\n",
    "print(\"model score: %.3f\" % tree.score(X_test, y_test))\n",
    "\n",
    "\n",
    "\n",
    "# pd.DataFrame(preprocessor.transform(X_train))\n",
    "# X_train.columns\n",
    "\n"
   ]
  },
  {
   "cell_type": "code",
   "execution_count": 170,
   "metadata": {},
   "outputs": [
    {
     "name": "stdout",
     "output_type": "stream",
     "text": [
      "Feature ranking:\n"
     ]
    },
    {
     "data": {
      "image/png": "[encoded data removed]",
      "text/plain": [
       "<Figure size 1440x360 with 1 Axes>"
      ]
     },
     "metadata": {
      "needs_background": "light"
     },
     "output_type": "display_data"
    }
   ],
   "source": [
    "from sklearn.ensemble import ExtraTreesClassifier\n",
    "from sklearn.feature_selection import SelectFromModel\n",
    "\n",
    "# tree = DecisionTreeClassifier(max_depth = 3, random_state= 17)\n",
    "# tree.fit(X_train, y_train)\n",
    "\n",
    "forest = ExtraTreesClassifier(n_estimators=50)\n",
    "forest.fit(X_train, (y_train*100).astype('int'))\n",
    "# xlf.feature_importances_\n",
    "\n",
    "# Print the feature ranking\n",
    "print(\"Feature ranking:\")\n",
    "importances = forest.feature_importances_\n",
    "std = np.std([tree.feature_importances_ for tree in forest.estimators_],\n",
    "             axis=0)\n",
    "\n",
    "# Plot the feature importances of the forest\n",
    "plt.figure(figsize=(20,5))\n",
    "plt.title(\"Feature importances\")\n",
    "plt.bar(range(X_train.shape[1]), importances,\n",
    "       color=\"b\", yerr=std, align=\"center\")\n",
    "plt.xticks(range(X_train.shape[1]), X_train.columns)\n",
    "plt.xlim([-1, X_train.shape[1]])\n",
    "plt.show()\n"
   ]
  },
  {
   "cell_type": "code",
   "execution_count": 180,
   "metadata": {},
   "outputs": [
    {
     "data": {
      "text/plain": [
       "1"
      ]
     },
     "execution_count": 180,
     "metadata": {},
     "output_type": "execute_result"
    }
   ],
   "source": [
    "from sklearn.linear_model import LassoCV\n",
    "\n",
    "# We use the base estimator LassoCV since the L1 norm promotes sparsity of features.\n",
    "clf = LassoCV(cv=5)\n",
    "# Set a minimum threshold of 0.25\n",
    "sfm = SelectFromModel(clf, threshold=0.5)\n",
    "sfm.fit(X_train, y_train)\n",
    "n_features = sfm.transform(X_train).shape[1]\n",
    "\n",
    "n_features"
   ]
  }
 ],
 "metadata": {
  "kernelspec": {
   "display_name": "Python 3",
   "language": "python",
   "name": "python3"
  },
  "language_info": {
   "codemirror_mode": {
    "name": "ipython",
    "version": 3
   },
   "file_extension": ".py",
   "mimetype": "text/x-python",
   "name": "python",
   "nbconvert_exporter": "python",
   "pygments_lexer": "ipython3",
   "version": "3.7.3"
  }
 },
 "nbformat": 4,
 "nbformat_minor": 4
}
